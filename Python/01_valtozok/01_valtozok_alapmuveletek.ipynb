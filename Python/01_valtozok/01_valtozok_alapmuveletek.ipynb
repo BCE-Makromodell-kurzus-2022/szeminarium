{
 "cells": [
  {
   "cell_type": "markdown",
   "id": "5ca1bb34-89e9-408a-a0f8-4674f9a26ff8",
   "metadata": {},
   "source": [
    "# Változók típusai"
   ]
  },
  {
   "cell_type": "code",
   "execution_count": 1,
   "id": "0c16d7e1-4fc5-4bc1-a816-3d5c98415719",
   "metadata": {},
   "outputs": [],
   "source": [
    "# Kommentet kettőskereszt után lehet írni, nem lesz végrehajtva"
   ]
  },
  {
   "cell_type": "code",
   "execution_count": 2,
   "id": "776f1641-dd37-4226-90bc-46ca6a682f34",
   "metadata": {},
   "outputs": [],
   "source": [
    "# Cella végrehajtása és következő cellára ugrás Shift + Enter"
   ]
  },
  {
   "cell_type": "code",
   "execution_count": 3,
   "id": "56e6bf76-1a07-4531-a83b-1389ce2b5966",
   "metadata": {},
   "outputs": [],
   "source": [
    "# Cella végrehajtása de cellában maradás Ctrl + Enter"
   ]
  },
  {
   "cell_type": "code",
   "execution_count": 4,
   "id": "07f358b4-93b7-4fcf-8335-e289a4986322",
   "metadata": {},
   "outputs": [],
   "source": [
    "# Értékadás\n",
    "a = 5"
   ]
  },
  {
   "cell_type": "code",
   "execution_count": 5,
   "id": "ca2c6918-5374-48a6-9b41-21ff56532273",
   "metadata": {},
   "outputs": [
    {
     "data": {
      "text/plain": [
       "int"
      ]
     },
     "execution_count": 5,
     "metadata": {},
     "output_type": "execute_result"
    }
   ],
   "source": [
    "type(a)"
   ]
  },
  {
   "cell_type": "code",
   "execution_count": 6,
   "id": "c46f405d-e101-47c0-8516-927c29a8f36e",
   "metadata": {},
   "outputs": [],
   "source": [
    "b = 3.4"
   ]
  },
  {
   "cell_type": "code",
   "execution_count": 7,
   "id": "48294172-98a6-47de-b6bf-4485ee2a9997",
   "metadata": {},
   "outputs": [
    {
     "data": {
      "text/plain": [
       "float"
      ]
     },
     "execution_count": 7,
     "metadata": {},
     "output_type": "execute_result"
    }
   ],
   "source": [
    "type(b)"
   ]
  },
  {
   "cell_type": "code",
   "execution_count": 8,
   "id": "52b98ced-4241-4424-9eda-ee843466e5b0",
   "metadata": {},
   "outputs": [],
   "source": [
    "c = True"
   ]
  },
  {
   "cell_type": "code",
   "execution_count": 9,
   "id": "1845655b-d40d-438e-999e-44585a366cc2",
   "metadata": {},
   "outputs": [
    {
     "data": {
      "text/plain": [
       "bool"
      ]
     },
     "execution_count": 9,
     "metadata": {},
     "output_type": "execute_result"
    }
   ],
   "source": [
    "type(c)"
   ]
  },
  {
   "cell_type": "code",
   "execution_count": 10,
   "id": "623662c3-6c07-4ea8-97e0-d421f790e871",
   "metadata": {},
   "outputs": [],
   "source": [
    "d = False"
   ]
  },
  {
   "cell_type": "code",
   "execution_count": 11,
   "id": "a65b8ed1-0915-4b27-81b6-468d0ad6938a",
   "metadata": {},
   "outputs": [
    {
     "data": {
      "text/plain": [
       "bool"
      ]
     },
     "execution_count": 11,
     "metadata": {},
     "output_type": "execute_result"
    }
   ],
   "source": [
    "type(d)"
   ]
  },
  {
   "cell_type": "code",
   "execution_count": 12,
   "id": "6c8ab1c2-e920-4f6e-bd2b-6ba7db05c67c",
   "metadata": {},
   "outputs": [],
   "source": [
    "e = \"alma\""
   ]
  },
  {
   "cell_type": "code",
   "execution_count": 13,
   "id": "e7b3bad0-e2da-4e1a-9a30-5fff80102f86",
   "metadata": {},
   "outputs": [
    {
     "data": {
      "text/plain": [
       "str"
      ]
     },
     "execution_count": 13,
     "metadata": {},
     "output_type": "execute_result"
    }
   ],
   "source": [
    "type(e)"
   ]
  },
  {
   "cell_type": "code",
   "execution_count": 14,
   "id": "5c99ac2a-beb4-4daf-8c23-1400602e46e5",
   "metadata": {},
   "outputs": [],
   "source": [
    "f = 'narancs'"
   ]
  },
  {
   "cell_type": "code",
   "execution_count": 15,
   "id": "262b4aec-bf33-4524-9606-e02d1e6a1132",
   "metadata": {},
   "outputs": [
    {
     "data": {
      "text/plain": [
       "str"
      ]
     },
     "execution_count": 15,
     "metadata": {},
     "output_type": "execute_result"
    }
   ],
   "source": [
    "type(f)"
   ]
  },
  {
   "cell_type": "code",
   "execution_count": 16,
   "id": "486f9df0-0906-42f3-9d1b-cd7dc12ffc53",
   "metadata": {},
   "outputs": [],
   "source": [
    "# Újabb értékadás felülír\n",
    "f = 5"
   ]
  },
  {
   "cell_type": "code",
   "execution_count": 17,
   "id": "11cf4d86-9bde-4398-8b61-7148b60a560d",
   "metadata": {},
   "outputs": [
    {
     "data": {
      "text/plain": [
       "5"
      ]
     },
     "execution_count": 17,
     "metadata": {},
     "output_type": "execute_result"
    }
   ],
   "source": [
    "f"
   ]
  },
  {
   "cell_type": "code",
   "execution_count": 18,
   "id": "3d33d254-72c7-4b2d-9067-58f410c95109",
   "metadata": {},
   "outputs": [
    {
     "data": {
      "text/plain": [
       "int"
      ]
     },
     "execution_count": 18,
     "metadata": {},
     "output_type": "execute_result"
    }
   ],
   "source": [
    "type(f)"
   ]
  },
  {
   "cell_type": "code",
   "execution_count": 19,
   "id": "6a278e59-30c1-4d14-9b1a-a69368264b22",
   "metadata": {},
   "outputs": [],
   "source": [
    "# Többszörös értékadás\n",
    "g, h = 5, \"paprika\""
   ]
  },
  {
   "cell_type": "code",
   "execution_count": 20,
   "id": "7e00a7b7-6bea-4c4b-9854-92e7cf9b35b9",
   "metadata": {},
   "outputs": [
    {
     "data": {
      "text/plain": [
       "5"
      ]
     },
     "execution_count": 20,
     "metadata": {},
     "output_type": "execute_result"
    }
   ],
   "source": [
    "g"
   ]
  },
  {
   "cell_type": "code",
   "execution_count": 21,
   "id": "9aeffc66-cb87-4756-a0e0-48d34a009e5b",
   "metadata": {},
   "outputs": [
    {
     "data": {
      "text/plain": [
       "'paprika'"
      ]
     },
     "execution_count": 21,
     "metadata": {},
     "output_type": "execute_result"
    }
   ],
   "source": [
    "h"
   ]
  },
  {
   "cell_type": "code",
   "execution_count": 22,
   "id": "89f64381-df23-4fc5-8258-04c442db5343",
   "metadata": {},
   "outputs": [],
   "source": [
    "# Kiértékelés\n",
    "i = 7+4"
   ]
  },
  {
   "cell_type": "code",
   "execution_count": 23,
   "id": "50ad3cd4-71b6-4d5c-bc22-edd7fd6abc0a",
   "metadata": {},
   "outputs": [
    {
     "data": {
      "text/plain": [
       "11"
      ]
     },
     "execution_count": 23,
     "metadata": {},
     "output_type": "execute_result"
    }
   ],
   "source": [
    "i"
   ]
  },
  {
   "cell_type": "code",
   "execution_count": 24,
   "id": "587903f5-191d-4be9-87d3-c983edddd557",
   "metadata": {},
   "outputs": [],
   "source": [
    "j = i+10"
   ]
  },
  {
   "cell_type": "code",
   "execution_count": 25,
   "id": "d5b53492-fd5e-4ea0-930d-66d144c3012b",
   "metadata": {},
   "outputs": [
    {
     "data": {
      "text/plain": [
       "21"
      ]
     },
     "execution_count": 25,
     "metadata": {},
     "output_type": "execute_result"
    }
   ],
   "source": [
    "j"
   ]
  },
  {
   "cell_type": "code",
   "execution_count": 26,
   "id": "c15f35ca-0879-442a-8337-f8a505444d4c",
   "metadata": {},
   "outputs": [
    {
     "data": {
      "text/plain": [
       "int"
      ]
     },
     "execution_count": 26,
     "metadata": {},
     "output_type": "execute_result"
    }
   ],
   "source": [
    "type(j)"
   ]
  },
  {
   "cell_type": "code",
   "execution_count": 27,
   "id": "7040590c-7421-410c-8c57-7b02f6a12ff4",
   "metadata": {},
   "outputs": [],
   "source": [
    "k = j + 3.4"
   ]
  },
  {
   "cell_type": "code",
   "execution_count": 28,
   "id": "c990e8c4-702f-4a49-a5d7-3fceba38ae2d",
   "metadata": {},
   "outputs": [
    {
     "data": {
      "text/plain": [
       "24.4"
      ]
     },
     "execution_count": 28,
     "metadata": {},
     "output_type": "execute_result"
    }
   ],
   "source": [
    "k"
   ]
  },
  {
   "cell_type": "code",
   "execution_count": 29,
   "id": "f32009aa-52dc-4a8a-8e38-c4ce513c2fd6",
   "metadata": {},
   "outputs": [
    {
     "data": {
      "text/plain": [
       "float"
      ]
     },
     "execution_count": 29,
     "metadata": {},
     "output_type": "execute_result"
    }
   ],
   "source": [
    "type(k)"
   ]
  },
  {
   "cell_type": "code",
   "execution_count": 30,
   "id": "9af9fc24-7d98-44f4-ad8d-53a6aff62deb",
   "metadata": {},
   "outputs": [],
   "source": [
    "# Bonyolultabb stringek\n",
    "a = 'Ez egy szöveg \\n sortöréssel'"
   ]
  },
  {
   "cell_type": "code",
   "execution_count": 31,
   "id": "de8cfd5e-8a33-4efb-aed8-b2119a8f92a6",
   "metadata": {},
   "outputs": [
    {
     "data": {
      "text/plain": [
       "'Ez egy szöveg \\n sortöréssel'"
      ]
     },
     "execution_count": 31,
     "metadata": {},
     "output_type": "execute_result"
    }
   ],
   "source": [
    "a"
   ]
  },
  {
   "cell_type": "code",
   "execution_count": 32,
   "id": "3da22578-4dd0-4801-bb69-8be847cd90b6",
   "metadata": {},
   "outputs": [
    {
     "name": "stdout",
     "output_type": "stream",
     "text": [
      "Ez egy szöveg \n",
      " sortöréssel\n"
     ]
    }
   ],
   "source": [
    "print(a)"
   ]
  },
  {
   "cell_type": "code",
   "execution_count": 33,
   "id": "4a1b41e8-dbd3-4ad3-a784-c8e450e0d873",
   "metadata": {},
   "outputs": [],
   "source": [
    "a = '''Ez\n",
    "egy\n",
    "több\n",
    "soros\n",
    "szöveg'''"
   ]
  },
  {
   "cell_type": "code",
   "execution_count": 34,
   "id": "3027c2a3-61f2-426a-8c5d-9ee1927c327d",
   "metadata": {},
   "outputs": [
    {
     "data": {
      "text/plain": [
       "'Ez\\negy\\ntöbb\\nsoros\\nszöveg'"
      ]
     },
     "execution_count": 34,
     "metadata": {},
     "output_type": "execute_result"
    }
   ],
   "source": [
    "a"
   ]
  },
  {
   "cell_type": "code",
   "execution_count": 35,
   "id": "193fba9f-cd47-47f8-a232-fcea06b4377b",
   "metadata": {},
   "outputs": [
    {
     "name": "stdout",
     "output_type": "stream",
     "text": [
      "Ez\n",
      "egy\n",
      "több\n",
      "soros\n",
      "szöveg\n"
     ]
    }
   ],
   "source": [
    "print(a)"
   ]
  },
  {
   "cell_type": "markdown",
   "id": "469fec92-fcaf-4770-8b04-087cdb0aa4b4",
   "metadata": {},
   "source": [
    "# Alapműveletek változókkal"
   ]
  },
  {
   "cell_type": "code",
   "execution_count": 36,
   "id": "15ddd3ba-d50c-4f5b-ae0b-d0efe1f06f6a",
   "metadata": {},
   "outputs": [],
   "source": [
    "int1 = 3\n",
    "int2 = 4\n",
    "float1 = 3.2\n",
    "float2 = 5.6\n",
    "bool1 = True\n",
    "bool2 = False\n",
    "str1 = 'alma'\n",
    "str2 = 'korte'\n",
    "str3 = '5'\n",
    "str4 = '3.1'\n",
    "str5 = 'True'\n",
    "str6 = 'False'"
   ]
  },
  {
   "cell_type": "markdown",
   "id": "b8b6c2f4-4b7a-4ef6-977a-c7357b23ce47",
   "metadata": {},
   "source": [
    "## Összeadás - type függő"
   ]
  },
  {
   "cell_type": "code",
   "execution_count": 37,
   "id": "5d108678-7844-4e45-9646-917da31f0f36",
   "metadata": {},
   "outputs": [
    {
     "data": {
      "text/plain": [
       "int"
      ]
     },
     "execution_count": 37,
     "metadata": {},
     "output_type": "execute_result"
    }
   ],
   "source": [
    "a = int1+int2\n",
    "type(a)"
   ]
  },
  {
   "cell_type": "code",
   "execution_count": 38,
   "id": "8898a76f-4760-4aca-a874-83faadb083d3",
   "metadata": {},
   "outputs": [
    {
     "data": {
      "text/plain": [
       "float"
      ]
     },
     "execution_count": 38,
     "metadata": {},
     "output_type": "execute_result"
    }
   ],
   "source": [
    "a = int1+float1\n",
    "type(a)"
   ]
  },
  {
   "cell_type": "code",
   "execution_count": 39,
   "id": "c1a93ac7-7ff8-4213-9d22-c004ed6b85f1",
   "metadata": {},
   "outputs": [
    {
     "data": {
      "text/plain": [
       "int"
      ]
     },
     "execution_count": 39,
     "metadata": {},
     "output_type": "execute_result"
    }
   ],
   "source": [
    "a = int1+bool1\n",
    "type(a)"
   ]
  },
  {
   "cell_type": "code",
   "execution_count": 40,
   "id": "cce80974-d509-4b85-88e0-fe57bd6c16a2",
   "metadata": {},
   "outputs": [
    {
     "data": {
      "text/plain": [
       "4"
      ]
     },
     "execution_count": 40,
     "metadata": {},
     "output_type": "execute_result"
    }
   ],
   "source": [
    "a"
   ]
  },
  {
   "cell_type": "code",
   "execution_count": 41,
   "id": "76f689a7-10d9-4bd5-acc4-f5b8b3c89934",
   "metadata": {},
   "outputs": [
    {
     "ename": "TypeError",
     "evalue": "unsupported operand type(s) for +: 'int' and 'str'",
     "output_type": "error",
     "traceback": [
      "\u001b[0;31m---------------------------------------------------------------------------\u001b[0m",
      "\u001b[0;31mTypeError\u001b[0m                                 Traceback (most recent call last)",
      "\u001b[0;32m/tmp/ipykernel_31455/3362671871.py\u001b[0m in \u001b[0;36m<module>\u001b[0;34m\u001b[0m\n\u001b[0;32m----> 1\u001b[0;31m \u001b[0ma\u001b[0m \u001b[0;34m=\u001b[0m \u001b[0mint1\u001b[0m\u001b[0;34m+\u001b[0m\u001b[0mstr1\u001b[0m\u001b[0;34m\u001b[0m\u001b[0;34m\u001b[0m\u001b[0m\n\u001b[0m",
      "\u001b[0;31mTypeError\u001b[0m: unsupported operand type(s) for +: 'int' and 'str'"
     ]
    }
   ],
   "source": [
    "a = int1+str1"
   ]
  },
  {
   "cell_type": "code",
   "execution_count": null,
   "id": "5e4e7e26-3f61-44b3-b23a-de117350860d",
   "metadata": {},
   "outputs": [],
   "source": [
    "a = int1+str3"
   ]
  },
  {
   "cell_type": "raw",
   "id": "ff066dc2-d13c-476d-8dc1-cd536d0a9799",
   "metadata": {},
   "source": [
    "Stringet számmal nem adhatunk össze (számként reprezentált az int, float és bool), de stringeket konkatenálhatunk"
   ]
  },
  {
   "cell_type": "code",
   "execution_count": null,
   "id": "e08d5f88-18e2-4ba8-a229-f51a9e7d4809",
   "metadata": {},
   "outputs": [],
   "source": [
    "a = str1+str2"
   ]
  },
  {
   "cell_type": "code",
   "execution_count": 42,
   "id": "fbd8282f-487c-4452-931d-991d57721e62",
   "metadata": {},
   "outputs": [
    {
     "data": {
      "text/plain": [
       "4"
      ]
     },
     "execution_count": 42,
     "metadata": {},
     "output_type": "execute_result"
    }
   ],
   "source": [
    "a"
   ]
  },
  {
   "cell_type": "code",
   "execution_count": 43,
   "id": "bc83f174-a38f-4dbf-915f-a8d406b4df81",
   "metadata": {},
   "outputs": [
    {
     "data": {
      "text/plain": [
       "int"
      ]
     },
     "execution_count": 43,
     "metadata": {},
     "output_type": "execute_result"
    }
   ],
   "source": [
    "type(a)"
   ]
  },
  {
   "cell_type": "markdown",
   "id": "24f45989-8fa7-41e7-b7f7-663c606da3d9",
   "metadata": {},
   "source": [
    "## Változó transzformálás"
   ]
  },
  {
   "cell_type": "code",
   "execution_count": 44,
   "id": "cafa6b71-981f-4aa2-a5f8-4c7076eec9c2",
   "metadata": {},
   "outputs": [
    {
     "data": {
      "text/plain": [
       "5"
      ]
     },
     "execution_count": 44,
     "metadata": {},
     "output_type": "execute_result"
    }
   ],
   "source": [
    "int(str3)"
   ]
  },
  {
   "cell_type": "code",
   "execution_count": 45,
   "id": "91359562-6a2a-48cd-b30c-0a739512ebc4",
   "metadata": {},
   "outputs": [
    {
     "data": {
      "text/plain": [
       "8.2"
      ]
     },
     "execution_count": 45,
     "metadata": {},
     "output_type": "execute_result"
    }
   ],
   "source": [
    "float1 + int(str3)"
   ]
  },
  {
   "cell_type": "code",
   "execution_count": 46,
   "id": "9de8e35f-fada-4f27-a19f-e0e09a5f7f41",
   "metadata": {},
   "outputs": [
    {
     "ename": "ValueError",
     "evalue": "invalid literal for int() with base 10: '3.1'",
     "output_type": "error",
     "traceback": [
      "\u001b[0;31m---------------------------------------------------------------------------\u001b[0m",
      "\u001b[0;31mValueError\u001b[0m                                Traceback (most recent call last)",
      "\u001b[0;32m/tmp/ipykernel_31455/1836567247.py\u001b[0m in \u001b[0;36m<module>\u001b[0;34m\u001b[0m\n\u001b[0;32m----> 1\u001b[0;31m \u001b[0mfloat1\u001b[0m \u001b[0;34m+\u001b[0m \u001b[0mint\u001b[0m\u001b[0;34m(\u001b[0m\u001b[0mstr4\u001b[0m\u001b[0;34m)\u001b[0m\u001b[0;34m\u001b[0m\u001b[0;34m\u001b[0m\u001b[0m\n\u001b[0m",
      "\u001b[0;31mValueError\u001b[0m: invalid literal for int() with base 10: '3.1'"
     ]
    }
   ],
   "source": [
    "float1 + int(str4)"
   ]
  },
  {
   "cell_type": "code",
   "execution_count": 47,
   "id": "9902ebad-c3a5-4379-a577-b80c7d07dd2c",
   "metadata": {},
   "outputs": [
    {
     "data": {
      "text/plain": [
       "8.2"
      ]
     },
     "execution_count": 47,
     "metadata": {},
     "output_type": "execute_result"
    }
   ],
   "source": [
    "float1 + float(str3)"
   ]
  },
  {
   "cell_type": "code",
   "execution_count": 48,
   "id": "52fcff17-bf9f-4623-8a95-e6be1f4956b3",
   "metadata": {},
   "outputs": [
    {
     "data": {
      "text/plain": [
       "1"
      ]
     },
     "execution_count": 48,
     "metadata": {},
     "output_type": "execute_result"
    }
   ],
   "source": [
    "int(True)"
   ]
  },
  {
   "cell_type": "code",
   "execution_count": 49,
   "id": "a8ff7c70-ff61-4b45-9d26-903ac4059711",
   "metadata": {},
   "outputs": [
    {
     "data": {
      "text/plain": [
       "0"
      ]
     },
     "execution_count": 49,
     "metadata": {},
     "output_type": "execute_result"
    }
   ],
   "source": [
    "int(False)"
   ]
  },
  {
   "cell_type": "code",
   "execution_count": 50,
   "id": "436a9681-5da8-4e13-bbda-97154420b1f1",
   "metadata": {},
   "outputs": [
    {
     "data": {
      "text/plain": [
       "1.0"
      ]
     },
     "execution_count": 50,
     "metadata": {},
     "output_type": "execute_result"
    }
   ],
   "source": [
    "float(True)"
   ]
  },
  {
   "cell_type": "code",
   "execution_count": 51,
   "id": "ecd18c3d-4c93-4549-8e37-b1c0742d3244",
   "metadata": {},
   "outputs": [
    {
     "data": {
      "text/plain": [
       "0.0"
      ]
     },
     "execution_count": 51,
     "metadata": {},
     "output_type": "execute_result"
    }
   ],
   "source": [
    "float(False)"
   ]
  },
  {
   "cell_type": "code",
   "execution_count": 52,
   "id": "a834dc53-40f1-4a6b-8c3c-7896d31d2697",
   "metadata": {},
   "outputs": [
    {
     "data": {
      "text/plain": [
       "True"
      ]
     },
     "execution_count": 52,
     "metadata": {},
     "output_type": "execute_result"
    }
   ],
   "source": [
    "bool(1)"
   ]
  },
  {
   "cell_type": "code",
   "execution_count": 53,
   "id": "19a27306-f6a6-4cf3-b961-689c46363485",
   "metadata": {},
   "outputs": [
    {
     "data": {
      "text/plain": [
       "False"
      ]
     },
     "execution_count": 53,
     "metadata": {},
     "output_type": "execute_result"
    }
   ],
   "source": [
    "bool(0)"
   ]
  },
  {
   "cell_type": "code",
   "execution_count": 54,
   "id": "342057e7-07a2-4734-b23a-07c5bb3df02e",
   "metadata": {},
   "outputs": [
    {
     "data": {
      "text/plain": [
       "True"
      ]
     },
     "execution_count": 54,
     "metadata": {},
     "output_type": "execute_result"
    }
   ],
   "source": [
    "bool(10)"
   ]
  },
  {
   "cell_type": "code",
   "execution_count": 55,
   "id": "127b1128-f4c6-4c04-b6e1-f9ec5feedcbc",
   "metadata": {},
   "outputs": [
    {
     "data": {
      "text/plain": [
       "True"
      ]
     },
     "execution_count": 55,
     "metadata": {},
     "output_type": "execute_result"
    }
   ],
   "source": [
    "bool(0.5)"
   ]
  },
  {
   "cell_type": "code",
   "execution_count": 56,
   "id": "c69a44cd-0ddd-46dd-8b35-880d696bd0fc",
   "metadata": {},
   "outputs": [
    {
     "data": {
      "text/plain": [
       "True"
      ]
     },
     "execution_count": 56,
     "metadata": {},
     "output_type": "execute_result"
    }
   ],
   "source": [
    "bool(-1)"
   ]
  },
  {
   "cell_type": "code",
   "execution_count": 57,
   "id": "0594ceb7-c86a-44fd-8449-802a219535c9",
   "metadata": {},
   "outputs": [
    {
     "data": {
      "text/plain": [
       "True"
      ]
     },
     "execution_count": 57,
     "metadata": {},
     "output_type": "execute_result"
    }
   ],
   "source": [
    "bool(-4.56)"
   ]
  },
  {
   "cell_type": "code",
   "execution_count": 58,
   "id": "c2b76c11-e57d-47ab-9779-6732f1377bca",
   "metadata": {},
   "outputs": [
    {
     "data": {
      "text/plain": [
       "True"
      ]
     },
     "execution_count": 58,
     "metadata": {},
     "output_type": "execute_result"
    }
   ],
   "source": [
    "bool('alma')"
   ]
  },
  {
   "cell_type": "code",
   "execution_count": 59,
   "id": "c908c2e8-1ad2-42df-aa79-5a584e8cf4e1",
   "metadata": {},
   "outputs": [
    {
     "data": {
      "text/plain": [
       "False"
      ]
     },
     "execution_count": 59,
     "metadata": {},
     "output_type": "execute_result"
    }
   ],
   "source": [
    "bool('')"
   ]
  },
  {
   "cell_type": "code",
   "execution_count": 60,
   "id": "c76014a3-3302-4b7b-9268-d0c80c736336",
   "metadata": {},
   "outputs": [
    {
     "data": {
      "text/plain": [
       "'True'"
      ]
     },
     "execution_count": 60,
     "metadata": {},
     "output_type": "execute_result"
    }
   ],
   "source": [
    "str(True)"
   ]
  },
  {
   "cell_type": "code",
   "execution_count": 61,
   "id": "2e8cde37-a7f5-402a-ae77-b08c2a1dbd6f",
   "metadata": {},
   "outputs": [
    {
     "data": {
      "text/plain": [
       "'False'"
      ]
     },
     "execution_count": 61,
     "metadata": {},
     "output_type": "execute_result"
    }
   ],
   "source": [
    "str(False)"
   ]
  },
  {
   "cell_type": "code",
   "execution_count": 62,
   "id": "548f922e-adf9-4f89-88e9-02f064e1ca07",
   "metadata": {},
   "outputs": [
    {
     "data": {
      "text/plain": [
       "'3.4'"
      ]
     },
     "execution_count": 62,
     "metadata": {},
     "output_type": "execute_result"
    }
   ],
   "source": [
    "str(3.4)"
   ]
  },
  {
   "cell_type": "markdown",
   "id": "b3f53fa8-1b1d-4e79-8895-b37f967bf04c",
   "metadata": {},
   "source": [
    "## Kivonás"
   ]
  },
  {
   "cell_type": "raw",
   "id": "fa9dcfc1-f4d0-449d-98bc-aaa6eb651524",
   "metadata": {},
   "source": [
    "Számokkal és boolean változókkal működik gond nélkül"
   ]
  },
  {
   "cell_type": "code",
   "execution_count": 63,
   "id": "27f22dcf-a6b0-4242-b012-6ebb34c17013",
   "metadata": {},
   "outputs": [
    {
     "data": {
      "text/plain": [
       "-7.3999999999999995"
      ]
     },
     "execution_count": 63,
     "metadata": {},
     "output_type": "execute_result"
    }
   ],
   "source": [
    "float1-int2-bool1-bool2-float2"
   ]
  },
  {
   "cell_type": "raw",
   "id": "92fc9894-4faa-4ebf-aabc-b9c8a074eceb",
   "metadata": {},
   "source": [
    "Stringet, illetve stringből nem lehet kivonni"
   ]
  },
  {
   "cell_type": "code",
   "execution_count": 64,
   "id": "3181750d-2219-4326-b25d-fe4912b3094b",
   "metadata": {},
   "outputs": [
    {
     "ename": "TypeError",
     "evalue": "unsupported operand type(s) for -: 'str' and 'str'",
     "output_type": "error",
     "traceback": [
      "\u001b[0;31m---------------------------------------------------------------------------\u001b[0m",
      "\u001b[0;31mTypeError\u001b[0m                                 Traceback (most recent call last)",
      "\u001b[0;32m/tmp/ipykernel_31455/533321809.py\u001b[0m in \u001b[0;36m<module>\u001b[0;34m\u001b[0m\n\u001b[0;32m----> 1\u001b[0;31m \u001b[0mstr1\u001b[0m\u001b[0;34m-\u001b[0m\u001b[0mstr2\u001b[0m\u001b[0;34m\u001b[0m\u001b[0;34m\u001b[0m\u001b[0m\n\u001b[0m",
      "\u001b[0;31mTypeError\u001b[0m: unsupported operand type(s) for -: 'str' and 'str'"
     ]
    }
   ],
   "source": [
    "str1-str2"
   ]
  },
  {
   "cell_type": "code",
   "execution_count": 65,
   "id": "3d669510-8fc2-4a52-8f4c-f43892bc5719",
   "metadata": {},
   "outputs": [
    {
     "ename": "TypeError",
     "evalue": "unsupported operand type(s) for -: 'float' and 'str'",
     "output_type": "error",
     "traceback": [
      "\u001b[0;31m---------------------------------------------------------------------------\u001b[0m",
      "\u001b[0;31mTypeError\u001b[0m                                 Traceback (most recent call last)",
      "\u001b[0;32m/tmp/ipykernel_31455/1187642493.py\u001b[0m in \u001b[0;36m<module>\u001b[0;34m\u001b[0m\n\u001b[0;32m----> 1\u001b[0;31m \u001b[0mfloat1\u001b[0m\u001b[0;34m-\u001b[0m\u001b[0mstr1\u001b[0m\u001b[0;34m\u001b[0m\u001b[0;34m\u001b[0m\u001b[0m\n\u001b[0m",
      "\u001b[0;31mTypeError\u001b[0m: unsupported operand type(s) for -: 'float' and 'str'"
     ]
    }
   ],
   "source": [
    "float1-str1"
   ]
  },
  {
   "cell_type": "code",
   "execution_count": 66,
   "id": "c3825149-d19e-4cc1-8e03-e0e380fd58e3",
   "metadata": {},
   "outputs": [
    {
     "ename": "TypeError",
     "evalue": "unsupported operand type(s) for -: 'str' and 'float'",
     "output_type": "error",
     "traceback": [
      "\u001b[0;31m---------------------------------------------------------------------------\u001b[0m",
      "\u001b[0;31mTypeError\u001b[0m                                 Traceback (most recent call last)",
      "\u001b[0;32m/tmp/ipykernel_31455/790374843.py\u001b[0m in \u001b[0;36m<module>\u001b[0;34m\u001b[0m\n\u001b[0;32m----> 1\u001b[0;31m \u001b[0mstr1\u001b[0m\u001b[0;34m-\u001b[0m\u001b[0mfloat1\u001b[0m\u001b[0;34m\u001b[0m\u001b[0;34m\u001b[0m\u001b[0m\n\u001b[0m",
      "\u001b[0;31mTypeError\u001b[0m: unsupported operand type(s) for -: 'str' and 'float'"
     ]
    }
   ],
   "source": [
    "str1-float1"
   ]
  },
  {
   "cell_type": "code",
   "execution_count": 67,
   "id": "020419f0-9e89-4278-851e-0e2deea55a58",
   "metadata": {},
   "outputs": [
    {
     "ename": "TypeError",
     "evalue": "unsupported operand type(s) for -: 'int' and 'str'",
     "output_type": "error",
     "traceback": [
      "\u001b[0;31m---------------------------------------------------------------------------\u001b[0m",
      "\u001b[0;31mTypeError\u001b[0m                                 Traceback (most recent call last)",
      "\u001b[0;32m/tmp/ipykernel_31455/2973981053.py\u001b[0m in \u001b[0;36m<module>\u001b[0;34m\u001b[0m\n\u001b[0;32m----> 1\u001b[0;31m \u001b[0mint1\u001b[0m\u001b[0;34m-\u001b[0m\u001b[0mstr1\u001b[0m\u001b[0;34m\u001b[0m\u001b[0;34m\u001b[0m\u001b[0m\n\u001b[0m",
      "\u001b[0;31mTypeError\u001b[0m: unsupported operand type(s) for -: 'int' and 'str'"
     ]
    }
   ],
   "source": [
    "int1-str1"
   ]
  },
  {
   "cell_type": "code",
   "execution_count": 68,
   "id": "0f786140-e388-4ad2-9201-52fa87d28535",
   "metadata": {},
   "outputs": [
    {
     "ename": "TypeError",
     "evalue": "unsupported operand type(s) for -: 'str' and 'int'",
     "output_type": "error",
     "traceback": [
      "\u001b[0;31m---------------------------------------------------------------------------\u001b[0m",
      "\u001b[0;31mTypeError\u001b[0m                                 Traceback (most recent call last)",
      "\u001b[0;32m/tmp/ipykernel_31455/2808133596.py\u001b[0m in \u001b[0;36m<module>\u001b[0;34m\u001b[0m\n\u001b[0;32m----> 1\u001b[0;31m \u001b[0mstr1\u001b[0m\u001b[0;34m-\u001b[0m\u001b[0mint1\u001b[0m\u001b[0;34m\u001b[0m\u001b[0;34m\u001b[0m\u001b[0m\n\u001b[0m",
      "\u001b[0;31mTypeError\u001b[0m: unsupported operand type(s) for -: 'str' and 'int'"
     ]
    }
   ],
   "source": [
    "str1-int1"
   ]
  },
  {
   "cell_type": "code",
   "execution_count": 69,
   "id": "e10330ad-2e63-432a-9d2d-9bbf5492b509",
   "metadata": {},
   "outputs": [
    {
     "ename": "TypeError",
     "evalue": "unsupported operand type(s) for -: 'bool' and 'str'",
     "output_type": "error",
     "traceback": [
      "\u001b[0;31m---------------------------------------------------------------------------\u001b[0m",
      "\u001b[0;31mTypeError\u001b[0m                                 Traceback (most recent call last)",
      "\u001b[0;32m/tmp/ipykernel_31455/3363146139.py\u001b[0m in \u001b[0;36m<module>\u001b[0;34m\u001b[0m\n\u001b[0;32m----> 1\u001b[0;31m \u001b[0mbool1\u001b[0m\u001b[0;34m-\u001b[0m\u001b[0mstr1\u001b[0m\u001b[0;34m\u001b[0m\u001b[0;34m\u001b[0m\u001b[0m\n\u001b[0m",
      "\u001b[0;31mTypeError\u001b[0m: unsupported operand type(s) for -: 'bool' and 'str'"
     ]
    }
   ],
   "source": [
    "bool1-str1"
   ]
  },
  {
   "cell_type": "code",
   "execution_count": 70,
   "id": "52259fcb-547a-4871-a504-dacd8e3f520b",
   "metadata": {},
   "outputs": [
    {
     "ename": "TypeError",
     "evalue": "unsupported operand type(s) for -: 'str' and 'bool'",
     "output_type": "error",
     "traceback": [
      "\u001b[0;31m---------------------------------------------------------------------------\u001b[0m",
      "\u001b[0;31mTypeError\u001b[0m                                 Traceback (most recent call last)",
      "\u001b[0;32m/tmp/ipykernel_31455/2286599795.py\u001b[0m in \u001b[0;36m<module>\u001b[0;34m\u001b[0m\n\u001b[0;32m----> 1\u001b[0;31m \u001b[0mstr1\u001b[0m\u001b[0;34m-\u001b[0m\u001b[0mbool1\u001b[0m\u001b[0;34m\u001b[0m\u001b[0;34m\u001b[0m\u001b[0m\n\u001b[0m",
      "\u001b[0;31mTypeError\u001b[0m: unsupported operand type(s) for -: 'str' and 'bool'"
     ]
    }
   ],
   "source": [
    "str1-bool1"
   ]
  },
  {
   "cell_type": "markdown",
   "id": "6cecf21c-dfd1-46b5-bdaf-2e674c63c8cb",
   "metadata": {},
   "source": [
    "## Szorzás"
   ]
  },
  {
   "cell_type": "code",
   "execution_count": 71,
   "id": "269d4d97-1e4d-4bc9-bd66-518b69f9c9e9",
   "metadata": {},
   "outputs": [
    {
     "data": {
      "text/plain": [
       "12"
      ]
     },
     "execution_count": 71,
     "metadata": {},
     "output_type": "execute_result"
    }
   ],
   "source": [
    "int1*int2"
   ]
  },
  {
   "cell_type": "code",
   "execution_count": 72,
   "id": "0f68e5cc-949f-4265-af45-95f63eaba336",
   "metadata": {},
   "outputs": [
    {
     "data": {
      "text/plain": [
       "9.600000000000001"
      ]
     },
     "execution_count": 72,
     "metadata": {},
     "output_type": "execute_result"
    }
   ],
   "source": [
    "int1*float1"
   ]
  },
  {
   "cell_type": "raw",
   "id": "99055720-e43e-4400-8880-11dcf165d338",
   "metadata": {},
   "source": [
    "Látható, hogy a számítógép közelíti az eredményt, nem feltétlenül pontos. Az úgynevezett computer precision hardver és beállításfüggő."
   ]
  },
  {
   "cell_type": "code",
   "execution_count": 73,
   "id": "b5edeb94-85ff-4628-a037-324c30c56e1e",
   "metadata": {},
   "outputs": [
    {
     "data": {
      "text/plain": [
       "17.919999999999998"
      ]
     },
     "execution_count": 73,
     "metadata": {},
     "output_type": "execute_result"
    }
   ],
   "source": [
    "float1*float2"
   ]
  },
  {
   "cell_type": "code",
   "execution_count": 74,
   "id": "79498b0e-1f30-4598-9234-495f5d6e02c5",
   "metadata": {},
   "outputs": [
    {
     "data": {
      "text/plain": [
       "3"
      ]
     },
     "execution_count": 74,
     "metadata": {},
     "output_type": "execute_result"
    }
   ],
   "source": [
    "int1*bool1"
   ]
  },
  {
   "cell_type": "code",
   "execution_count": 75,
   "id": "47b338de-6241-43bf-98c7-be29639a2228",
   "metadata": {},
   "outputs": [
    {
     "data": {
      "text/plain": [
       "0"
      ]
     },
     "execution_count": 75,
     "metadata": {},
     "output_type": "execute_result"
    }
   ],
   "source": [
    "int1*bool2"
   ]
  },
  {
   "cell_type": "code",
   "execution_count": 76,
   "id": "89a45605-78ea-424b-ab12-f7bb8cfff1c6",
   "metadata": {},
   "outputs": [
    {
     "data": {
      "text/plain": [
       "3.2"
      ]
     },
     "execution_count": 76,
     "metadata": {},
     "output_type": "execute_result"
    }
   ],
   "source": [
    "float1*bool1"
   ]
  },
  {
   "cell_type": "code",
   "execution_count": 77,
   "id": "648fd283-896c-47a8-ae05-834ffb64c2dd",
   "metadata": {},
   "outputs": [
    {
     "data": {
      "text/plain": [
       "0.0"
      ]
     },
     "execution_count": 77,
     "metadata": {},
     "output_type": "execute_result"
    }
   ],
   "source": [
    "float1*bool2"
   ]
  },
  {
   "cell_type": "code",
   "execution_count": 78,
   "id": "a1ab6362-d2f1-4b17-abfb-6151d7746ecb",
   "metadata": {},
   "outputs": [
    {
     "ename": "TypeError",
     "evalue": "can't multiply sequence by non-int of type 'str'",
     "output_type": "error",
     "traceback": [
      "\u001b[0;31m---------------------------------------------------------------------------\u001b[0m",
      "\u001b[0;31mTypeError\u001b[0m                                 Traceback (most recent call last)",
      "\u001b[0;32m/tmp/ipykernel_31455/4199405932.py\u001b[0m in \u001b[0;36m<module>\u001b[0;34m\u001b[0m\n\u001b[0;32m----> 1\u001b[0;31m \u001b[0mstr1\u001b[0m\u001b[0;34m*\u001b[0m\u001b[0mstr2\u001b[0m\u001b[0;34m\u001b[0m\u001b[0;34m\u001b[0m\u001b[0m\n\u001b[0m",
      "\u001b[0;31mTypeError\u001b[0m: can't multiply sequence by non-int of type 'str'"
     ]
    }
   ],
   "source": [
    "str1*str2"
   ]
  },
  {
   "cell_type": "code",
   "execution_count": 79,
   "id": "c9498f2a-ea12-4490-8027-879c45ab9368",
   "metadata": {},
   "outputs": [
    {
     "data": {
      "text/plain": [
       "'alma'"
      ]
     },
     "execution_count": 79,
     "metadata": {},
     "output_type": "execute_result"
    }
   ],
   "source": [
    "str1*bool1"
   ]
  },
  {
   "cell_type": "code",
   "execution_count": 80,
   "id": "55bad660-27d5-4595-aab5-b03d23c99ebf",
   "metadata": {},
   "outputs": [
    {
     "data": {
      "text/plain": [
       "''"
      ]
     },
     "execution_count": 80,
     "metadata": {},
     "output_type": "execute_result"
    }
   ],
   "source": [
    "str1*bool2"
   ]
  },
  {
   "cell_type": "code",
   "execution_count": 81,
   "id": "2ab3592b-7696-40b5-a756-ebc7dfa21748",
   "metadata": {},
   "outputs": [
    {
     "data": {
      "text/plain": [
       "'almaalmaalma'"
      ]
     },
     "execution_count": 81,
     "metadata": {},
     "output_type": "execute_result"
    }
   ],
   "source": [
    "str1*int1"
   ]
  },
  {
   "cell_type": "code",
   "execution_count": 82,
   "id": "5ecded94-4c4f-4fd8-b383-e7f725873198",
   "metadata": {},
   "outputs": [
    {
     "data": {
      "text/plain": [
       "'almaalmaalma'"
      ]
     },
     "execution_count": 82,
     "metadata": {},
     "output_type": "execute_result"
    }
   ],
   "source": [
    "int1*str1"
   ]
  },
  {
   "cell_type": "code",
   "execution_count": 83,
   "id": "35d781b4-7e63-4de5-9315-48b7654d7313",
   "metadata": {},
   "outputs": [
    {
     "ename": "TypeError",
     "evalue": "can't multiply sequence by non-int of type 'float'",
     "output_type": "error",
     "traceback": [
      "\u001b[0;31m---------------------------------------------------------------------------\u001b[0m",
      "\u001b[0;31mTypeError\u001b[0m                                 Traceback (most recent call last)",
      "\u001b[0;32m/tmp/ipykernel_31455/4192844329.py\u001b[0m in \u001b[0;36m<module>\u001b[0;34m\u001b[0m\n\u001b[0;32m----> 1\u001b[0;31m \u001b[0mstr1\u001b[0m\u001b[0;34m*\u001b[0m\u001b[0mfloat1\u001b[0m\u001b[0;34m\u001b[0m\u001b[0;34m\u001b[0m\u001b[0m\n\u001b[0m",
      "\u001b[0;31mTypeError\u001b[0m: can't multiply sequence by non-int of type 'float'"
     ]
    }
   ],
   "source": [
    "str1*float1"
   ]
  },
  {
   "cell_type": "raw",
   "id": "99332017-9592-47b7-be7f-4be1b0422755",
   "metadata": {},
   "source": [
    "String csak integerrel szorozható, a bool integerként reprezentált, így működik."
   ]
  },
  {
   "cell_type": "markdown",
   "id": "1568f7ea-affb-44c1-b49b-193ec5b6d1d2",
   "metadata": {},
   "source": [
    "## Osztás"
   ]
  },
  {
   "cell_type": "code",
   "execution_count": 84,
   "id": "0c48d779-643f-474c-b704-32d63a6aceb5",
   "metadata": {},
   "outputs": [
    {
     "data": {
      "text/plain": [
       "0.75"
      ]
     },
     "execution_count": 84,
     "metadata": {},
     "output_type": "execute_result"
    }
   ],
   "source": [
    "int1/int2"
   ]
  },
  {
   "cell_type": "code",
   "execution_count": 85,
   "id": "9c0f8657-0ae2-4a3c-8611-cc8fbf440527",
   "metadata": {},
   "outputs": [
    {
     "data": {
      "text/plain": [
       "0.5714285714285715"
      ]
     },
     "execution_count": 85,
     "metadata": {},
     "output_type": "execute_result"
    }
   ],
   "source": [
    "float1/float2"
   ]
  },
  {
   "cell_type": "code",
   "execution_count": 86,
   "id": "868d8345-f45b-47e0-845b-a02f0bcec3c5",
   "metadata": {},
   "outputs": [
    {
     "data": {
      "text/plain": [
       "0.9375"
      ]
     },
     "execution_count": 86,
     "metadata": {},
     "output_type": "execute_result"
    }
   ],
   "source": [
    "int1/float1"
   ]
  },
  {
   "cell_type": "code",
   "execution_count": 87,
   "id": "560099ab-1777-4edd-9d01-760a585be376",
   "metadata": {},
   "outputs": [
    {
     "data": {
      "text/plain": [
       "1.0666666666666667"
      ]
     },
     "execution_count": 87,
     "metadata": {},
     "output_type": "execute_result"
    }
   ],
   "source": [
    "float1/int1"
   ]
  },
  {
   "cell_type": "code",
   "execution_count": 88,
   "id": "36aa967e-6907-4c5a-a83d-ba900ed30d12",
   "metadata": {},
   "outputs": [
    {
     "data": {
      "text/plain": [
       "3.0"
      ]
     },
     "execution_count": 88,
     "metadata": {},
     "output_type": "execute_result"
    }
   ],
   "source": [
    "int1/bool1"
   ]
  },
  {
   "cell_type": "code",
   "execution_count": 89,
   "id": "0c4d11e9-fcd7-4e96-b9c5-e9dd7d777f24",
   "metadata": {},
   "outputs": [
    {
     "ename": "ZeroDivisionError",
     "evalue": "division by zero",
     "output_type": "error",
     "traceback": [
      "\u001b[0;31m---------------------------------------------------------------------------\u001b[0m",
      "\u001b[0;31mZeroDivisionError\u001b[0m                         Traceback (most recent call last)",
      "\u001b[0;32m/tmp/ipykernel_31455/14314200.py\u001b[0m in \u001b[0;36m<module>\u001b[0;34m\u001b[0m\n\u001b[0;32m----> 1\u001b[0;31m \u001b[0mint1\u001b[0m\u001b[0;34m/\u001b[0m\u001b[0mbool2\u001b[0m\u001b[0;34m\u001b[0m\u001b[0;34m\u001b[0m\u001b[0m\n\u001b[0m",
      "\u001b[0;31mZeroDivisionError\u001b[0m: division by zero"
     ]
    }
   ],
   "source": [
    "int1/bool2"
   ]
  },
  {
   "cell_type": "code",
   "execution_count": 90,
   "id": "1ed25366-b2d0-45b9-82a9-bf04f709e4a2",
   "metadata": {},
   "outputs": [
    {
     "data": {
      "text/plain": [
       "3.2"
      ]
     },
     "execution_count": 90,
     "metadata": {},
     "output_type": "execute_result"
    }
   ],
   "source": [
    "float1/bool1"
   ]
  },
  {
   "cell_type": "code",
   "execution_count": 91,
   "id": "5fe6bff6-b006-4ea2-a2d0-9062fb2ec8da",
   "metadata": {},
   "outputs": [
    {
     "ename": "ZeroDivisionError",
     "evalue": "float division by zero",
     "output_type": "error",
     "traceback": [
      "\u001b[0;31m---------------------------------------------------------------------------\u001b[0m",
      "\u001b[0;31mZeroDivisionError\u001b[0m                         Traceback (most recent call last)",
      "\u001b[0;32m/tmp/ipykernel_31455/911925175.py\u001b[0m in \u001b[0;36m<module>\u001b[0;34m\u001b[0m\n\u001b[0;32m----> 1\u001b[0;31m \u001b[0mfloat1\u001b[0m\u001b[0;34m/\u001b[0m\u001b[0mbool2\u001b[0m\u001b[0;34m\u001b[0m\u001b[0;34m\u001b[0m\u001b[0m\n\u001b[0m",
      "\u001b[0;31mZeroDivisionError\u001b[0m: float division by zero"
     ]
    }
   ],
   "source": [
    "float1/bool2"
   ]
  },
  {
   "cell_type": "code",
   "execution_count": 92,
   "id": "9052db42-bd52-441f-b9ca-00b5eb853143",
   "metadata": {},
   "outputs": [
    {
     "data": {
      "text/plain": [
       "0.3333333333333333"
      ]
     },
     "execution_count": 92,
     "metadata": {},
     "output_type": "execute_result"
    }
   ],
   "source": [
    "bool1/int1"
   ]
  },
  {
   "cell_type": "code",
   "execution_count": 93,
   "id": "0d63fe86-66c4-4baa-a553-4019595bebd8",
   "metadata": {},
   "outputs": [
    {
     "data": {
      "text/plain": [
       "0.0"
      ]
     },
     "execution_count": 93,
     "metadata": {},
     "output_type": "execute_result"
    }
   ],
   "source": [
    "bool2/float1"
   ]
  },
  {
   "cell_type": "raw",
   "id": "9265021f-2f54-49e2-aab3-cd1575621b60",
   "metadata": {},
   "source": [
    "Stringet nem lehet osztani és nem lehet osztó."
   ]
  },
  {
   "cell_type": "code",
   "execution_count": 94,
   "id": "fbfe5628-f1b1-4d50-88ca-57399e5431c0",
   "metadata": {},
   "outputs": [
    {
     "ename": "TypeError",
     "evalue": "unsupported operand type(s) for /: 'int' and 'str'",
     "output_type": "error",
     "traceback": [
      "\u001b[0;31m---------------------------------------------------------------------------\u001b[0m",
      "\u001b[0;31mTypeError\u001b[0m                                 Traceback (most recent call last)",
      "\u001b[0;32m/tmp/ipykernel_31455/698043087.py\u001b[0m in \u001b[0;36m<module>\u001b[0;34m\u001b[0m\n\u001b[0;32m----> 1\u001b[0;31m \u001b[0mint1\u001b[0m\u001b[0;34m/\u001b[0m\u001b[0mstr1\u001b[0m\u001b[0;34m\u001b[0m\u001b[0;34m\u001b[0m\u001b[0m\n\u001b[0m",
      "\u001b[0;31mTypeError\u001b[0m: unsupported operand type(s) for /: 'int' and 'str'"
     ]
    }
   ],
   "source": [
    "int1/str1"
   ]
  },
  {
   "cell_type": "code",
   "execution_count": 95,
   "id": "71e8feec-466b-4561-8fd9-62b2c22a126f",
   "metadata": {},
   "outputs": [
    {
     "ename": "TypeError",
     "evalue": "unsupported operand type(s) for /: 'str' and 'int'",
     "output_type": "error",
     "traceback": [
      "\u001b[0;31m---------------------------------------------------------------------------\u001b[0m",
      "\u001b[0;31mTypeError\u001b[0m                                 Traceback (most recent call last)",
      "\u001b[0;32m/tmp/ipykernel_31455/2323581952.py\u001b[0m in \u001b[0;36m<module>\u001b[0;34m\u001b[0m\n\u001b[0;32m----> 1\u001b[0;31m \u001b[0mstr1\u001b[0m\u001b[0;34m/\u001b[0m\u001b[0mint1\u001b[0m\u001b[0;34m\u001b[0m\u001b[0;34m\u001b[0m\u001b[0m\n\u001b[0m",
      "\u001b[0;31mTypeError\u001b[0m: unsupported operand type(s) for /: 'str' and 'int'"
     ]
    }
   ],
   "source": [
    "str1/int1"
   ]
  },
  {
   "cell_type": "code",
   "execution_count": 96,
   "id": "bee7e5cf-a9c5-463a-8b2c-e7cd3f400833",
   "metadata": {},
   "outputs": [
    {
     "ename": "TypeError",
     "evalue": "unsupported operand type(s) for /: 'float' and 'str'",
     "output_type": "error",
     "traceback": [
      "\u001b[0;31m---------------------------------------------------------------------------\u001b[0m",
      "\u001b[0;31mTypeError\u001b[0m                                 Traceback (most recent call last)",
      "\u001b[0;32m/tmp/ipykernel_31455/2218432358.py\u001b[0m in \u001b[0;36m<module>\u001b[0;34m\u001b[0m\n\u001b[0;32m----> 1\u001b[0;31m \u001b[0mfloat1\u001b[0m\u001b[0;34m/\u001b[0m\u001b[0mstr1\u001b[0m\u001b[0;34m\u001b[0m\u001b[0;34m\u001b[0m\u001b[0m\n\u001b[0m",
      "\u001b[0;31mTypeError\u001b[0m: unsupported operand type(s) for /: 'float' and 'str'"
     ]
    }
   ],
   "source": [
    "float1/str1"
   ]
  },
  {
   "cell_type": "code",
   "execution_count": 97,
   "id": "f3a174e6-9a3f-4223-a383-7013fade28d2",
   "metadata": {},
   "outputs": [
    {
     "ename": "TypeError",
     "evalue": "unsupported operand type(s) for /: 'str' and 'float'",
     "output_type": "error",
     "traceback": [
      "\u001b[0;31m---------------------------------------------------------------------------\u001b[0m",
      "\u001b[0;31mTypeError\u001b[0m                                 Traceback (most recent call last)",
      "\u001b[0;32m/tmp/ipykernel_31455/2050698186.py\u001b[0m in \u001b[0;36m<module>\u001b[0;34m\u001b[0m\n\u001b[0;32m----> 1\u001b[0;31m \u001b[0mstr1\u001b[0m\u001b[0;34m/\u001b[0m\u001b[0mfloat1\u001b[0m\u001b[0;34m\u001b[0m\u001b[0;34m\u001b[0m\u001b[0m\n\u001b[0m",
      "\u001b[0;31mTypeError\u001b[0m: unsupported operand type(s) for /: 'str' and 'float'"
     ]
    }
   ],
   "source": [
    "str1/float1"
   ]
  },
  {
   "cell_type": "code",
   "execution_count": 98,
   "id": "f9084bc4-f288-44cd-a66d-49fc60fa6045",
   "metadata": {},
   "outputs": [
    {
     "ename": "TypeError",
     "evalue": "unsupported operand type(s) for /: 'bool' and 'str'",
     "output_type": "error",
     "traceback": [
      "\u001b[0;31m---------------------------------------------------------------------------\u001b[0m",
      "\u001b[0;31mTypeError\u001b[0m                                 Traceback (most recent call last)",
      "\u001b[0;32m/tmp/ipykernel_31455/2166117422.py\u001b[0m in \u001b[0;36m<module>\u001b[0;34m\u001b[0m\n\u001b[0;32m----> 1\u001b[0;31m \u001b[0mbool1\u001b[0m\u001b[0;34m/\u001b[0m\u001b[0mstr1\u001b[0m\u001b[0;34m\u001b[0m\u001b[0;34m\u001b[0m\u001b[0m\n\u001b[0m",
      "\u001b[0;31mTypeError\u001b[0m: unsupported operand type(s) for /: 'bool' and 'str'"
     ]
    }
   ],
   "source": [
    "bool1/str1"
   ]
  },
  {
   "cell_type": "code",
   "execution_count": 99,
   "id": "55cc0fdb-fafd-4d7f-b62f-9d3cc6f8c88b",
   "metadata": {},
   "outputs": [
    {
     "ename": "TypeError",
     "evalue": "unsupported operand type(s) for /: 'str' and 'bool'",
     "output_type": "error",
     "traceback": [
      "\u001b[0;31m---------------------------------------------------------------------------\u001b[0m",
      "\u001b[0;31mTypeError\u001b[0m                                 Traceback (most recent call last)",
      "\u001b[0;32m/tmp/ipykernel_31455/1210716140.py\u001b[0m in \u001b[0;36m<module>\u001b[0;34m\u001b[0m\n\u001b[0;32m----> 1\u001b[0;31m \u001b[0mstr1\u001b[0m\u001b[0;34m/\u001b[0m\u001b[0mbool1\u001b[0m\u001b[0;34m\u001b[0m\u001b[0;34m\u001b[0m\u001b[0m\n\u001b[0m",
      "\u001b[0;31mTypeError\u001b[0m: unsupported operand type(s) for /: 'str' and 'bool'"
     ]
    }
   ],
   "source": [
    "str1/bool1"
   ]
  },
  {
   "cell_type": "markdown",
   "id": "ef3df476-035d-41fc-a70d-e59f1bb2c06d",
   "metadata": {},
   "source": [
    "## Hatványozás"
   ]
  },
  {
   "cell_type": "code",
   "execution_count": 100,
   "id": "afb9db88-0526-4b7b-89db-27200f6d3c9e",
   "metadata": {},
   "outputs": [
    {
     "data": {
      "text/plain": [
       "32.76800000000001"
      ]
     },
     "execution_count": 100,
     "metadata": {},
     "output_type": "execute_result"
    }
   ],
   "source": [
    "float1**int1"
   ]
  },
  {
   "cell_type": "code",
   "execution_count": 101,
   "id": "e1cdfff0-133b-4d19-ab23-9b3fafd0cc08",
   "metadata": {},
   "outputs": [
    {
     "data": {
      "text/plain": [
       "32.76800000000001"
      ]
     },
     "execution_count": 101,
     "metadata": {},
     "output_type": "execute_result"
    }
   ],
   "source": [
    "pow(float1,int1)"
   ]
  },
  {
   "cell_type": "code",
   "execution_count": 102,
   "id": "f23c2237-cb17-4a02-b798-509af8f26ae7",
   "metadata": {},
   "outputs": [
    {
     "data": {
      "text/plain": [
       "33.63473536961897"
      ]
     },
     "execution_count": 102,
     "metadata": {},
     "output_type": "execute_result"
    }
   ],
   "source": [
    "int1**float1"
   ]
  },
  {
   "cell_type": "code",
   "execution_count": 103,
   "id": "f9edddb9-b8c9-4e16-8bda-7ec9c8161434",
   "metadata": {},
   "outputs": [
    {
     "data": {
      "text/plain": [
       "1.0"
      ]
     },
     "execution_count": 103,
     "metadata": {},
     "output_type": "execute_result"
    }
   ],
   "source": [
    "float2**bool2"
   ]
  },
  {
   "cell_type": "raw",
   "id": "8ae035b5-34f1-4bab-aca1-eed600fb9ad4",
   "metadata": {},
   "source": [
    "Stringet nem hatványozunk és nem lehet kitevő."
   ]
  },
  {
   "cell_type": "code",
   "execution_count": 104,
   "id": "228028cc-a060-43fc-836a-3e3ca1e75322",
   "metadata": {},
   "outputs": [
    {
     "ename": "TypeError",
     "evalue": "unsupported operand type(s) for ** or pow(): 'str' and 'int'",
     "output_type": "error",
     "traceback": [
      "\u001b[0;31m---------------------------------------------------------------------------\u001b[0m",
      "\u001b[0;31mTypeError\u001b[0m                                 Traceback (most recent call last)",
      "\u001b[0;32m/tmp/ipykernel_31455/3127011896.py\u001b[0m in \u001b[0;36m<module>\u001b[0;34m\u001b[0m\n\u001b[0;32m----> 1\u001b[0;31m \u001b[0mstr1\u001b[0m\u001b[0;34m**\u001b[0m\u001b[0;36m3\u001b[0m\u001b[0;34m\u001b[0m\u001b[0;34m\u001b[0m\u001b[0m\n\u001b[0m",
      "\u001b[0;31mTypeError\u001b[0m: unsupported operand type(s) for ** or pow(): 'str' and 'int'"
     ]
    }
   ],
   "source": [
    "str1**3"
   ]
  },
  {
   "cell_type": "code",
   "execution_count": 105,
   "id": "a414d3b1-ca0c-44a5-94af-ba013656de6d",
   "metadata": {},
   "outputs": [
    {
     "ename": "TypeError",
     "evalue": "unsupported operand type(s) for ** or pow(): 'int' and 'str'",
     "output_type": "error",
     "traceback": [
      "\u001b[0;31m---------------------------------------------------------------------------\u001b[0m",
      "\u001b[0;31mTypeError\u001b[0m                                 Traceback (most recent call last)",
      "\u001b[0;32m/tmp/ipykernel_31455/1721925106.py\u001b[0m in \u001b[0;36m<module>\u001b[0;34m\u001b[0m\n\u001b[0;32m----> 1\u001b[0;31m \u001b[0;36m3\u001b[0m\u001b[0;34m**\u001b[0m\u001b[0mstr1\u001b[0m\u001b[0;34m\u001b[0m\u001b[0;34m\u001b[0m\u001b[0m\n\u001b[0m",
      "\u001b[0;31mTypeError\u001b[0m: unsupported operand type(s) for ** or pow(): 'int' and 'str'"
     ]
    }
   ],
   "source": [
    "3**str1"
   ]
  },
  {
   "cell_type": "markdown",
   "id": "f889267c-3ff1-492b-99c9-55ee7c877def",
   "metadata": {},
   "source": [
    "## Modulus, osztasi maradek"
   ]
  },
  {
   "cell_type": "code",
   "execution_count": 106,
   "id": "156116b4-cef7-4a73-9d94-9a887dc753d5",
   "metadata": {},
   "outputs": [
    {
     "data": {
      "text/plain": [
       "2"
      ]
     },
     "execution_count": 106,
     "metadata": {},
     "output_type": "execute_result"
    }
   ],
   "source": [
    "5 % 3"
   ]
  },
  {
   "cell_type": "code",
   "execution_count": 107,
   "id": "9191fbb7-3103-49fd-8e89-d1bacf2e100e",
   "metadata": {},
   "outputs": [
    {
     "data": {
      "text/plain": [
       "0.10000000000000009"
      ]
     },
     "execution_count": 107,
     "metadata": {},
     "output_type": "execute_result"
    }
   ],
   "source": [
    "3.5 % 1.7"
   ]
  },
  {
   "cell_type": "code",
   "execution_count": 108,
   "id": "47cf757c-7020-48f4-9a53-659481d58fd7",
   "metadata": {},
   "outputs": [
    {
     "data": {
      "text/plain": [
       "2.0999999999999996"
      ]
     },
     "execution_count": 108,
     "metadata": {},
     "output_type": "execute_result"
    }
   ],
   "source": [
    "-2.5 % 2.3"
   ]
  },
  {
   "cell_type": "markdown",
   "id": "e576c952-8fd7-4343-8ffe-a988c683789e",
   "metadata": {},
   "source": [
    "## Alsó egészrészes osztas"
   ]
  },
  {
   "cell_type": "code",
   "execution_count": 109,
   "id": "7913d281-00a7-4d3b-bd66-63c613c977a5",
   "metadata": {},
   "outputs": [
    {
     "data": {
      "text/plain": [
       "2"
      ]
     },
     "execution_count": 109,
     "metadata": {},
     "output_type": "execute_result"
    }
   ],
   "source": [
    "5 // 2"
   ]
  },
  {
   "cell_type": "code",
   "execution_count": 110,
   "id": "3557b885-17e2-4ce8-86d3-ddac0d0a7c0b",
   "metadata": {},
   "outputs": [
    {
     "data": {
      "text/plain": [
       "3.0"
      ]
     },
     "execution_count": 110,
     "metadata": {},
     "output_type": "execute_result"
    }
   ],
   "source": [
    "3.5 // 1.1"
   ]
  },
  {
   "cell_type": "code",
   "execution_count": 111,
   "id": "96156b5e-7a76-47f8-93e3-8861088be04c",
   "metadata": {},
   "outputs": [
    {
     "data": {
      "text/plain": [
       "-3"
      ]
     },
     "execution_count": 111,
     "metadata": {},
     "output_type": "execute_result"
    }
   ],
   "source": [
    "-5 // 2"
   ]
  },
  {
   "cell_type": "raw",
   "id": "9a59ad2e-47fc-4a6c-acf9-4091ab573b45",
   "metadata": {},
   "source": [
    "Alsó egészrész * osztó + osztasi maradek = osztandó"
   ]
  },
  {
   "cell_type": "code",
   "execution_count": 112,
   "id": "7cb2d1b7-6592-48d7-968d-462004f8f8bd",
   "metadata": {},
   "outputs": [
    {
     "data": {
      "text/plain": [
       "-72.242"
      ]
     },
     "execution_count": 112,
     "metadata": {},
     "output_type": "execute_result"
    }
   ],
   "source": [
    "(-72.242//2.3)*2.3+(-72.242%2.3)"
   ]
  },
  {
   "cell_type": "markdown",
   "id": "5a3a93d8-f3ad-42d2-8ee4-ca17e613b02a",
   "metadata": {},
   "source": [
    "## Logikai"
   ]
  },
  {
   "cell_type": "code",
   "execution_count": 113,
   "id": "b223d285-10ac-4fc5-9e20-616a1081795c",
   "metadata": {},
   "outputs": [
    {
     "data": {
      "text/plain": [
       "True"
      ]
     },
     "execution_count": 113,
     "metadata": {},
     "output_type": "execute_result"
    }
   ],
   "source": [
    "# And: Akkor és csak akkor igaz, ha mindegyik igaz\n",
    "True and True"
   ]
  },
  {
   "cell_type": "code",
   "execution_count": 114,
   "id": "90107e99-f952-4bd6-9225-7084813e19e5",
   "metadata": {},
   "outputs": [
    {
     "data": {
      "text/plain": [
       "False"
      ]
     },
     "execution_count": 114,
     "metadata": {},
     "output_type": "execute_result"
    }
   ],
   "source": [
    "True and False"
   ]
  },
  {
   "cell_type": "code",
   "execution_count": 115,
   "id": "d2dcdfdd-b416-45ff-b90c-613fdb782033",
   "metadata": {},
   "outputs": [
    {
     "data": {
      "text/plain": [
       "False"
      ]
     },
     "execution_count": 115,
     "metadata": {},
     "output_type": "execute_result"
    }
   ],
   "source": [
    "False and False"
   ]
  },
  {
   "cell_type": "code",
   "execution_count": 116,
   "id": "02a3456b-1f4a-4545-a7ad-25583a8ff1a8",
   "metadata": {},
   "outputs": [
    {
     "data": {
      "text/plain": [
       "True"
      ]
     },
     "execution_count": 116,
     "metadata": {},
     "output_type": "execute_result"
    }
   ],
   "source": [
    "True and True and True"
   ]
  },
  {
   "cell_type": "code",
   "execution_count": 117,
   "id": "b6e5a6a4-b69b-489d-ae08-3f8781fcdc58",
   "metadata": {},
   "outputs": [
    {
     "data": {
      "text/plain": [
       "False"
      ]
     },
     "execution_count": 117,
     "metadata": {},
     "output_type": "execute_result"
    }
   ],
   "source": [
    "True and True and False"
   ]
  },
  {
   "cell_type": "code",
   "execution_count": 118,
   "id": "57eb04d8-2e4e-41f3-9f5e-5c10218b008f",
   "metadata": {},
   "outputs": [
    {
     "data": {
      "text/plain": [
       "True"
      ]
     },
     "execution_count": 118,
     "metadata": {},
     "output_type": "execute_result"
    }
   ],
   "source": [
    "# Or: Akkor igaz, ha legalább az egyik igaz\n",
    "True or True"
   ]
  },
  {
   "cell_type": "code",
   "execution_count": 119,
   "id": "48782c5e-9929-4cde-83d0-7556561c1095",
   "metadata": {},
   "outputs": [
    {
     "data": {
      "text/plain": [
       "True"
      ]
     },
     "execution_count": 119,
     "metadata": {},
     "output_type": "execute_result"
    }
   ],
   "source": [
    "True or False"
   ]
  },
  {
   "cell_type": "code",
   "execution_count": 120,
   "id": "ea7fba6e-fbbc-4714-9c66-7211f0a25715",
   "metadata": {},
   "outputs": [
    {
     "data": {
      "text/plain": [
       "False"
      ]
     },
     "execution_count": 120,
     "metadata": {},
     "output_type": "execute_result"
    }
   ],
   "source": [
    "False or False"
   ]
  },
  {
   "cell_type": "code",
   "execution_count": 121,
   "id": "b921970c-b3f7-4550-b6a7-d87e25b71720",
   "metadata": {},
   "outputs": [
    {
     "data": {
      "text/plain": [
       "True"
      ]
     },
     "execution_count": 121,
     "metadata": {},
     "output_type": "execute_result"
    }
   ],
   "source": [
    "True or False or False"
   ]
  },
  {
   "cell_type": "code",
   "execution_count": 122,
   "id": "b9e2ac41-ef35-43de-9bd3-6cacab55062f",
   "metadata": {},
   "outputs": [
    {
     "data": {
      "text/plain": [
       "False"
      ]
     },
     "execution_count": 122,
     "metadata": {},
     "output_type": "execute_result"
    }
   ],
   "source": [
    "# Not: Tagadás\n",
    "not True"
   ]
  },
  {
   "cell_type": "code",
   "execution_count": 123,
   "id": "818e65c3-c2de-4fa2-b0c8-089b0b70cb85",
   "metadata": {},
   "outputs": [
    {
     "data": {
      "text/plain": [
       "True"
      ]
     },
     "execution_count": 123,
     "metadata": {},
     "output_type": "execute_result"
    }
   ],
   "source": [
    "not False"
   ]
  },
  {
   "cell_type": "code",
   "execution_count": 124,
   "id": "92c7bdaa-9a46-4c9e-8075-52e60a202725",
   "metadata": {},
   "outputs": [
    {
     "data": {
      "text/plain": [
       "True"
      ]
     },
     "execution_count": 124,
     "metadata": {},
     "output_type": "execute_result"
    }
   ],
   "source": [
    "not False or False"
   ]
  },
  {
   "cell_type": "code",
   "execution_count": 125,
   "id": "01950e6d-b319-4293-8873-60086b904ee6",
   "metadata": {},
   "outputs": [
    {
     "data": {
      "text/plain": [
       "False"
      ]
     },
     "execution_count": 125,
     "metadata": {},
     "output_type": "execute_result"
    }
   ],
   "source": [
    "not True or False"
   ]
  },
  {
   "cell_type": "markdown",
   "id": "4f57934a-b290-420c-8659-ca0db7b703f7",
   "metadata": {},
   "source": [
    "## Relációk"
   ]
  },
  {
   "cell_type": "code",
   "execution_count": 126,
   "id": "4117fd4d-35a8-4fdc-abac-07d6282b9a93",
   "metadata": {},
   "outputs": [
    {
     "data": {
      "text/plain": [
       "False"
      ]
     },
     "execution_count": 126,
     "metadata": {},
     "output_type": "execute_result"
    }
   ],
   "source": [
    "int1>int2"
   ]
  },
  {
   "cell_type": "code",
   "execution_count": 127,
   "id": "1eb2cd84-16a2-41d3-a5bf-add8d782d9df",
   "metadata": {},
   "outputs": [
    {
     "data": {
      "text/plain": [
       "True"
      ]
     },
     "execution_count": 127,
     "metadata": {},
     "output_type": "execute_result"
    }
   ],
   "source": [
    "int1<=int2"
   ]
  },
  {
   "cell_type": "code",
   "execution_count": 128,
   "id": "4d926483-b77c-448b-a9a6-902205b29ac7",
   "metadata": {},
   "outputs": [
    {
     "data": {
      "text/plain": [
       "True"
      ]
     },
     "execution_count": 128,
     "metadata": {},
     "output_type": "execute_result"
    }
   ],
   "source": [
    "float1<int2"
   ]
  },
  {
   "cell_type": "code",
   "execution_count": 129,
   "id": "59340f4d-053f-4e2c-b14f-640d36e0d502",
   "metadata": {},
   "outputs": [
    {
     "data": {
      "text/plain": [
       "True"
      ]
     },
     "execution_count": 129,
     "metadata": {},
     "output_type": "execute_result"
    }
   ],
   "source": [
    "float1>=int1"
   ]
  },
  {
   "cell_type": "code",
   "execution_count": 130,
   "id": "dac75e14-9eb9-4700-8648-e94e76bf25d0",
   "metadata": {},
   "outputs": [
    {
     "data": {
      "text/plain": [
       "True"
      ]
     },
     "execution_count": 130,
     "metadata": {},
     "output_type": "execute_result"
    }
   ],
   "source": [
    "float1>bool1"
   ]
  },
  {
   "cell_type": "code",
   "execution_count": 131,
   "id": "1cea5d7b-4417-4282-8a80-f85e61348417",
   "metadata": {},
   "outputs": [
    {
     "ename": "TypeError",
     "evalue": "'>' not supported between instances of 'float' and 'str'",
     "output_type": "error",
     "traceback": [
      "\u001b[0;31m---------------------------------------------------------------------------\u001b[0m",
      "\u001b[0;31mTypeError\u001b[0m                                 Traceback (most recent call last)",
      "\u001b[0;32m/tmp/ipykernel_31455/3186386486.py\u001b[0m in \u001b[0;36m<module>\u001b[0;34m\u001b[0m\n\u001b[0;32m----> 1\u001b[0;31m \u001b[0mfloat1\u001b[0m\u001b[0;34m>\u001b[0m\u001b[0mstr1\u001b[0m\u001b[0;34m\u001b[0m\u001b[0;34m\u001b[0m\u001b[0m\n\u001b[0m",
      "\u001b[0;31mTypeError\u001b[0m: '>' not supported between instances of 'float' and 'str'"
     ]
    }
   ],
   "source": [
    "float1>str1"
   ]
  },
  {
   "cell_type": "code",
   "execution_count": 132,
   "id": "27c07665-c625-42ae-9527-55cc62873598",
   "metadata": {},
   "outputs": [
    {
     "data": {
      "text/plain": [
       "False"
      ]
     },
     "execution_count": 132,
     "metadata": {},
     "output_type": "execute_result"
    }
   ],
   "source": [
    "str1>str2"
   ]
  },
  {
   "cell_type": "code",
   "execution_count": 133,
   "id": "804b874f-2b67-490d-b026-c48a0fd13180",
   "metadata": {},
   "outputs": [],
   "source": [
    "# Stringek lexikografikusan kerülnek sorbarendezésre"
   ]
  },
  {
   "cell_type": "code",
   "execution_count": 134,
   "id": "ab2f5a36-768e-4efc-92bd-d91ff8ca6de2",
   "metadata": {},
   "outputs": [
    {
     "data": {
      "text/plain": [
       "True"
      ]
     },
     "execution_count": 134,
     "metadata": {},
     "output_type": "execute_result"
    }
   ],
   "source": [
    "float1==float1"
   ]
  },
  {
   "cell_type": "code",
   "execution_count": 135,
   "id": "65db5523-714a-4b99-a085-a5b798a751b5",
   "metadata": {},
   "outputs": [
    {
     "data": {
      "text/plain": [
       "True"
      ]
     },
     "execution_count": 135,
     "metadata": {},
     "output_type": "execute_result"
    }
   ],
   "source": [
    "float1!=float2"
   ]
  },
  {
   "cell_type": "markdown",
   "id": "133ca7e7-eb44-4036-947e-673679d72424",
   "metadata": {},
   "source": [
    "# Kiértékelés sorrendje"
   ]
  },
  {
   "cell_type": "code",
   "execution_count": 136,
   "id": "cd0b81ce-7542-454e-afe5-44135fc22c21",
   "metadata": {},
   "outputs": [],
   "source": [
    "# Balról jobbra, magasabb rendű műveletek elsőbbséget élveznek, először zárójelen belül van kiértékelés"
   ]
  },
  {
   "cell_type": "code",
   "execution_count": 137,
   "id": "591d593b-7fc8-4659-bf88-a904844ac2af",
   "metadata": {},
   "outputs": [
    {
     "data": {
      "text/plain": [
       "7"
      ]
     },
     "execution_count": 137,
     "metadata": {},
     "output_type": "execute_result"
    }
   ],
   "source": [
    "3+2*2"
   ]
  },
  {
   "cell_type": "code",
   "execution_count": 138,
   "id": "79142bab-8d46-4e85-88ea-ddb9118bf953",
   "metadata": {},
   "outputs": [
    {
     "data": {
      "text/plain": [
       "10"
      ]
     },
     "execution_count": 138,
     "metadata": {},
     "output_type": "execute_result"
    }
   ],
   "source": [
    "(3+2)*2"
   ]
  },
  {
   "cell_type": "code",
   "execution_count": 139,
   "id": "c61baf40-2253-4d88-84ce-f9469783106a",
   "metadata": {},
   "outputs": [
    {
     "data": {
      "text/plain": [
       "1"
      ]
     },
     "execution_count": 139,
     "metadata": {},
     "output_type": "execute_result"
    }
   ],
   "source": [
    "(3+4)**False"
   ]
  },
  {
   "cell_type": "code",
   "execution_count": 140,
   "id": "93e01042-1502-400a-b7a5-c634d378bea6",
   "metadata": {},
   "outputs": [
    {
     "data": {
      "text/plain": [
       "9"
      ]
     },
     "execution_count": 140,
     "metadata": {},
     "output_type": "execute_result"
    }
   ],
   "source": [
    "3**2*(True or False)"
   ]
  },
  {
   "cell_type": "code",
   "execution_count": 141,
   "id": "51bed1c3-efe8-4595-9756-a0e14b9d409d",
   "metadata": {},
   "outputs": [
    {
     "data": {
      "text/plain": [
       "18"
      ]
     },
     "execution_count": 141,
     "metadata": {},
     "output_type": "execute_result"
    }
   ],
   "source": [
    "3**2*(True or False)*2"
   ]
  },
  {
   "cell_type": "code",
   "execution_count": 142,
   "id": "6f910937-5e42-4374-a092-61f354e1836c",
   "metadata": {},
   "outputs": [
    {
     "data": {
      "text/plain": [
       "18"
      ]
     },
     "execution_count": 142,
     "metadata": {},
     "output_type": "execute_result"
    }
   ],
   "source": [
    "3**2*((True or False)*2)"
   ]
  },
  {
   "cell_type": "code",
   "execution_count": 143,
   "id": "099b120d-c5f3-4a94-80f0-70c69c105cbe",
   "metadata": {},
   "outputs": [
    {
     "data": {
      "text/plain": [
       "18"
      ]
     },
     "execution_count": 143,
     "metadata": {},
     "output_type": "execute_result"
    }
   ],
   "source": [
    "3**(2*(True or False))*2"
   ]
  },
  {
   "cell_type": "code",
   "execution_count": 144,
   "id": "0a63c89f-6e6a-405c-b63e-d0f517e75734",
   "metadata": {},
   "outputs": [
    {
     "data": {
      "text/plain": [
       "81"
      ]
     },
     "execution_count": 144,
     "metadata": {},
     "output_type": "execute_result"
    }
   ],
   "source": [
    "3**(2*((True or False)*2))"
   ]
  }
 ],
 "metadata": {
  "authors": [
   {
    "name": "Oliver Kiss\\\\Central European University"
   }
  ],
  "kernelspec": {
   "display_name": "Python 3 (ipykernel)",
   "language": "python",
   "name": "python3"
  },
  "language_info": {
   "codemirror_mode": {
    "name": "ipython",
    "version": 3
   },
   "file_extension": ".py",
   "mimetype": "text/x-python",
   "name": "python",
   "nbconvert_exporter": "python",
   "pygments_lexer": "ipython3",
   "version": "3.9.2"
  },
  "title": "Változók, alapműveletek"
 },
 "nbformat": 4,
 "nbformat_minor": 5
}
