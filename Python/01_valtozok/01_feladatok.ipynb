{
 "cells": [
  {
   "cell_type": "markdown",
   "id": "817c2517-11dd-4503-8ff8-2334c61dbbab",
   "metadata": {},
   "source": [
    "# Futtatás nélkül határozd meg, hogy milyen eredményt kapunk az alábbi műveletek elvégzése után. Verifikáld a megoldásaidat a kódok lefuttatásával. "
   ]
  },
  {
   "cell_type": "code",
   "execution_count": 1,
   "id": "bb78f605-9b0b-4e09-a48e-749e511f528c",
   "metadata": {},
   "outputs": [
    {
     "data": {
      "text/plain": [
       "True"
      ]
     },
     "execution_count": 1,
     "metadata": {},
     "output_type": "execute_result"
    }
   ],
   "source": [
    "(True or False) and True"
   ]
  },
  {
   "cell_type": "code",
   "execution_count": 2,
   "id": "5043d25c-fdcc-4393-89a8-a01a32ab3d72",
   "metadata": {},
   "outputs": [
    {
     "data": {
      "text/plain": [
       "5"
      ]
     },
     "execution_count": 2,
     "metadata": {},
     "output_type": "execute_result"
    }
   ],
   "source": [
    "(3<=5)+4"
   ]
  },
  {
   "cell_type": "code",
   "execution_count": 3,
   "id": "885300a6-714c-4dec-8f70-0f45422a508a",
   "metadata": {},
   "outputs": [
    {
     "data": {
      "text/plain": [
       "'aa'"
      ]
     },
     "execution_count": 3,
     "metadata": {},
     "output_type": "execute_result"
    }
   ],
   "source": [
    "'a'*(True and not False)*int((2.6//1.1))"
   ]
  },
  {
   "cell_type": "code",
   "execution_count": 4,
   "id": "8513bef6-a868-4080-8a1d-9dee0b3dde9e",
   "metadata": {},
   "outputs": [
    {
     "data": {
      "text/plain": [
       "1.6000000000000005"
      ]
     },
     "execution_count": 4,
     "metadata": {},
     "output_type": "execute_result"
    }
   ],
   "source": [
    "-5%2.2"
   ]
  },
  {
   "cell_type": "code",
   "execution_count": 5,
   "id": "d5ccdc2e-5f83-4ead-a0be-22ec9f5219e3",
   "metadata": {},
   "outputs": [
    {
     "data": {
      "text/plain": [
       "True"
      ]
     },
     "execution_count": 5,
     "metadata": {},
     "output_type": "execute_result"
    }
   ],
   "source": [
    "(3<5) and (2!=8)"
   ]
  },
  {
   "cell_type": "code",
   "execution_count": 6,
   "id": "b8d30df3-ccaa-4424-8f0c-af06d2eb72ea",
   "metadata": {},
   "outputs": [
    {
     "data": {
      "text/plain": [
       "True"
      ]
     },
     "execution_count": 6,
     "metadata": {},
     "output_type": "execute_result"
    }
   ],
   "source": [
    "(9!=2*4.5 or 4.5<True) or ('korte'>'alma' and 9==(3*3))"
   ]
  }
 ],
 "metadata": {
  "authors": [
   {
    "name": "Oliver Kiss\\\\Central European University"
   }
  ],
  "kernelspec": {
   "display_name": "Python 3 (ipykernel)",
   "language": "python",
   "name": "python3"
  },
  "language_info": {
   "codemirror_mode": {
    "name": "ipython",
    "version": 3
   },
   "file_extension": ".py",
   "mimetype": "text/x-python",
   "name": "python",
   "nbconvert_exporter": "python",
   "pygments_lexer": "ipython3",
   "version": "3.7.3"
  },
  "title": "Változók, alapműveletek - Megoldások"
 },
 "nbformat": 4,
 "nbformat_minor": 5
}
