{
 "cells": [
  {
   "cell_type": "markdown",
   "id": "604855e6",
   "metadata": {},
   "source": [
    "# Elágazások"
   ]
  },
  {
   "cell_type": "raw",
   "id": "323fce99",
   "metadata": {},
   "source": [
    "Egyes parancsok feltételhez kötött végrehajtása."
   ]
  },
  {
   "cell_type": "code",
   "execution_count": 1,
   "id": "e7b2268a",
   "metadata": {},
   "outputs": [],
   "source": [
    "a = 5"
   ]
  },
  {
   "cell_type": "code",
   "execution_count": 2,
   "id": "3597b903",
   "metadata": {},
   "outputs": [
    {
     "name": "stdout",
     "output_type": "stream",
     "text": [
      "a értéke pozitív\n"
     ]
    }
   ],
   "source": [
    "if a>0:\n",
    "    print('a értéke pozitív')\n",
    "else:\n",
    "    print('a értéke nem pozitív')"
   ]
  },
  {
   "cell_type": "code",
   "execution_count": 3,
   "id": "7e9935d6",
   "metadata": {},
   "outputs": [],
   "source": [
    "# A végrehajtandó parancsokat indentálni kell 4 space karakterrel"
   ]
  },
  {
   "cell_type": "code",
   "execution_count": 4,
   "id": "115df5fe",
   "metadata": {},
   "outputs": [],
   "source": [
    "a = 0"
   ]
  },
  {
   "cell_type": "code",
   "execution_count": 5,
   "id": "2c9db055",
   "metadata": {},
   "outputs": [
    {
     "name": "stdout",
     "output_type": "stream",
     "text": [
      "a értéke nem pozitív\n"
     ]
    }
   ],
   "source": [
    "if a>0:\n",
    "    print('a értéke pozitív')\n",
    "else:\n",
    "    print('a értéke nem pozitív')"
   ]
  },
  {
   "cell_type": "code",
   "execution_count": 6,
   "id": "e20ba868",
   "metadata": {},
   "outputs": [
    {
     "name": "stdout",
     "output_type": "stream",
     "text": [
      "a értéke zéró\n"
     ]
    }
   ],
   "source": [
    "if a>0:\n",
    "    print('a értéke pozitív')\n",
    "elif a==0:\n",
    "    print('a értéke zéró')\n",
    "else:\n",
    "    print('a értéke negatív')"
   ]
  },
  {
   "cell_type": "code",
   "execution_count": 7,
   "id": "d58e68f1",
   "metadata": {},
   "outputs": [],
   "source": [
    "a = 5"
   ]
  },
  {
   "cell_type": "code",
   "execution_count": 8,
   "id": "10367668",
   "metadata": {},
   "outputs": [
    {
     "name": "stdout",
     "output_type": "stream",
     "text": [
      "a nagyobb, mint 3\n"
     ]
    }
   ],
   "source": [
    "if a>10:\n",
    "    print('a nagyobb, mint 10')\n",
    "elif a>7:\n",
    "    print('a nagyobb, mint 7')\n",
    "elif a>3:\n",
    "    print('a nagyobb, mint 3')\n",
    "elif a>1:\n",
    "    print('a nagyobb, mint 1')\n",
    "else:\n",
    "    print('a nem nagyobb, mint 1')"
   ]
  },
  {
   "cell_type": "code",
   "execution_count": 9,
   "id": "0a76ddec",
   "metadata": {},
   "outputs": [
    {
     "name": "stdout",
     "output_type": "stream",
     "text": [
      "a nagyobb, mint 1\n"
     ]
    }
   ],
   "source": [
    "if a>10:\n",
    "    print('a nagyobb, mint 10')\n",
    "elif a>7:\n",
    "    print('a nagyobb, mint 7')\n",
    "elif a>1:\n",
    "    print('a nagyobb, mint 1')\n",
    "elif a>3:\n",
    "    print('a nagyobb, mint 3')\n",
    "else:\n",
    "    print('a nem nagyobb, mint 1')"
   ]
  },
  {
   "cell_type": "code",
   "execution_count": 10,
   "id": "9fc1157f",
   "metadata": {},
   "outputs": [],
   "source": [
    "# Az első feltétel teljesüléséhez tartozó parancsok kerülnek végrehajtásra"
   ]
  },
  {
   "cell_type": "markdown",
   "id": "06e0dc0e",
   "metadata": {},
   "source": [
    "# For ciklus"
   ]
  },
  {
   "cell_type": "raw",
   "id": "9ec43714",
   "metadata": {},
   "source": [
    "Véges számú elemet tartalmazó objektum elemein való műveletek elvégzésére."
   ]
  },
  {
   "cell_type": "code",
   "execution_count": 11,
   "id": "78429a5d",
   "metadata": {},
   "outputs": [
    {
     "name": "stdout",
     "output_type": "stream",
     "text": [
      "2\n",
      "3\n",
      "4\n"
     ]
    }
   ],
   "source": [
    "for elem in [1, 2, 3]:\n",
    "    print(elem+1)"
   ]
  },
  {
   "cell_type": "code",
   "execution_count": 12,
   "id": "eb776471",
   "metadata": {},
   "outputs": [
    {
     "name": "stdout",
     "output_type": "stream",
     "text": [
      "almaalma\n",
      "4\n",
      "8.6\n"
     ]
    }
   ],
   "source": [
    "for elem in [\"alma\", 2, 4.3]:\n",
    "    print(elem*2)"
   ]
  },
  {
   "cell_type": "code",
   "execution_count": 13,
   "id": "5292dd24",
   "metadata": {},
   "outputs": [
    {
     "name": "stdout",
     "output_type": "stream",
     "text": [
      "0\n",
      "1\n",
      "2\n",
      "3\n",
      "4\n"
     ]
    }
   ],
   "source": [
    "# Hasznos a range() parancs, ami adott számú integert generál 0-tól kezdve\n",
    "for x in range(5):\n",
    "    print(x)"
   ]
  },
  {
   "cell_type": "code",
   "execution_count": 14,
   "id": "3990831f",
   "metadata": {},
   "outputs": [
    {
     "data": {
      "text/plain": [
       "[5, 7, 9, 11, 13, 15]"
      ]
     },
     "execution_count": 14,
     "metadata": {},
     "output_type": "execute_result"
    }
   ],
   "source": [
    "# Példa: Adjuk össze az egymást követő számokat a következő listában.\n",
    "a = [2, 3, 4, 5, 6, 7, 8]\n",
    "b = []\n",
    "for i in range(len(a)-1):\n",
    "    b.append(a[i]+a[i+1])\n",
    "b"
   ]
  },
  {
   "cell_type": "code",
   "execution_count": 15,
   "id": "f81ffd3f",
   "metadata": {},
   "outputs": [],
   "source": [
    "# Példa: Fibonacci számok\n",
    "fib = [1, 1]\n",
    "for i in range(20):\n",
    "    fib.append(fib[i]+fib[i+1])"
   ]
  },
  {
   "cell_type": "code",
   "execution_count": 16,
   "id": "8ffc672e",
   "metadata": {},
   "outputs": [
    {
     "data": {
      "text/plain": [
       "[1,\n",
       " 1,\n",
       " 2,\n",
       " 3,\n",
       " 5,\n",
       " 8,\n",
       " 13,\n",
       " 21,\n",
       " 34,\n",
       " 55,\n",
       " 89,\n",
       " 144,\n",
       " 233,\n",
       " 377,\n",
       " 610,\n",
       " 987,\n",
       " 1597,\n",
       " 2584,\n",
       " 4181,\n",
       " 6765,\n",
       " 10946,\n",
       " 17711]"
      ]
     },
     "execution_count": 16,
     "metadata": {},
     "output_type": "execute_result"
    }
   ],
   "source": [
    "fib"
   ]
  },
  {
   "cell_type": "code",
   "execution_count": 17,
   "id": "714db304",
   "metadata": {},
   "outputs": [
    {
     "name": "stdout",
     "output_type": "stream",
     "text": [
      "4\n",
      "8\n",
      "16\n"
     ]
    }
   ],
   "source": [
    "# Iterálhatunk tuple elemein is\n",
    "for j in (2, 3, 4):\n",
    "    print(2**j)"
   ]
  },
  {
   "cell_type": "code",
   "execution_count": 18,
   "id": "99beae35",
   "metadata": {},
   "outputs": [],
   "source": [
    "# Dictionary esetén több megoldás létezik, de maga a dictionary nem iterálható, csak belőle származtatott objektumok.\n",
    "a = {'alma':'piros','körte':'barna'}"
   ]
  },
  {
   "cell_type": "code",
   "execution_count": 19,
   "id": "454c8522",
   "metadata": {},
   "outputs": [
    {
     "name": "stdout",
     "output_type": "stream",
     "text": [
      "alma\n",
      "körte\n"
     ]
    }
   ],
   "source": [
    "# Key-eken iterálás:\n",
    "for kulcs in a.keys():\n",
    "    print(kulcs)"
   ]
  },
  {
   "cell_type": "code",
   "execution_count": 20,
   "id": "d245e8d8",
   "metadata": {},
   "outputs": [
    {
     "name": "stdout",
     "output_type": "stream",
     "text": [
      "piros\n",
      "barna\n"
     ]
    }
   ],
   "source": [
    "# Value-kon iterálás:\n",
    "for ertek in a.values():\n",
    "    print(ertek)"
   ]
  },
  {
   "cell_type": "code",
   "execution_count": 21,
   "id": "ccf874d9",
   "metadata": {},
   "outputs": [
    {
     "data": {
      "text/plain": [
       "dict_items([('alma', 'piros'), ('körte', 'barna')])"
      ]
     },
     "execution_count": 21,
     "metadata": {},
     "output_type": "execute_result"
    }
   ],
   "source": [
    "# Párokon iterálás\n",
    "a.items()"
   ]
  },
  {
   "cell_type": "code",
   "execution_count": 22,
   "id": "e4bd5cac",
   "metadata": {},
   "outputs": [
    {
     "name": "stdout",
     "output_type": "stream",
     "text": [
      "('alma', 'piros')\n",
      "('körte', 'barna')\n"
     ]
    }
   ],
   "source": [
    "for x in a.items():\n",
    "    print(x)"
   ]
  },
  {
   "cell_type": "code",
   "execution_count": 23,
   "id": "2c148f00",
   "metadata": {},
   "outputs": [
    {
     "name": "stdout",
     "output_type": "stream",
     "text": [
      "alma\n",
      "piros\n",
      "körte\n",
      "barna\n"
     ]
    }
   ],
   "source": [
    "# Ezek tuple-k, de a tuple egyszerűen változókba bontható\n",
    "for kulcs, ertek in a.items():\n",
    "    print(kulcs)\n",
    "    print(ertek)"
   ]
  },
  {
   "cell_type": "code",
   "execution_count": 24,
   "id": "aa69a0a0",
   "metadata": {},
   "outputs": [
    {
     "name": "stdout",
     "output_type": "stream",
     "text": [
      "a következő szót be fogom helyettesíteni: alma. És tényleg.\n"
     ]
    }
   ],
   "source": [
    "# String formatting, amit hasznos tudni:\n",
    "print(\"a következő szót be fogom helyettesíteni: {}. És tényleg.\".format(\"alma\"))"
   ]
  },
  {
   "cell_type": "code",
   "execution_count": 25,
   "id": "9e3f9e6a",
   "metadata": {},
   "outputs": [
    {
     "name": "stdout",
     "output_type": "stream",
     "text": [
      "a következő szót be fogom helyettesíteni: alma. És tényleg. Még egyszer! narancs. Hurrá!\n"
     ]
    }
   ],
   "source": [
    "print(\"a következő szót be fogom helyettesíteni: {}. És tényleg. Még egyszer! {}. Hurrá!\".format(\"alma\",'narancs'))"
   ]
  },
  {
   "cell_type": "code",
   "execution_count": 26,
   "id": "a9b4a82e",
   "metadata": {},
   "outputs": [
    {
     "name": "stdout",
     "output_type": "stream",
     "text": [
      "A dictionaryben a alma keyhez tartozó value piros\n",
      "A dictionaryben a körte keyhez tartozó value barna\n"
     ]
    }
   ],
   "source": [
    "for kulcs, ertek in a.items():\n",
    "    print('A dictionaryben a {} keyhez tartozó value {}'.format(kulcs,ertek))"
   ]
  },
  {
   "cell_type": "markdown",
   "id": "f0566eff",
   "metadata": {},
   "source": [
    "# While ciklus"
   ]
  },
  {
   "cell_type": "raw",
   "id": "9b0ed72c",
   "metadata": {},
   "source": [
    "Addig hajtjuk újra és újra végre a ciklusmagot, amíg a feltétel fennáll."
   ]
  },
  {
   "cell_type": "code",
   "execution_count": 27,
   "id": "c528e2e9",
   "metadata": {},
   "outputs": [
    {
     "name": "stdout",
     "output_type": "stream",
     "text": [
      "még futok...\n",
      "még futok...\n",
      "még futok...\n",
      "még futok...\n",
      "még futok...\n",
      "még futok...\n",
      "még futok...\n",
      "még futok...\n",
      "még futok...\n",
      "még futok...\n"
     ]
    }
   ],
   "source": [
    "i = 0\n",
    "while i<10:\n",
    "    i = i+1\n",
    "    print('még futok...')"
   ]
  },
  {
   "cell_type": "code",
   "execution_count": 28,
   "id": "bb010e7a",
   "metadata": {},
   "outputs": [
    {
     "data": {
      "text/plain": [
       "10"
      ]
     },
     "execution_count": 28,
     "metadata": {},
     "output_type": "execute_result"
    }
   ],
   "source": [
    "i"
   ]
  },
  {
   "cell_type": "code",
   "execution_count": 29,
   "id": "da38ff89",
   "metadata": {},
   "outputs": [
    {
     "ename": "KeyboardInterrupt",
     "evalue": "",
     "output_type": "error",
     "traceback": [
      "\u001b[0;31m---------------------------------------------------------------------------\u001b[0m",
      "\u001b[0;31mKeyboardInterrupt\u001b[0m                         Traceback (most recent call last)",
      "\u001b[0;32m/tmp/ipykernel_11984/3193064053.py\u001b[0m in \u001b[0;36m<module>\u001b[0;34m\u001b[0m\n\u001b[1;32m      1\u001b[0m \u001b[0;31m# Vigyázz: végtelen ciklus veszélye. Megszakíthatod a ctrl+c kombinációval, de egyes esetekben gyorsan megtöltheti a számítógép memóriáját és csak hard reset segít. Óvatosan vele. Példa:\u001b[0m\u001b[0;34m\u001b[0m\u001b[0;34m\u001b[0m\u001b[0;34m\u001b[0m\u001b[0m\n\u001b[1;32m      2\u001b[0m \u001b[0mi\u001b[0m \u001b[0;34m=\u001b[0m \u001b[0;36m0\u001b[0m\u001b[0;34m\u001b[0m\u001b[0;34m\u001b[0m\u001b[0m\n\u001b[0;32m----> 3\u001b[0;31m \u001b[0;32mwhile\u001b[0m \u001b[0mi\u001b[0m\u001b[0;34m<\u001b[0m\u001b[0;36m10\u001b[0m\u001b[0;34m:\u001b[0m\u001b[0;34m\u001b[0m\u001b[0;34m\u001b[0m\u001b[0m\n\u001b[0m\u001b[1;32m      4\u001b[0m     \u001b[0mi\u001b[0m\u001b[0;34m=\u001b[0m\u001b[0;36m1\u001b[0m\u001b[0;34m\u001b[0m\u001b[0;34m\u001b[0m\u001b[0m\n",
      "\u001b[0;31mKeyboardInterrupt\u001b[0m: "
     ]
    }
   ],
   "source": [
    "# Vigyázz: végtelen ciklus veszélye. Megszakíthatod a ctrl+c kombinációval, de egyes esetekben gyorsan megtöltheti a számítógép memóriáját és csak hard reset segít. Óvatosan vele. Példa:\n",
    "i = 0\n",
    "while i<10:\n",
    "    i=1"
   ]
  },
  {
   "cell_type": "code",
   "execution_count": 30,
   "id": "4aaa16c0",
   "metadata": {},
   "outputs": [],
   "source": [
    "# Példa: Találd meg az első 20 négyzetszámot\n",
    "negyzetszamok = []\n",
    "i = 1\n",
    "while len(negyzetszamok)<20:\n",
    "    if pow(i,0.5)%1==0:\n",
    "        negyzetszamok.append(i)\n",
    "    else:\n",
    "        pass\n",
    "    i = i+1"
   ]
  },
  {
   "cell_type": "code",
   "execution_count": 31,
   "id": "73715bf4",
   "metadata": {},
   "outputs": [
    {
     "data": {
      "text/plain": [
       "[1,\n",
       " 4,\n",
       " 9,\n",
       " 16,\n",
       " 25,\n",
       " 36,\n",
       " 49,\n",
       " 64,\n",
       " 81,\n",
       " 100,\n",
       " 121,\n",
       " 144,\n",
       " 169,\n",
       " 196,\n",
       " 225,\n",
       " 256,\n",
       " 289,\n",
       " 324,\n",
       " 361,\n",
       " 400]"
      ]
     },
     "execution_count": 31,
     "metadata": {},
     "output_type": "execute_result"
    }
   ],
   "source": [
    "negyzetszamok"
   ]
  },
  {
   "cell_type": "markdown",
   "id": "c744bf8c",
   "metadata": {},
   "source": [
    "# Break és continue statementek"
   ]
  },
  {
   "cell_type": "code",
   "execution_count": 32,
   "id": "e1423994",
   "metadata": {},
   "outputs": [
    {
     "name": "stdout",
     "output_type": "stream",
     "text": [
      "0\n",
      "1\n",
      "2\n",
      "3\n",
      "4\n",
      "5\n",
      "6\n",
      "7\n",
      "8\n",
      "9\n",
      "10\n"
     ]
    }
   ],
   "source": [
    "# Break megszakítja a legbelső for vagy while ciklust\n",
    "for i in range(100):\n",
    "    if i>10:\n",
    "        break\n",
    "    else:\n",
    "        print(i)"
   ]
  },
  {
   "cell_type": "code",
   "execution_count": 33,
   "id": "5dda1c6b",
   "metadata": {},
   "outputs": [],
   "source": [
    "i = 0\n",
    "while True:\n",
    "    i = i+1\n",
    "    if i>4:\n",
    "        break\n",
    "    else:\n",
    "        pass"
   ]
  },
  {
   "cell_type": "code",
   "execution_count": 34,
   "id": "e1a3d617",
   "metadata": {},
   "outputs": [
    {
     "data": {
      "text/plain": [
       "5"
      ]
     },
     "execution_count": 34,
     "metadata": {},
     "output_type": "execute_result"
    }
   ],
   "source": [
    "i"
   ]
  },
  {
   "cell_type": "code",
   "execution_count": 35,
   "id": "0dc1a62f",
   "metadata": {},
   "outputs": [
    {
     "name": "stdout",
     "output_type": "stream",
     "text": [
      "1\n",
      "2\n",
      "3\n",
      "4\n"
     ]
    }
   ],
   "source": [
    "# A continue ciklus a következő cikluselem végrehajtására utasítja a programot\n",
    "i = 0\n",
    "while True:\n",
    "    i = i+1\n",
    "    if i>4:\n",
    "        break\n",
    "    else:\n",
    "        pass\n",
    "    print(i)"
   ]
  },
  {
   "cell_type": "code",
   "execution_count": 36,
   "id": "3aa67b47",
   "metadata": {},
   "outputs": [],
   "source": [
    "# A continue ciklus a következő cikluselem végrehajtására utasítja a programot\n",
    "i = 0\n",
    "while True:\n",
    "    i = i+1\n",
    "    if i>4:\n",
    "        break\n",
    "    else:\n",
    "        continue\n",
    "    print(i)"
   ]
  },
  {
   "cell_type": "markdown",
   "id": "213a1b96",
   "metadata": {},
   "source": [
    "# Egy különlegesség: for-if-end"
   ]
  },
  {
   "cell_type": "code",
   "execution_count": 37,
   "id": "0d918231",
   "metadata": {},
   "outputs": [
    {
     "name": "stdout",
     "output_type": "stream",
     "text": [
      "0 nem nagyobb, mint 10\n",
      "1 nem nagyobb, mint 10\n",
      "2 nem nagyobb, mint 10\n",
      "3 nem nagyobb, mint 10\n",
      "4 nem nagyobb, mint 10\n",
      "5 nem nagyobb, mint 10\n",
      "6 nem nagyobb, mint 10\n",
      "7 nem nagyobb, mint 10\n",
      "8 nem nagyobb, mint 10\n",
      "9 nem nagyobb, mint 10\n"
     ]
    }
   ],
   "source": [
    "# Egy for ciklusba ágyazott feltétel, amely ha egyik elemre sem teljesül, az else statement kerül végrehajtásra.\n",
    "for i in range(10):\n",
    "    if i>10:\n",
    "        print('{} nagyobb, mint 10'.format(i))\n",
    "    else:\n",
    "        print('{} nem nagyobb, mint 10'.format(i))"
   ]
  },
  {
   "cell_type": "code",
   "execution_count": 38,
   "id": "520533a0",
   "metadata": {},
   "outputs": [
    {
     "name": "stdout",
     "output_type": "stream",
     "text": [
      "egyik szám sem nem nagyobb, mint 10\n"
     ]
    }
   ],
   "source": [
    "# Egy for ciklusba ágyazott feltétel, amely ha egyik elemre sem teljesül, az else statement kerül végrehajtásra.\n",
    "for i in range(10):\n",
    "    if i>10:\n",
    "        print('{} nagyobb, mint 10'.format(i))\n",
    "else:\n",
    "    print('egyik szám sem nem nagyobb, mint 10')"
   ]
  },
  {
   "cell_type": "code",
   "execution_count": 39,
   "id": "fe005d87",
   "metadata": {},
   "outputs": [
    {
     "name": "stdout",
     "output_type": "stream",
     "text": [
      "2 egy prím\n",
      "3 egy prím\n",
      "4=2*2\n",
      "5 egy prím\n",
      "6=2*3\n",
      "7 egy prím\n",
      "8=2*4\n",
      "9=3*3\n",
      "10=2*5\n",
      "11 egy prím\n",
      "12=2*6\n",
      "13 egy prím\n",
      "14=2*7\n",
      "15=3*5\n",
      "16=2*8\n",
      "17 egy prím\n",
      "18=2*9\n",
      "19 egy prím\n",
      "20=2*10\n",
      "21=3*7\n",
      "22=2*11\n",
      "23 egy prím\n",
      "24=2*12\n",
      "25=5*5\n",
      "26=2*13\n",
      "27=3*9\n",
      "28=2*14\n",
      "29 egy prím\n"
     ]
    }
   ],
   "source": [
    "# Példa: Keressük meg 2 és 30 között a prímeket\n",
    "for n in range(2, 30):\n",
    "    for x in range(2, n):\n",
    "        if n % x == 0:\n",
    "            print('{}={}*{}'.format(n,x,n//x))\n",
    "            break\n",
    "    else:\n",
    "        print('{} egy prím'.format(n))"
   ]
  },
  {
   "cell_type": "markdown",
   "id": "09ef7888",
   "metadata": {},
   "source": [
    "# Egy hasznos dolog: list comprehension"
   ]
  },
  {
   "cell_type": "code",
   "execution_count": 40,
   "id": "a5f532d9",
   "metadata": {},
   "outputs": [],
   "source": [
    "# Egy soros, egészen komplikált lista átalakítások\n",
    "a = [2, 3, 4]"
   ]
  },
  {
   "cell_type": "code",
   "execution_count": 41,
   "id": "3411ab89",
   "metadata": {},
   "outputs": [
    {
     "data": {
      "text/plain": [
       "[4, 6, 8]"
      ]
     },
     "execution_count": 41,
     "metadata": {},
     "output_type": "execute_result"
    }
   ],
   "source": [
    "[x*2 for x in a]"
   ]
  },
  {
   "cell_type": "code",
   "execution_count": 42,
   "id": "9447a76a",
   "metadata": {},
   "outputs": [
    {
     "data": {
      "text/plain": [
       "[3, 4, 5]"
      ]
     },
     "execution_count": 42,
     "metadata": {},
     "output_type": "execute_result"
    }
   ],
   "source": [
    "[x+1 for x in a]"
   ]
  },
  {
   "cell_type": "code",
   "execution_count": 43,
   "id": "9f517eee",
   "metadata": {},
   "outputs": [
    {
     "data": {
      "text/plain": [
       "[3, 4]"
      ]
     },
     "execution_count": 43,
     "metadata": {},
     "output_type": "execute_result"
    }
   ],
   "source": [
    "[x for x in a if x>2]"
   ]
  },
  {
   "cell_type": "code",
   "execution_count": 44,
   "id": "2c5d743e",
   "metadata": {},
   "outputs": [],
   "source": [
    "b = [-2, -1, 0, 1, 2]"
   ]
  },
  {
   "cell_type": "code",
   "execution_count": 45,
   "id": "dd480fce",
   "metadata": {},
   "outputs": [
    {
     "data": {
      "text/plain": [
       "[0, 0, 0, 1, 2]"
      ]
     },
     "execution_count": 45,
     "metadata": {},
     "output_type": "execute_result"
    }
   ],
   "source": [
    "[x if x>0 else 0 for x in b]"
   ]
  },
  {
   "cell_type": "code",
   "execution_count": 46,
   "id": "bce86ae7",
   "metadata": {},
   "outputs": [
    {
     "data": {
      "text/plain": [
       "[5, 7]"
      ]
     },
     "execution_count": 46,
     "metadata": {},
     "output_type": "execute_result"
    }
   ],
   "source": [
    "[a[i]+a[i+1] for i in range(len(a)-1)]"
   ]
  },
  {
   "cell_type": "code",
   "execution_count": 47,
   "id": "a7751cb4",
   "metadata": {},
   "outputs": [
    {
     "data": {
      "text/plain": [
       "[0, 2, 4]"
      ]
     },
     "execution_count": 47,
     "metadata": {},
     "output_type": "execute_result"
    }
   ],
   "source": [
    "[a[i]+b[i] for i in range(min([len(a),len(b)]))]"
   ]
  },
  {
   "cell_type": "code",
   "execution_count": 48,
   "id": "adfed442",
   "metadata": {},
   "outputs": [
    {
     "name": "stdout",
     "output_type": "stream",
     "text": [
      "[0, 0, 0, 0, 0, 0, 0, 0, 0, 0, 0]\n",
      "[0, 1, 2, 3, 4, 5, 6, 7, 8, 9, 10]\n",
      "[0, 2, 4, 6, 8, 10, 12, 14, 16, 18, 20]\n",
      "[0, 3, 6, 9, 12, 15, 18, 21, 24, 27, 30]\n",
      "[0, 4, 8, 12, 16, 20, 24, 28, 32, 36, 40]\n",
      "[0, 5, 10, 15, 20, 25, 30, 35, 40, 45, 50]\n",
      "[0, 6, 12, 18, 24, 30, 36, 42, 48, 54, 60]\n",
      "[0, 7, 14, 21, 28, 35, 42, 49, 56, 63, 70]\n",
      "[0, 8, 16, 24, 32, 40, 48, 56, 64, 72, 80]\n",
      "[0, 9, 18, 27, 36, 45, 54, 63, 72, 81, 90]\n",
      "[0, 10, 20, 30, 40, 50, 60, 70, 80, 90, 100]\n"
     ]
    }
   ],
   "source": [
    "# Egy bonyolultabb példa: szorzótábla\n",
    "for i in range(11):\n",
    "    sor = []\n",
    "    for j in range(11):\n",
    "        sor.append(i*j)\n",
    "    print(sor)"
   ]
  },
  {
   "cell_type": "code",
   "execution_count": 49,
   "id": "187aee1a",
   "metadata": {},
   "outputs": [
    {
     "name": "stdout",
     "output_type": "stream",
     "text": [
      "[0, 0, 0, 0, 0, 0, 0, 0, 0, 0, 0]\n",
      "[0, 1, 2, 3, 4, 5, 6, 7, 8, 9, 10]\n",
      "[0, 2, 4, 6, 8, 10, 12, 14, 16, 18, 20]\n",
      "[0, 3, 6, 9, 12, 15, 18, 21, 24, 27, 30]\n",
      "[0, 4, 8, 12, 16, 20, 24, 28, 32, 36, 40]\n",
      "[0, 5, 10, 15, 20, 25, 30, 35, 40, 45, 50]\n",
      "[0, 6, 12, 18, 24, 30, 36, 42, 48, 54, 60]\n",
      "[0, 7, 14, 21, 28, 35, 42, 49, 56, 63, 70]\n",
      "[0, 8, 16, 24, 32, 40, 48, 56, 64, 72, 80]\n",
      "[0, 9, 18, 27, 36, 45, 54, 63, 72, 81, 90]\n",
      "[0, 10, 20, 30, 40, 50, 60, 70, 80, 90, 100]\n"
     ]
    },
    {
     "data": {
      "text/plain": [
       "[None, None, None, None, None, None, None, None, None, None, None]"
      ]
     },
     "execution_count": 49,
     "metadata": {},
     "output_type": "execute_result"
    }
   ],
   "source": [
    "[print([i*j for i in range(11)]) for j in range(11)]"
   ]
  }
 ],
 "metadata": {
  "authors": [
   {
    "name": "Oliver Kiss\\\\Central European University"
   }
  ],
  "kernelspec": {
   "display_name": "Python 3 (ipykernel)",
   "language": "python",
   "name": "python3"
  },
  "language_info": {
   "codemirror_mode": {
    "name": "ipython",
    "version": 3
   },
   "file_extension": ".py",
   "mimetype": "text/x-python",
   "name": "python",
   "nbconvert_exporter": "python",
   "pygments_lexer": "ipython3",
   "version": "3.7.3"
  },
  "title": "Elágazások és Ciklusok"
 },
 "nbformat": 4,
 "nbformat_minor": 5
}
