{
 "cells": [
  {
   "cell_type": "markdown",
   "id": "3f8815b4",
   "metadata": {},
   "source": [
    "# Számítsd ki az első száz szám reciprokösszegét."
   ]
  },
  {
   "cell_type": "markdown",
   "id": "875a8dbe",
   "metadata": {},
   "source": [
    "# Határozd meg 5 százalékos éves kamatláb mellett az első 10 év diszkontfaktorát. Emlékeztetőül df = 1/(1+r)^t"
   ]
  },
  {
   "cell_type": "markdown",
   "id": "e396b322",
   "metadata": {},
   "source": [
    "# Ellenőrizd, hogy van-e 305900 és 329112 között olyan szám, ami osztható 23523-al."
   ]
  },
  {
   "cell_type": "markdown",
   "id": "13cda59b",
   "metadata": {},
   "source": [
    "# Határozd meg a hetes számrendszerben 24650165-ként kifejezett szám értékét tízes számrendszerben. Segítség: Próbáld ki, hogy mit kapsz ha egy stringet list-té transzformálsz."
   ]
  },
  {
   "cell_type": "markdown",
   "id": "09fc4b87",
   "metadata": {},
   "source": [
    "# Találd meg az első 20 prímszámot"
   ]
  }
 ],
 "metadata": {
  "authors": [
   {
    "name": "Oliver Kiss\\\\Central European University"
   }
  ],
  "kernelspec": {
   "display_name": "Python 3 (ipykernel)",
   "language": "python",
   "name": "python3"
  },
  "language_info": {
   "codemirror_mode": {
    "name": "ipython",
    "version": 3
   },
   "file_extension": ".py",
   "mimetype": "text/x-python",
   "name": "python",
   "nbconvert_exporter": "python",
   "pygments_lexer": "ipython3",
   "version": "3.7.3"
  },
  "title": "Elágazások és Ciklusok - Feladatok"
 },
 "nbformat": 4,
 "nbformat_minor": 5
}
