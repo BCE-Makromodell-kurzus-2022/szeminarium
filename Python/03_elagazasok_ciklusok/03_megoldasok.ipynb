{
 "cells": [
  {
   "cell_type": "markdown",
   "id": "3f8815b4",
   "metadata": {},
   "source": [
    "# Számítsd ki az első száz szám reciprokösszegét."
   ]
  },
  {
   "cell_type": "code",
   "execution_count": 1,
   "id": "436e5386",
   "metadata": {},
   "outputs": [
    {
     "data": {
      "text/plain": [
       "5.187377517639621"
      ]
     },
     "execution_count": 1,
     "metadata": {},
     "output_type": "execute_result"
    }
   ],
   "source": [
    "osszeg = 0\n",
    "for i in range(100):\n",
    "    osszeg = osszeg + 1/(i+1)\n",
    "osszeg"
   ]
  },
  {
   "cell_type": "code",
   "execution_count": 2,
   "id": "3fd6d20d",
   "metadata": {},
   "outputs": [
    {
     "data": {
      "text/plain": [
       "5.187377517639621"
      ]
     },
     "execution_count": 2,
     "metadata": {},
     "output_type": "execute_result"
    }
   ],
   "source": [
    "sum([1/(i+1) for i in range(100)])"
   ]
  },
  {
   "cell_type": "code",
   "execution_count": 3,
   "id": "8080a0e5",
   "metadata": {},
   "outputs": [
    {
     "data": {
      "text/plain": [
       "5.187377517639621"
      ]
     },
     "execution_count": 3,
     "metadata": {},
     "output_type": "execute_result"
    }
   ],
   "source": [
    "reciprokok = []\n",
    "for i in range(100):\n",
    "    reciprokok.append(1/(i+1))\n",
    "sum(reciprokok)"
   ]
  },
  {
   "cell_type": "markdown",
   "id": "875a8dbe",
   "metadata": {},
   "source": [
    "# Határozd meg 5 százalékos éves kamatláb mellett az első 10 év diszkontfaktorát. Emlékeztetőül df = 1/(1+r)^t"
   ]
  },
  {
   "cell_type": "code",
   "execution_count": 4,
   "id": "4d734eeb",
   "metadata": {},
   "outputs": [
    {
     "data": {
      "text/plain": [
       "[0.9523809523809523,\n",
       " 0.9070294784580498,\n",
       " 0.863837598531476,\n",
       " 0.8227024747918819,\n",
       " 0.7835261664684589,\n",
       " 0.7462153966366274,\n",
       " 0.7106813301301214,\n",
       " 0.676839362028687,\n",
       " 0.6446089162177971,\n",
       " 0.6139132535407591]"
      ]
     },
     "execution_count": 4,
     "metadata": {},
     "output_type": "execute_result"
    }
   ],
   "source": [
    "diszkontfaktorok = []\n",
    "for t in range(10):\n",
    "    diszkontfaktorok.append(1/pow(1.05,t+1))\n",
    "diszkontfaktorok"
   ]
  },
  {
   "cell_type": "code",
   "execution_count": 5,
   "id": "d84482dd",
   "metadata": {},
   "outputs": [
    {
     "data": {
      "text/plain": [
       "[0.9523809523809523,\n",
       " 0.9070294784580498,\n",
       " 0.863837598531476,\n",
       " 0.8227024747918819,\n",
       " 0.7835261664684589,\n",
       " 0.7462153966366274,\n",
       " 0.7106813301301214,\n",
       " 0.676839362028687,\n",
       " 0.6446089162177971,\n",
       " 0.6139132535407591]"
      ]
     },
     "execution_count": 5,
     "metadata": {},
     "output_type": "execute_result"
    }
   ],
   "source": [
    "[1/1.05**(t+1) for t in range(10)]"
   ]
  },
  {
   "cell_type": "markdown",
   "id": "e396b322",
   "metadata": {},
   "source": [
    "# Ellenőrizd, hogy van-e 305900 és 329112 között olyan szám, ami osztható 23523-al."
   ]
  },
  {
   "cell_type": "code",
   "execution_count": 6,
   "id": "5dfecf18",
   "metadata": {},
   "outputs": [
    {
     "name": "stdout",
     "output_type": "stream",
     "text": [
      "egyik szám sem osztható 23523-al ebben a tartományban\n"
     ]
    }
   ],
   "source": [
    "for i in range(305900,329113):\n",
    "    if i%23523==0:\n",
    "        print('{} osztható 23523-al')\n",
    "else:\n",
    "    print('egyik szám sem osztható 23523-al ebben a tartományban')"
   ]
  },
  {
   "cell_type": "markdown",
   "id": "13cda59b",
   "metadata": {},
   "source": [
    "# Határozd meg a hetes számrendszerben 24650165-ként kifejezett szám értékét tízes számrendszerben. Segítség: Próbáld ki, hogy mit kapsz ha egy stringet list-té transzformálsz."
   ]
  },
  {
   "cell_type": "code",
   "execution_count": 7,
   "id": "2679ea23",
   "metadata": {},
   "outputs": [
    {
     "data": {
      "text/plain": [
       "['2', '4', '6', '5', '0', '1', '6', '5']"
      ]
     },
     "execution_count": 7,
     "metadata": {},
     "output_type": "execute_result"
    }
   ],
   "source": [
    "list(\"24650165\")"
   ]
  },
  {
   "cell_type": "code",
   "execution_count": 8,
   "id": "c1c49209",
   "metadata": {},
   "outputs": [
    {
     "data": {
      "text/plain": [
       "2230625"
      ]
     },
     "execution_count": 8,
     "metadata": {},
     "output_type": "execute_result"
    }
   ],
   "source": [
    "szamjegyek = list(\"24650165\")\n",
    "szamjegyek.reverse()\n",
    "osszeg = 0\n",
    "tizedeshely = 0\n",
    "for i in szamjegyek:\n",
    "    osszeg = osszeg + int(i)*7**tizedeshely\n",
    "    tizedeshely = tizedeshely + 1\n",
    "osszeg"
   ]
  },
  {
   "cell_type": "code",
   "execution_count": 9,
   "id": "d00c187e",
   "metadata": {},
   "outputs": [
    {
     "data": {
      "text/plain": [
       "2230625"
      ]
     },
     "execution_count": 9,
     "metadata": {},
     "output_type": "execute_result"
    }
   ],
   "source": [
    "sum([int(list(\"24650165\")[-i-1])*7**i for i in range(len(list(\"24650165\")))])"
   ]
  },
  {
   "cell_type": "markdown",
   "id": "09fc4b87",
   "metadata": {},
   "source": [
    "# Találd meg az első 20 prímszámot"
   ]
  },
  {
   "cell_type": "code",
   "execution_count": 10,
   "id": "07f15edf",
   "metadata": {},
   "outputs": [
    {
     "data": {
      "text/plain": [
       "[2, 3, 5, 7, 11, 13, 17, 19, 23, 29, 31, 37, 41, 43, 47, 53, 59, 61, 67, 71]"
      ]
     },
     "execution_count": 10,
     "metadata": {},
     "output_type": "execute_result"
    }
   ],
   "source": [
    "primek = []\n",
    "vizsgaltszam=2\n",
    "while len(primek)<20:\n",
    "    for oszto in range(2, vizsgaltszam):\n",
    "        if vizsgaltszam % oszto == 0:\n",
    "            break\n",
    "    else:\n",
    "        primek.append(vizsgaltszam)\n",
    "    vizsgaltszam = vizsgaltszam+1\n",
    "    \n",
    "primek"
   ]
  }
 ],
 "metadata": {
  "authors": [
   {
    "name": "Oliver Kiss\\\\Central European University"
   }
  ],
  "kernelspec": {
   "display_name": "Python 3 (ipykernel)",
   "language": "python",
   "name": "python3"
  },
  "language_info": {
   "codemirror_mode": {
    "name": "ipython",
    "version": 3
   },
   "file_extension": ".py",
   "mimetype": "text/x-python",
   "name": "python",
   "nbconvert_exporter": "python",
   "pygments_lexer": "ipython3",
   "version": "3.7.3"
  },
  "title": "Elágazások és Ciklusok - Megoldások"
 },
 "nbformat": 4,
 "nbformat_minor": 5
}
