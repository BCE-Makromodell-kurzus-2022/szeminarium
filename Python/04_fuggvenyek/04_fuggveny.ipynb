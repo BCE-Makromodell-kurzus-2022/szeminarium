{
 "cells": [
  {
   "cell_type": "markdown",
   "id": "b218101b",
   "metadata": {},
   "source": [
    "# Függvények"
   ]
  },
  {
   "cell_type": "markdown",
   "id": "14fd5dc4",
   "metadata": {},
   "source": [
    "Változókon rendszeresen elvégzett műveletekhez érdemes függvényeket definiálni a kódismétlés elkerülésére. A függvények `def fuggvenynev(inputok):` szintaxissal definiálható, a függvény által elvégzett műveleteket indentálni kell. A függvény outputját a `return` parancs után definiáljuk. Fontos, hogy a függvényen belül definiált változók egy külön ú.n. namespace-en vannak, így a függvényen kívülről nem elérhetők és nem módosítják a global namespace-en lévő változókat. "
   ]
  },
  {
   "cell_type": "code",
   "execution_count": 1,
   "id": "3531ae89",
   "metadata": {},
   "outputs": [],
   "source": [
    "# Példa\n",
    "def osszead(a,b):\n",
    "    return a+b"
   ]
  },
  {
   "cell_type": "code",
   "execution_count": 2,
   "id": "d925d028",
   "metadata": {},
   "outputs": [
    {
     "data": {
      "text/plain": [
       "7"
      ]
     },
     "execution_count": 2,
     "metadata": {},
     "output_type": "execute_result"
    }
   ],
   "source": [
    "osszead(3,4)"
   ]
  },
  {
   "cell_type": "code",
   "execution_count": 3,
   "id": "45114dae",
   "metadata": {},
   "outputs": [
    {
     "data": {
      "text/plain": [
       "'almanarancs'"
      ]
     },
     "execution_count": 3,
     "metadata": {},
     "output_type": "execute_result"
    }
   ],
   "source": [
    "osszead(\"alma\",\"narancs\")"
   ]
  },
  {
   "cell_type": "code",
   "execution_count": 4,
   "id": "fb691600",
   "metadata": {},
   "outputs": [
    {
     "name": "stdout",
     "output_type": "stream",
     "text": [
      "körte\n",
      "alma\n"
     ]
    }
   ],
   "source": [
    "# Namespace példa\n",
    "x = 'alma'\n",
    "def xkorte():\n",
    "    x = 'körte'\n",
    "    print(x)\n",
    "\n",
    "xkorte()\n",
    "print(x)"
   ]
  },
  {
   "cell_type": "code",
   "execution_count": 5,
   "id": "f7d444d7",
   "metadata": {},
   "outputs": [],
   "source": [
    "# Példa: Bontsunk egy számot a tört és egészrészére\n",
    "def tortegesz(szam):\n",
    "    egeszresz = szam//1\n",
    "    tortresz = szam%1\n",
    "    return [egeszresz, tortresz]"
   ]
  },
  {
   "cell_type": "code",
   "execution_count": 6,
   "id": "f551c0f2",
   "metadata": {},
   "outputs": [
    {
     "data": {
      "text/plain": [
       "[3.0, 0.43999999999999995]"
      ]
     },
     "execution_count": 6,
     "metadata": {},
     "output_type": "execute_result"
    }
   ],
   "source": [
    "tortegesz(3.44)"
   ]
  },
  {
   "cell_type": "code",
   "execution_count": 7,
   "id": "5cd4a995",
   "metadata": {},
   "outputs": [
    {
     "data": {
      "text/plain": [
       "[-3.0, 0.778]"
      ]
     },
     "execution_count": 7,
     "metadata": {},
     "output_type": "execute_result"
    }
   ],
   "source": [
    "tortegesz(-2.222)"
   ]
  }
 ],
 "metadata": {
  "authors": [
   {
    "name": "Oliver Kiss\\\\Central European University"
   }
  ],
  "kernelspec": {
   "display_name": "Python 3 (ipykernel)",
   "language": "python",
   "name": "python3"
  },
  "language_info": {
   "codemirror_mode": {
    "name": "ipython",
    "version": 3
   },
   "file_extension": ".py",
   "mimetype": "text/x-python",
   "name": "python",
   "nbconvert_exporter": "python",
   "pygments_lexer": "ipython3",
   "version": "3.7.3"
  },
  "title": "Függvények"
 },
 "nbformat": 4,
 "nbformat_minor": 5
}
