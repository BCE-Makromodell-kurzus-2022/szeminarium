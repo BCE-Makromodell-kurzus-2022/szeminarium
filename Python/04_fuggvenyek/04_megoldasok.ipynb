{
 "cells": [
  {
   "cell_type": "markdown",
   "id": "3d982d80",
   "metadata": {},
   "source": [
    "# Írj egy függvényt ami összeszoroz minden számot egy iterálható inputban (list, tuple)."
   ]
  },
  {
   "cell_type": "code",
   "execution_count": 1,
   "id": "856d895b",
   "metadata": {},
   "outputs": [],
   "source": [
    "def szoroz(iterable):\n",
    "    prod = 1\n",
    "    for i in iterable:\n",
    "        prod = prod*i\n",
    "    return prod"
   ]
  },
  {
   "cell_type": "code",
   "execution_count": 2,
   "id": "c957a475",
   "metadata": {},
   "outputs": [
    {
     "data": {
      "text/plain": [
       "24"
      ]
     },
     "execution_count": 2,
     "metadata": {},
     "output_type": "execute_result"
    }
   ],
   "source": [
    "szoroz([2, 4, 3])"
   ]
  },
  {
   "cell_type": "markdown",
   "id": "3c904fae",
   "metadata": {},
   "source": [
    "# Írj egy függvényt ami kiszámolja egy pozitív egész szám faktoriálisát."
   ]
  },
  {
   "cell_type": "code",
   "execution_count": 3,
   "id": "57e45f6c",
   "metadata": {},
   "outputs": [],
   "source": [
    "def faktorialis(szam):\n",
    "    return szoroz(range(1,szam+1))"
   ]
  },
  {
   "cell_type": "code",
   "execution_count": 4,
   "id": "de4d0a84",
   "metadata": {},
   "outputs": [
    {
     "data": {
      "text/plain": [
       "120"
      ]
     },
     "execution_count": 4,
     "metadata": {},
     "output_type": "execute_result"
    }
   ],
   "source": [
    "faktorialis(5)"
   ]
  },
  {
   "cell_type": "markdown",
   "id": "26e25594",
   "metadata": {},
   "source": [
    "# Írj egy függvényt aminek az inputja egy list, az outputja egy list amely az eredeti list egyedi elemeit tartalmazza."
   ]
  },
  {
   "cell_type": "code",
   "execution_count": 5,
   "id": "28e22a82",
   "metadata": {},
   "outputs": [],
   "source": [
    "def egyedi(lista):\n",
    "    return list(set(lista))"
   ]
  },
  {
   "cell_type": "code",
   "execution_count": 6,
   "id": "2549ef89",
   "metadata": {},
   "outputs": [
    {
     "data": {
      "text/plain": [
       "['alma', 1, 2, 3, 4, 'narancs']"
      ]
     },
     "execution_count": 6,
     "metadata": {},
     "output_type": "execute_result"
    }
   ],
   "source": [
    "egyedi([1, 1, 2, 'alma', 4, 3, 2, 'alma', 'narancs'])"
   ]
  },
  {
   "cell_type": "markdown",
   "id": "b98fe550",
   "metadata": {},
   "source": [
    "# Írj egy függvényt ami eldönti egy pozitív egész számról, hogy prím-e."
   ]
  },
  {
   "cell_type": "code",
   "execution_count": 7,
   "id": "41b6345c",
   "metadata": {},
   "outputs": [],
   "source": [
    "def prim(szam):\n",
    "    for i in range(2,szam):\n",
    "        if szam%i==0:\n",
    "            prime = False\n",
    "            break\n",
    "    else:\n",
    "        prime = True\n",
    "    return prime"
   ]
  },
  {
   "cell_type": "code",
   "execution_count": 8,
   "id": "0ec511e3",
   "metadata": {},
   "outputs": [
    {
     "data": {
      "text/plain": [
       "False"
      ]
     },
     "execution_count": 8,
     "metadata": {},
     "output_type": "execute_result"
    }
   ],
   "source": [
    "prim(4)"
   ]
  },
  {
   "cell_type": "code",
   "execution_count": 9,
   "id": "86f8e556",
   "metadata": {},
   "outputs": [
    {
     "data": {
      "text/plain": [
       "True"
      ]
     },
     "execution_count": 9,
     "metadata": {},
     "output_type": "execute_result"
    }
   ],
   "source": [
    "prim(7)"
   ]
  },
  {
   "cell_type": "markdown",
   "id": "8ff2d05e",
   "metadata": {},
   "source": [
    "# Írj egy függvényt aminek az inputja egy list, az outputja pedig a list numerikus elemeit tartalmazza (kiszűri a szöveges és boolean elemeket)."
   ]
  },
  {
   "cell_type": "code",
   "execution_count": 10,
   "id": "dc4b9619",
   "metadata": {},
   "outputs": [],
   "source": [
    "def numerikus(lista):\n",
    "    retval = []\n",
    "    for x in lista:\n",
    "        if type(x)==int or type(x)==float:\n",
    "            retval.append(x)\n",
    "        else:\n",
    "            continue\n",
    "    return retval"
   ]
  },
  {
   "cell_type": "code",
   "execution_count": 11,
   "id": "5a88b9fe",
   "metadata": {},
   "outputs": [
    {
     "data": {
      "text/plain": [
       "[2, 3.33]"
      ]
     },
     "execution_count": 11,
     "metadata": {},
     "output_type": "execute_result"
    }
   ],
   "source": [
    "numerikus([2, 3.33, 'alma', True])"
   ]
  },
  {
   "cell_type": "markdown",
   "id": "0ec751fa",
   "metadata": {},
   "source": [
    "# Írj egy függvényt aminek az inputja egy egész szám, az outputja pedig egy list ami az adott szám prímtényezős felbontását tartalmazza."
   ]
  },
  {
   "cell_type": "code",
   "execution_count": 12,
   "id": "6fd9ecfc",
   "metadata": {},
   "outputs": [],
   "source": [
    "def felbont(szam):\n",
    "    maradek = szam\n",
    "    primtenyezok=[]\n",
    "    while maradek!=1:\n",
    "        for i in range(2, maradek+1):\n",
    "            if maradek%i==0:\n",
    "                primtenyezok.append(i)\n",
    "                maradek=maradek//i\n",
    "                break\n",
    "    return primtenyezok"
   ]
  },
  {
   "cell_type": "code",
   "execution_count": 13,
   "id": "464e4ed2",
   "metadata": {},
   "outputs": [
    {
     "data": {
      "text/plain": [
       "[2, 11, 11, 17203]"
      ]
     },
     "execution_count": 13,
     "metadata": {},
     "output_type": "execute_result"
    }
   ],
   "source": [
    "felbont(4163126)"
   ]
  },
  {
   "cell_type": "code",
   "execution_count": 14,
   "id": "bd997b80",
   "metadata": {},
   "outputs": [
    {
     "data": {
      "text/plain": [
       "True"
      ]
     },
     "execution_count": 14,
     "metadata": {},
     "output_type": "execute_result"
    }
   ],
   "source": [
    "prim(17203)"
   ]
  }
 ],
 "metadata": {
  "authors": [
   {
    "name": "Oliver Kiss\\\\Central European University"
   }
  ],
  "kernelspec": {
   "display_name": "Python 3 (ipykernel)",
   "language": "python",
   "name": "python3"
  },
  "language_info": {
   "codemirror_mode": {
    "name": "ipython",
    "version": 3
   },
   "file_extension": ".py",
   "mimetype": "text/x-python",
   "name": "python",
   "nbconvert_exporter": "python",
   "pygments_lexer": "ipython3",
   "version": "3.7.3"
  },
  "title": "Függvények - Megoldások"
 },
 "nbformat": 4,
 "nbformat_minor": 5
}
