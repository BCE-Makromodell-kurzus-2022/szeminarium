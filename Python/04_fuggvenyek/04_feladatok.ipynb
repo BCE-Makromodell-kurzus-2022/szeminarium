{
 "cells": [
  {
   "cell_type": "markdown",
   "id": "3d982d80",
   "metadata": {},
   "source": [
    "# Írj egy függvényt ami összeszoroz minden számot egy iterálható inputban (list, tuple)."
   ]
  },
  {
   "cell_type": "markdown",
   "id": "3c904fae",
   "metadata": {},
   "source": [
    "# Írj egy függvényt ami kiszámolja egy pozitív egész szám faktoriálisát."
   ]
  },
  {
   "cell_type": "markdown",
   "id": "26e25594",
   "metadata": {},
   "source": [
    "# Írj egy függvényt aminek az inputja egy list, az outputja egy list amely az eredeti list egyedi elemeit tartalmazza."
   ]
  },
  {
   "cell_type": "markdown",
   "id": "b98fe550",
   "metadata": {},
   "source": [
    "# Írj egy függvényt ami eldönti egy pozitív egész számról, hogy prím-e."
   ]
  },
  {
   "cell_type": "markdown",
   "id": "8ff2d05e",
   "metadata": {},
   "source": [
    "# Írj egy függvényt aminek az inputja egy list, az outputja pedig a list numerikus elemeit tartalmazza (kiszűri a szöveges és boolean elemeket)."
   ]
  },
  {
   "cell_type": "markdown",
   "id": "0ec751fa",
   "metadata": {},
   "source": [
    "# Írj egy függvényt aminek az inputja egy egész szám, az outputja pedig egy list ami az adott szám prímtényezős felbontását tartalmazza."
   ]
  }
 ],
 "metadata": {
  "authors": [
   {
    "name": "Oliver Kiss\\\\Central European University"
   }
  ],
  "kernelspec": {
   "display_name": "Python 3 (ipykernel)",
   "language": "python",
   "name": "python3"
  },
  "language_info": {
   "codemirror_mode": {
    "name": "ipython",
    "version": 3
   },
   "file_extension": ".py",
   "mimetype": "text/x-python",
   "name": "python",
   "nbconvert_exporter": "python",
   "pygments_lexer": "ipython3",
   "version": "3.9.2"
  },
  "title": "Függvények - Feladatok"
 },
 "nbformat": 4,
 "nbformat_minor": 5
}
