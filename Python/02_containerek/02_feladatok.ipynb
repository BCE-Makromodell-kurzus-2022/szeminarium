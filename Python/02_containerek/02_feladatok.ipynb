{
 "cells": [
  {
   "cell_type": "markdown",
   "id": "809917e7",
   "metadata": {},
   "source": [
    "# A következő cellában több objektumot definiálunk. Határozd meg az alatta látható cellákban lévő kifejezések értékét. Verifikáld az eredményeid a kód lefuttatásával."
   ]
  },
  {
   "cell_type": "code",
   "execution_count": 1,
   "id": "b76186fd",
   "metadata": {},
   "outputs": [],
   "source": [
    "a = [2, 'alma', [3, 'paprika']]\n",
    "b = (2, [3, 6], 5)\n",
    "c = {'alma':5,'narancs':[2, 3]}\n",
    "d = [{2:3,4:8},('alma','paradicsom','krumpli'),'hagyma',['négy']]"
   ]
  },
  {
   "cell_type": "code",
   "execution_count": 2,
   "id": "20c48818",
   "metadata": {},
   "outputs": [
    {
     "data": {
      "text/plain": [
       "2"
      ]
     },
     "execution_count": 2,
     "metadata": {},
     "output_type": "execute_result"
    }
   ],
   "source": [
    "a[0]"
   ]
  },
  {
   "cell_type": "code",
   "execution_count": 3,
   "id": "003599d1",
   "metadata": {},
   "outputs": [
    {
     "data": {
      "text/plain": [
       "'paprika'"
      ]
     },
     "execution_count": 3,
     "metadata": {},
     "output_type": "execute_result"
    }
   ],
   "source": [
    "a[2][1]"
   ]
  },
  {
   "cell_type": "code",
   "execution_count": 4,
   "id": "5ded7806",
   "metadata": {},
   "outputs": [
    {
     "data": {
      "text/plain": [
       "3"
      ]
     },
     "execution_count": 4,
     "metadata": {},
     "output_type": "execute_result"
    }
   ],
   "source": [
    "a[-1][0]"
   ]
  },
  {
   "cell_type": "code",
   "execution_count": 5,
   "id": "9f7c85bb",
   "metadata": {},
   "outputs": [
    {
     "data": {
      "text/plain": [
       "[3, 6]"
      ]
     },
     "execution_count": 5,
     "metadata": {},
     "output_type": "execute_result"
    }
   ],
   "source": [
    "b[-2]"
   ]
  },
  {
   "cell_type": "code",
   "execution_count": 6,
   "id": "3d210a25",
   "metadata": {},
   "outputs": [
    {
     "data": {
      "text/plain": [
       "3"
      ]
     },
     "execution_count": 6,
     "metadata": {},
     "output_type": "execute_result"
    }
   ],
   "source": [
    "c['narancs'][1]"
   ]
  },
  {
   "cell_type": "code",
   "execution_count": 7,
   "id": "0cab8657",
   "metadata": {},
   "outputs": [
    {
     "data": {
      "text/plain": [
       "'hagyma'"
      ]
     },
     "execution_count": 7,
     "metadata": {},
     "output_type": "execute_result"
    }
   ],
   "source": [
    "d[2]"
   ]
  },
  {
   "cell_type": "code",
   "execution_count": 8,
   "id": "3f9b6452",
   "metadata": {},
   "outputs": [
    {
     "data": {
      "text/plain": [
       "8"
      ]
     },
     "execution_count": 8,
     "metadata": {},
     "output_type": "execute_result"
    }
   ],
   "source": [
    "d[0][4]"
   ]
  },
  {
   "cell_type": "code",
   "execution_count": 9,
   "id": "ef0e77fd",
   "metadata": {},
   "outputs": [
    {
     "data": {
      "text/plain": [
       "'négy'"
      ]
     },
     "execution_count": 9,
     "metadata": {},
     "output_type": "execute_result"
    }
   ],
   "source": [
    "d[-1][0]"
   ]
  },
  {
   "cell_type": "markdown",
   "id": "30c8ea6c",
   "metadata": {},
   "source": [
    "# Vedd az első feladatban szereplő objektumokat. Az alábbi parancsok közül melyik eredményez hibát?  Verifikáld az eredményeid a kód lefuttatásával."
   ]
  },
  {
   "cell_type": "code",
   "execution_count": 10,
   "id": "3941308a",
   "metadata": {},
   "outputs": [
    {
     "ename": "TypeError",
     "evalue": "'tuple' object does not support item assignment",
     "output_type": "error",
     "traceback": [
      "\u001b[0;31m---------------------------------------------------------------------------\u001b[0m",
      "\u001b[0;31mTypeError\u001b[0m                                 Traceback (most recent call last)",
      "\u001b[0;32m/tmp/ipykernel_10216/3782770879.py\u001b[0m in \u001b[0;36m<module>\u001b[0;34m\u001b[0m\n\u001b[0;32m----> 1\u001b[0;31m \u001b[0mb\u001b[0m\u001b[0;34m[\u001b[0m\u001b[0;36m1\u001b[0m\u001b[0;34m]\u001b[0m \u001b[0;34m=\u001b[0m \u001b[0;36m4\u001b[0m\u001b[0;34m\u001b[0m\u001b[0;34m\u001b[0m\u001b[0m\n\u001b[0m",
      "\u001b[0;31mTypeError\u001b[0m: 'tuple' object does not support item assignment"
     ]
    }
   ],
   "source": [
    "b[1] = 4"
   ]
  },
  {
   "cell_type": "code",
   "execution_count": 11,
   "id": "264feda2",
   "metadata": {},
   "outputs": [],
   "source": [
    "b[1][0] = 5"
   ]
  },
  {
   "cell_type": "code",
   "execution_count": 12,
   "id": "f7515a06",
   "metadata": {},
   "outputs": [
    {
     "ename": "TypeError",
     "evalue": "'tuple' object does not support item assignment",
     "output_type": "error",
     "traceback": [
      "\u001b[0;31m---------------------------------------------------------------------------\u001b[0m",
      "\u001b[0;31mTypeError\u001b[0m                                 Traceback (most recent call last)",
      "\u001b[0;32m/tmp/ipykernel_10216/1988624208.py\u001b[0m in \u001b[0;36m<module>\u001b[0;34m\u001b[0m\n\u001b[0;32m----> 1\u001b[0;31m \u001b[0md\u001b[0m\u001b[0;34m[\u001b[0m\u001b[0;36m1\u001b[0m\u001b[0;34m]\u001b[0m\u001b[0;34m[\u001b[0m\u001b[0;36m2\u001b[0m\u001b[0;34m]\u001b[0m \u001b[0;34m=\u001b[0m \u001b[0;36m0\u001b[0m\u001b[0;34m\u001b[0m\u001b[0;34m\u001b[0m\u001b[0m\n\u001b[0m",
      "\u001b[0;31mTypeError\u001b[0m: 'tuple' object does not support item assignment"
     ]
    }
   ],
   "source": [
    "d[1][2] = 0"
   ]
  },
  {
   "cell_type": "code",
   "execution_count": 13,
   "id": "7f0f4e3d",
   "metadata": {},
   "outputs": [],
   "source": [
    "d[1] = 3"
   ]
  },
  {
   "cell_type": "code",
   "execution_count": 14,
   "id": "e7883919",
   "metadata": {},
   "outputs": [],
   "source": [
    "c['narancs'] = d[0]"
   ]
  }
 ],
 "metadata": {
  "authors": [
   {
    "name": "Oliver Kiss\\\\Central European University"
   }
  ],
  "kernelspec": {
   "display_name": "Python 3 (ipykernel)",
   "language": "python",
   "name": "python3"
  },
  "language_info": {
   "codemirror_mode": {
    "name": "ipython",
    "version": 3
   },
   "file_extension": ".py",
   "mimetype": "text/x-python",
   "name": "python",
   "nbconvert_exporter": "python",
   "pygments_lexer": "ipython3",
   "version": "3.7.3"
  },
  "title": "List, Tuple, Set és Dict - Megoldások"
 },
 "nbformat": 4,
 "nbformat_minor": 5
}
