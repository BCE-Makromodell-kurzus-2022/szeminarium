{
 "cells": [
  {
   "cell_type": "markdown",
   "id": "4d216616",
   "metadata": {},
   "source": [
    "# Container objektumok"
   ]
  },
  {
   "cell_type": "markdown",
   "id": "511978bd",
   "metadata": {},
   "source": [
    "## List"
   ]
  },
  {
   "cell_type": "raw",
   "id": "53600aa8",
   "metadata": {},
   "source": [
    "A list több objektum tárolására használható indexált objektum, melyet szögletes zárójelek között definiálunk."
   ]
  },
  {
   "cell_type": "code",
   "execution_count": 1,
   "id": "269dc51b",
   "metadata": {},
   "outputs": [],
   "source": [
    "a = [7, 6.2, 'alma', True]"
   ]
  },
  {
   "cell_type": "code",
   "execution_count": 2,
   "id": "455a2480",
   "metadata": {},
   "outputs": [
    {
     "data": {
      "text/plain": [
       "list"
      ]
     },
     "execution_count": 2,
     "metadata": {},
     "output_type": "execute_result"
    }
   ],
   "source": [
    "type(a)"
   ]
  },
  {
   "cell_type": "code",
   "execution_count": 3,
   "id": "4877117d",
   "metadata": {},
   "outputs": [
    {
     "data": {
      "text/plain": [
       "[7, 6.2, 'alma', True]"
      ]
     },
     "execution_count": 3,
     "metadata": {},
     "output_type": "execute_result"
    }
   ],
   "source": [
    "a"
   ]
  },
  {
   "cell_type": "code",
   "execution_count": 4,
   "id": "620a7506",
   "metadata": {},
   "outputs": [
    {
     "data": {
      "text/plain": [
       "7"
      ]
     },
     "execution_count": 4,
     "metadata": {},
     "output_type": "execute_result"
    }
   ],
   "source": [
    "# Pythonban zero indexing van, az első elem indexe mindig 0\n",
    "a[0]"
   ]
  },
  {
   "cell_type": "code",
   "execution_count": 5,
   "id": "1b245574",
   "metadata": {},
   "outputs": [
    {
     "data": {
      "text/plain": [
       "6.2"
      ]
     },
     "execution_count": 5,
     "metadata": {},
     "output_type": "execute_result"
    }
   ],
   "source": [
    "a[1]"
   ]
  },
  {
   "cell_type": "code",
   "execution_count": 6,
   "id": "fa8c65d6",
   "metadata": {},
   "outputs": [
    {
     "data": {
      "text/plain": [
       "'alma'"
      ]
     },
     "execution_count": 6,
     "metadata": {},
     "output_type": "execute_result"
    }
   ],
   "source": [
    "a[2]"
   ]
  },
  {
   "cell_type": "code",
   "execution_count": 7,
   "id": "8b3a3788",
   "metadata": {},
   "outputs": [
    {
     "data": {
      "text/plain": [
       "True"
      ]
     },
     "execution_count": 7,
     "metadata": {},
     "output_type": "execute_result"
    }
   ],
   "source": [
    "a[3]"
   ]
  },
  {
   "cell_type": "code",
   "execution_count": 8,
   "id": "7964b98c",
   "metadata": {},
   "outputs": [
    {
     "ename": "IndexError",
     "evalue": "list index out of range",
     "output_type": "error",
     "traceback": [
      "\u001b[0;31m---------------------------------------------------------------------------\u001b[0m",
      "\u001b[0;31mIndexError\u001b[0m                                Traceback (most recent call last)",
      "\u001b[0;32m/tmp/ipykernel_9828/3944406842.py\u001b[0m in \u001b[0;36m<module>\u001b[0;34m\u001b[0m\n\u001b[0;32m----> 1\u001b[0;31m \u001b[0ma\u001b[0m\u001b[0;34m[\u001b[0m\u001b[0;36m4\u001b[0m\u001b[0;34m]\u001b[0m\u001b[0;34m\u001b[0m\u001b[0;34m\u001b[0m\u001b[0m\n\u001b[0m",
      "\u001b[0;31mIndexError\u001b[0m: list index out of range"
     ]
    }
   ],
   "source": [
    "a[4]"
   ]
  },
  {
   "cell_type": "code",
   "execution_count": 9,
   "id": "53a189c2",
   "metadata": {},
   "outputs": [
    {
     "data": {
      "text/plain": [
       "True"
      ]
     },
     "execution_count": 9,
     "metadata": {},
     "output_type": "execute_result"
    }
   ],
   "source": [
    "a[-1]"
   ]
  },
  {
   "cell_type": "code",
   "execution_count": 10,
   "id": "c809a37d",
   "metadata": {},
   "outputs": [
    {
     "data": {
      "text/plain": [
       "'alma'"
      ]
     },
     "execution_count": 10,
     "metadata": {},
     "output_type": "execute_result"
    }
   ],
   "source": [
    "a[-2]"
   ]
  },
  {
   "cell_type": "code",
   "execution_count": 11,
   "id": "1a9d6aa5",
   "metadata": {},
   "outputs": [
    {
     "data": {
      "text/plain": [
       "6.2"
      ]
     },
     "execution_count": 11,
     "metadata": {},
     "output_type": "execute_result"
    }
   ],
   "source": [
    "a[-3]"
   ]
  },
  {
   "cell_type": "code",
   "execution_count": 12,
   "id": "4b4fb117",
   "metadata": {},
   "outputs": [
    {
     "data": {
      "text/plain": [
       "7"
      ]
     },
     "execution_count": 12,
     "metadata": {},
     "output_type": "execute_result"
    }
   ],
   "source": [
    "a[-4]"
   ]
  },
  {
   "cell_type": "code",
   "execution_count": 13,
   "id": "f1bf7d47",
   "metadata": {},
   "outputs": [
    {
     "ename": "IndexError",
     "evalue": "list index out of range",
     "output_type": "error",
     "traceback": [
      "\u001b[0;31m---------------------------------------------------------------------------\u001b[0m",
      "\u001b[0;31mIndexError\u001b[0m                                Traceback (most recent call last)",
      "\u001b[0;32m/tmp/ipykernel_9828/639495242.py\u001b[0m in \u001b[0;36m<module>\u001b[0;34m\u001b[0m\n\u001b[0;32m----> 1\u001b[0;31m \u001b[0ma\u001b[0m\u001b[0;34m[\u001b[0m\u001b[0;34m-\u001b[0m\u001b[0;36m5\u001b[0m\u001b[0;34m]\u001b[0m\u001b[0;34m\u001b[0m\u001b[0;34m\u001b[0m\u001b[0m\n\u001b[0m",
      "\u001b[0;31mIndexError\u001b[0m: list index out of range"
     ]
    }
   ],
   "source": [
    "a[-5]"
   ]
  },
  {
   "cell_type": "code",
   "execution_count": 14,
   "id": "7fee9052",
   "metadata": {},
   "outputs": [],
   "source": [
    "# Intervallumok is kiválaszthatók, ekkor a nyitó indexben zárt, a záró indexben nyitott az intervallum"
   ]
  },
  {
   "cell_type": "code",
   "execution_count": 15,
   "id": "be085861",
   "metadata": {},
   "outputs": [
    {
     "data": {
      "text/plain": [
       "[7, 6.2]"
      ]
     },
     "execution_count": 15,
     "metadata": {},
     "output_type": "execute_result"
    }
   ],
   "source": [
    "a[0:2]"
   ]
  },
  {
   "cell_type": "code",
   "execution_count": 16,
   "id": "fe4e9770",
   "metadata": {},
   "outputs": [
    {
     "data": {
      "text/plain": [
       "[7, 6.2, 'alma']"
      ]
     },
     "execution_count": 16,
     "metadata": {},
     "output_type": "execute_result"
    }
   ],
   "source": [
    "a[0:3]"
   ]
  },
  {
   "cell_type": "code",
   "execution_count": 17,
   "id": "e4000e07",
   "metadata": {},
   "outputs": [
    {
     "data": {
      "text/plain": [
       "['alma', True]"
      ]
     },
     "execution_count": 17,
     "metadata": {},
     "output_type": "execute_result"
    }
   ],
   "source": [
    "a[2:]"
   ]
  },
  {
   "cell_type": "code",
   "execution_count": 18,
   "id": "a6a91eb6",
   "metadata": {},
   "outputs": [
    {
     "data": {
      "text/plain": [
       "[7, 6.2, 'alma']"
      ]
     },
     "execution_count": 18,
     "metadata": {},
     "output_type": "execute_result"
    }
   ],
   "source": [
    "a[:3]"
   ]
  },
  {
   "cell_type": "code",
   "execution_count": 19,
   "id": "d6d8ec6f",
   "metadata": {},
   "outputs": [
    {
     "data": {
      "text/plain": [
       "[6.2]"
      ]
     },
     "execution_count": 19,
     "metadata": {},
     "output_type": "execute_result"
    }
   ],
   "source": [
    "a[1:2]"
   ]
  },
  {
   "cell_type": "code",
   "execution_count": 20,
   "id": "be6b02dc",
   "metadata": {},
   "outputs": [],
   "source": [
    "# Vegyük észre, hogy intervallum kiválasztásánál, még ha az egy elemű is, lista az output"
   ]
  },
  {
   "cell_type": "code",
   "execution_count": 21,
   "id": "294b34da",
   "metadata": {},
   "outputs": [
    {
     "data": {
      "text/plain": [
       "'alma'"
      ]
     },
     "execution_count": 21,
     "metadata": {},
     "output_type": "execute_result"
    }
   ],
   "source": [
    "a[2]"
   ]
  },
  {
   "cell_type": "code",
   "execution_count": 22,
   "id": "2153ceca",
   "metadata": {},
   "outputs": [
    {
     "data": {
      "text/plain": [
       "['alma']"
      ]
     },
     "execution_count": 22,
     "metadata": {},
     "output_type": "execute_result"
    }
   ],
   "source": [
    "a[2:3]"
   ]
  },
  {
   "cell_type": "code",
   "execution_count": 23,
   "id": "3736a3f8",
   "metadata": {},
   "outputs": [],
   "source": [
    "# A listának vannak ú.n. methodjai, amikkel műveleteket végezhetünk rajta"
   ]
  },
  {
   "cell_type": "code",
   "execution_count": 24,
   "id": "5eea38c8",
   "metadata": {},
   "outputs": [],
   "source": [
    "# Append: Elem hozzáadása a listához"
   ]
  },
  {
   "cell_type": "code",
   "execution_count": 25,
   "id": "1223a633",
   "metadata": {},
   "outputs": [
    {
     "data": {
      "text/plain": [
       "[7, 6.2, 'alma', True]"
      ]
     },
     "execution_count": 25,
     "metadata": {},
     "output_type": "execute_result"
    }
   ],
   "source": [
    "a"
   ]
  },
  {
   "cell_type": "code",
   "execution_count": 26,
   "id": "65c2a886",
   "metadata": {},
   "outputs": [],
   "source": [
    "a.append(False)"
   ]
  },
  {
   "cell_type": "code",
   "execution_count": 27,
   "id": "43cb3810",
   "metadata": {},
   "outputs": [
    {
     "data": {
      "text/plain": [
       "[7, 6.2, 'alma', True, False]"
      ]
     },
     "execution_count": 27,
     "metadata": {},
     "output_type": "execute_result"
    }
   ],
   "source": [
    "a"
   ]
  },
  {
   "cell_type": "code",
   "execution_count": 28,
   "id": "67cdfd32",
   "metadata": {},
   "outputs": [],
   "source": [
    "# A listán azonos elem többször is szerepelhet"
   ]
  },
  {
   "cell_type": "code",
   "execution_count": 29,
   "id": "f5cf0d04",
   "metadata": {},
   "outputs": [],
   "source": [
    "a.append(5)"
   ]
  },
  {
   "cell_type": "code",
   "execution_count": 30,
   "id": "3818cf37",
   "metadata": {},
   "outputs": [],
   "source": [
    "a.append(5)"
   ]
  },
  {
   "cell_type": "code",
   "execution_count": 31,
   "id": "af80fc61",
   "metadata": {},
   "outputs": [],
   "source": [
    "a.append(5)"
   ]
  },
  {
   "cell_type": "code",
   "execution_count": 32,
   "id": "acd9afff",
   "metadata": {},
   "outputs": [
    {
     "data": {
      "text/plain": [
       "[7, 6.2, 'alma', True, False, 5, 5, 5]"
      ]
     },
     "execution_count": 32,
     "metadata": {},
     "output_type": "execute_result"
    }
   ],
   "source": [
    "a"
   ]
  },
  {
   "cell_type": "code",
   "execution_count": 33,
   "id": "7adab942",
   "metadata": {},
   "outputs": [],
   "source": [
    "# Count: megszámolja, hogy egy adott elem hányszor szerepel a listán"
   ]
  },
  {
   "cell_type": "code",
   "execution_count": 34,
   "id": "300a6a31",
   "metadata": {},
   "outputs": [
    {
     "data": {
      "text/plain": [
       "3"
      ]
     },
     "execution_count": 34,
     "metadata": {},
     "output_type": "execute_result"
    }
   ],
   "source": [
    "a.count(5)"
   ]
  },
  {
   "cell_type": "code",
   "execution_count": 35,
   "id": "c7ca8837",
   "metadata": {},
   "outputs": [],
   "source": [
    "# Remove: Eltávolítja az adott elem első előfordulását a listáról\n",
    "a.remove(True)"
   ]
  },
  {
   "cell_type": "code",
   "execution_count": 36,
   "id": "d625506c",
   "metadata": {},
   "outputs": [
    {
     "data": {
      "text/plain": [
       "[7, 6.2, 'alma', False, 5, 5, 5]"
      ]
     },
     "execution_count": 36,
     "metadata": {},
     "output_type": "execute_result"
    }
   ],
   "source": [
    "a"
   ]
  },
  {
   "cell_type": "code",
   "execution_count": 37,
   "id": "9587e2f9",
   "metadata": {},
   "outputs": [],
   "source": [
    "a.remove(5)"
   ]
  },
  {
   "cell_type": "code",
   "execution_count": 38,
   "id": "5bdc8e8e",
   "metadata": {},
   "outputs": [
    {
     "data": {
      "text/plain": [
       "[7, 6.2, 'alma', False, 5, 5]"
      ]
     },
     "execution_count": 38,
     "metadata": {},
     "output_type": "execute_result"
    }
   ],
   "source": [
    "a"
   ]
  },
  {
   "cell_type": "code",
   "execution_count": 39,
   "id": "8d92516a",
   "metadata": {},
   "outputs": [],
   "source": [
    "# Pop: Eltávolítja az adott indexű elemet a listáról"
   ]
  },
  {
   "cell_type": "code",
   "execution_count": 40,
   "id": "c6dd0487",
   "metadata": {},
   "outputs": [
    {
     "data": {
      "text/plain": [
       "'alma'"
      ]
     },
     "execution_count": 40,
     "metadata": {},
     "output_type": "execute_result"
    }
   ],
   "source": [
    "a.pop(2)"
   ]
  },
  {
   "cell_type": "code",
   "execution_count": 41,
   "id": "f22a2652",
   "metadata": {},
   "outputs": [
    {
     "data": {
      "text/plain": [
       "[7, 6.2, False, 5, 5]"
      ]
     },
     "execution_count": 41,
     "metadata": {},
     "output_type": "execute_result"
    }
   ],
   "source": [
    "a"
   ]
  },
  {
   "cell_type": "code",
   "execution_count": 42,
   "id": "f69df969",
   "metadata": {},
   "outputs": [],
   "source": [
    "# Reverse: megfordítja a lista elemek sorrendjét"
   ]
  },
  {
   "cell_type": "code",
   "execution_count": 43,
   "id": "9496ccdf",
   "metadata": {},
   "outputs": [],
   "source": [
    "a.reverse()"
   ]
  },
  {
   "cell_type": "code",
   "execution_count": 44,
   "id": "db99e5a6",
   "metadata": {},
   "outputs": [
    {
     "data": {
      "text/plain": [
       "[5, 5, False, 6.2, 7]"
      ]
     },
     "execution_count": 44,
     "metadata": {},
     "output_type": "execute_result"
    }
   ],
   "source": [
    "a"
   ]
  },
  {
   "cell_type": "code",
   "execution_count": 45,
   "id": "96a6916f",
   "metadata": {},
   "outputs": [],
   "source": [
    "# Sort: sortolja a listát"
   ]
  },
  {
   "cell_type": "code",
   "execution_count": 46,
   "id": "894b3119",
   "metadata": {},
   "outputs": [],
   "source": [
    "a.sort()"
   ]
  },
  {
   "cell_type": "code",
   "execution_count": 47,
   "id": "e1825e43",
   "metadata": {},
   "outputs": [
    {
     "data": {
      "text/plain": [
       "[False, 5, 5, 6.2, 7]"
      ]
     },
     "execution_count": 47,
     "metadata": {},
     "output_type": "execute_result"
    }
   ],
   "source": [
    "a"
   ]
  },
  {
   "cell_type": "raw",
   "id": "86ee1518",
   "metadata": {},
   "source": [
    "A lista elemei felülírhatók"
   ]
  },
  {
   "cell_type": "code",
   "execution_count": 48,
   "id": "0819b2c0",
   "metadata": {},
   "outputs": [],
   "source": [
    "a[0] = 'körte'"
   ]
  },
  {
   "cell_type": "code",
   "execution_count": 49,
   "id": "d75eb818",
   "metadata": {},
   "outputs": [
    {
     "data": {
      "text/plain": [
       "['körte', 5, 5, 6.2, 7]"
      ]
     },
     "execution_count": 49,
     "metadata": {},
     "output_type": "execute_result"
    }
   ],
   "source": [
    "a"
   ]
  },
  {
   "cell_type": "code",
   "execution_count": 50,
   "id": "206f08af",
   "metadata": {},
   "outputs": [],
   "source": [
    "a[0:2] = [2, 3]"
   ]
  },
  {
   "cell_type": "code",
   "execution_count": 51,
   "id": "cb0dce7c",
   "metadata": {},
   "outputs": [
    {
     "data": {
      "text/plain": [
       "[2, 3, 5, 6.2, 7]"
      ]
     },
     "execution_count": 51,
     "metadata": {},
     "output_type": "execute_result"
    }
   ],
   "source": [
    "a"
   ]
  },
  {
   "cell_type": "raw",
   "id": "7e807bf9",
   "metadata": {},
   "source": [
    "Még több a list methodokról a Python dokumentációjában: https://docs.python.org/3/tutorial/datastructures.html"
   ]
  },
  {
   "cell_type": "markdown",
   "id": "0a297095",
   "metadata": {},
   "source": [
    "## Műveletek list-ekkel"
   ]
  },
  {
   "cell_type": "code",
   "execution_count": 52,
   "id": "d5bb59da",
   "metadata": {},
   "outputs": [],
   "source": [
    "# List hosszának meghatározása"
   ]
  },
  {
   "cell_type": "code",
   "execution_count": 53,
   "id": "51f8c59d",
   "metadata": {},
   "outputs": [
    {
     "data": {
      "text/plain": [
       "5"
      ]
     },
     "execution_count": 53,
     "metadata": {},
     "output_type": "execute_result"
    }
   ],
   "source": [
    "len(a)"
   ]
  },
  {
   "cell_type": "code",
   "execution_count": 54,
   "id": "023da619",
   "metadata": {},
   "outputs": [
    {
     "data": {
      "text/plain": [
       "23.2"
      ]
     },
     "execution_count": 54,
     "metadata": {},
     "output_type": "execute_result"
    }
   ],
   "source": [
    "# List elemeinek összege - csak ha összeadhatók a listaelemek\n",
    "sum(a)"
   ]
  },
  {
   "cell_type": "code",
   "execution_count": 55,
   "id": "4671afb4",
   "metadata": {},
   "outputs": [
    {
     "data": {
      "text/plain": [
       "[2, 3, 5, 6.2, 7, 2, 3, 5, 6.2, 7, 2, 3, 5, 6.2, 7]"
      ]
     },
     "execution_count": 55,
     "metadata": {},
     "output_type": "execute_result"
    }
   ],
   "source": [
    "# Listelemek ismétlése\n",
    "a*3"
   ]
  },
  {
   "cell_type": "code",
   "execution_count": 56,
   "id": "3e582bef",
   "metadata": {},
   "outputs": [
    {
     "data": {
      "text/plain": [
       "'Ez egy lista szavakkal'"
      ]
     },
     "execution_count": 56,
     "metadata": {},
     "output_type": "execute_result"
    }
   ],
   "source": [
    "# Szöveges listáknál konkatenálás lehetséges\n",
    "strlist = ['Ez', 'egy', 'lista', 'szavakkal']\n",
    "' '.join(strlist)"
   ]
  },
  {
   "cell_type": "code",
   "execution_count": 57,
   "id": "b17d6f76",
   "metadata": {},
   "outputs": [],
   "source": [
    "# Szöveg könnyen listába bontható"
   ]
  },
  {
   "cell_type": "code",
   "execution_count": 58,
   "id": "36784a7b",
   "metadata": {},
   "outputs": [],
   "source": [
    "stringem = \"Ez egy mondat, amit szavakra fogok majd bontani\""
   ]
  },
  {
   "cell_type": "code",
   "execution_count": 59,
   "id": "2ffc821a",
   "metadata": {},
   "outputs": [
    {
     "data": {
      "text/plain": [
       "['Ez', 'egy', 'mondat,', 'amit', 'szavakra', 'fogok', 'majd', 'bontani']"
      ]
     },
     "execution_count": 59,
     "metadata": {},
     "output_type": "execute_result"
    }
   ],
   "source": [
    "stringem.split()"
   ]
  },
  {
   "cell_type": "markdown",
   "id": "81389596",
   "metadata": {},
   "source": [
    "## Tuple"
   ]
  },
  {
   "cell_type": "raw",
   "id": "b82facb4",
   "metadata": {},
   "source": [
    "List-hez hasonló objektum, azonban az elemei nem módosíthatók és nem adható hozzá elem. Zárójelek között definiáljuk."
   ]
  },
  {
   "cell_type": "code",
   "execution_count": 60,
   "id": "82b6016b",
   "metadata": {},
   "outputs": [],
   "source": [
    "b = (1, 2, 3, 'alma', True)"
   ]
  },
  {
   "cell_type": "code",
   "execution_count": 61,
   "id": "9ec464b6",
   "metadata": {},
   "outputs": [
    {
     "data": {
      "text/plain": [
       "1"
      ]
     },
     "execution_count": 61,
     "metadata": {},
     "output_type": "execute_result"
    }
   ],
   "source": [
    "# Ugyanúgy indexálható\n",
    "b[0]"
   ]
  },
  {
   "cell_type": "code",
   "execution_count": 62,
   "id": "0787e7bb",
   "metadata": {},
   "outputs": [
    {
     "data": {
      "text/plain": [
       "'alma'"
      ]
     },
     "execution_count": 62,
     "metadata": {},
     "output_type": "execute_result"
    }
   ],
   "source": [
    "b[3]"
   ]
  },
  {
   "cell_type": "code",
   "execution_count": 63,
   "id": "d15bace2",
   "metadata": {},
   "outputs": [
    {
     "data": {
      "text/plain": [
       "2"
      ]
     },
     "execution_count": 63,
     "metadata": {},
     "output_type": "execute_result"
    }
   ],
   "source": [
    "b[-4]"
   ]
  },
  {
   "cell_type": "code",
   "execution_count": 64,
   "id": "298eecde",
   "metadata": {},
   "outputs": [
    {
     "data": {
      "text/plain": [
       "(3, 'alma', True)"
      ]
     },
     "execution_count": 64,
     "metadata": {},
     "output_type": "execute_result"
    }
   ],
   "source": [
    "# Több elem kiválasztásánál egy újabb tuple-t kapunk vissza\n",
    "b[2:5]"
   ]
  },
  {
   "cell_type": "code",
   "execution_count": 65,
   "id": "59244882",
   "metadata": {},
   "outputs": [
    {
     "data": {
      "text/plain": [
       "(3,)"
      ]
     },
     "execution_count": 65,
     "metadata": {},
     "output_type": "execute_result"
    }
   ],
   "source": [
    "b[2:3]"
   ]
  },
  {
   "cell_type": "code",
   "execution_count": 66,
   "id": "095f71c6",
   "metadata": {},
   "outputs": [
    {
     "ename": "TypeError",
     "evalue": "'tuple' object does not support item assignment",
     "output_type": "error",
     "traceback": [
      "\u001b[0;31m---------------------------------------------------------------------------\u001b[0m",
      "\u001b[0;31mTypeError\u001b[0m                                 Traceback (most recent call last)",
      "\u001b[0;32m/tmp/ipykernel_9828/2963503365.py\u001b[0m in \u001b[0;36m<module>\u001b[0;34m\u001b[0m\n\u001b[1;32m      1\u001b[0m \u001b[0;31m# Nem írható felül egy eleme önmagában\u001b[0m\u001b[0;34m\u001b[0m\u001b[0;34m\u001b[0m\u001b[0;34m\u001b[0m\u001b[0m\n\u001b[0;32m----> 2\u001b[0;31m \u001b[0mb\u001b[0m\u001b[0;34m[\u001b[0m\u001b[0;36m2\u001b[0m\u001b[0;34m]\u001b[0m \u001b[0;34m=\u001b[0m \u001b[0;36m3\u001b[0m\u001b[0;34m\u001b[0m\u001b[0;34m\u001b[0m\u001b[0m\n\u001b[0m",
      "\u001b[0;31mTypeError\u001b[0m: 'tuple' object does not support item assignment"
     ]
    }
   ],
   "source": [
    "# Nem írható felül egy eleme önmagában\n",
    "b[2] = 3"
   ]
  },
  {
   "cell_type": "code",
   "execution_count": 67,
   "id": "13d7b0d8",
   "metadata": {},
   "outputs": [],
   "source": [
    "# A tuple könnyen unpackelhető változókba"
   ]
  },
  {
   "cell_type": "code",
   "execution_count": 68,
   "id": "ad7e08ea",
   "metadata": {},
   "outputs": [
    {
     "data": {
      "text/plain": [
       "(1, 2, 3, 'alma', True)"
      ]
     },
     "execution_count": 68,
     "metadata": {},
     "output_type": "execute_result"
    }
   ],
   "source": [
    "b"
   ]
  },
  {
   "cell_type": "code",
   "execution_count": 69,
   "id": "2ad81fbb",
   "metadata": {},
   "outputs": [],
   "source": [
    "b1, b2, b3, b4, b5 = b"
   ]
  },
  {
   "cell_type": "code",
   "execution_count": 70,
   "id": "35bd73ff",
   "metadata": {},
   "outputs": [
    {
     "data": {
      "text/plain": [
       "1"
      ]
     },
     "execution_count": 70,
     "metadata": {},
     "output_type": "execute_result"
    }
   ],
   "source": [
    "b1"
   ]
  },
  {
   "cell_type": "code",
   "execution_count": 71,
   "id": "65a3533b",
   "metadata": {},
   "outputs": [
    {
     "data": {
      "text/plain": [
       "'alma'"
      ]
     },
     "execution_count": 71,
     "metadata": {},
     "output_type": "execute_result"
    }
   ],
   "source": [
    "b4"
   ]
  },
  {
   "cell_type": "code",
   "execution_count": 72,
   "id": "9137d3bd",
   "metadata": {},
   "outputs": [],
   "source": [
    "# A tuple egy eleme bármilyen objektum lehet, lista is"
   ]
  },
  {
   "cell_type": "code",
   "execution_count": 73,
   "id": "f4eedf5e",
   "metadata": {},
   "outputs": [],
   "source": [
    "c = (3, \"alma\", [2, 5, 6])"
   ]
  },
  {
   "cell_type": "code",
   "execution_count": 74,
   "id": "bfa4e6a3",
   "metadata": {},
   "outputs": [
    {
     "data": {
      "text/plain": [
       "[2, 5, 6]"
      ]
     },
     "execution_count": 74,
     "metadata": {},
     "output_type": "execute_result"
    }
   ],
   "source": [
    "c[2]"
   ]
  },
  {
   "cell_type": "code",
   "execution_count": 75,
   "id": "7c8dd8a5",
   "metadata": {},
   "outputs": [
    {
     "data": {
      "text/plain": [
       "5"
      ]
     },
     "execution_count": 75,
     "metadata": {},
     "output_type": "execute_result"
    }
   ],
   "source": [
    "c[2][1]"
   ]
  },
  {
   "cell_type": "code",
   "execution_count": 76,
   "id": "2fe25b89",
   "metadata": {},
   "outputs": [],
   "source": [
    "# Ez a listára is igaz"
   ]
  },
  {
   "cell_type": "code",
   "execution_count": 77,
   "id": "b5c6bc63",
   "metadata": {},
   "outputs": [],
   "source": [
    "d = [2, 4, [\"alma\", True], ('paprika','narancs')]"
   ]
  },
  {
   "cell_type": "code",
   "execution_count": 78,
   "id": "86eaa682",
   "metadata": {},
   "outputs": [
    {
     "data": {
      "text/plain": [
       "['alma', True]"
      ]
     },
     "execution_count": 78,
     "metadata": {},
     "output_type": "execute_result"
    }
   ],
   "source": [
    "d[2]"
   ]
  },
  {
   "cell_type": "code",
   "execution_count": 79,
   "id": "4182254e",
   "metadata": {},
   "outputs": [
    {
     "data": {
      "text/plain": [
       "('paprika', 'narancs')"
      ]
     },
     "execution_count": 79,
     "metadata": {},
     "output_type": "execute_result"
    }
   ],
   "source": [
    "d[3]"
   ]
  },
  {
   "cell_type": "code",
   "execution_count": 80,
   "id": "3795da05",
   "metadata": {},
   "outputs": [
    {
     "data": {
      "text/plain": [
       "'narancs'"
      ]
     },
     "execution_count": 80,
     "metadata": {},
     "output_type": "execute_result"
    }
   ],
   "source": [
    "d[3][1]"
   ]
  },
  {
   "cell_type": "code",
   "execution_count": 81,
   "id": "75ab90a1",
   "metadata": {},
   "outputs": [],
   "source": [
    "d[2].append(\"alma\")"
   ]
  },
  {
   "cell_type": "code",
   "execution_count": 82,
   "id": "9ab49fae",
   "metadata": {},
   "outputs": [
    {
     "data": {
      "text/plain": [
       "[2, 4, ['alma', True, 'alma'], ('paprika', 'narancs')]"
      ]
     },
     "execution_count": 82,
     "metadata": {},
     "output_type": "execute_result"
    }
   ],
   "source": [
    "d"
   ]
  },
  {
   "cell_type": "code",
   "execution_count": 83,
   "id": "216ce4c2",
   "metadata": {},
   "outputs": [],
   "source": [
    "# Bár a tuple elemei nem módosíthatók, egyben felülírható az egész tuple"
   ]
  },
  {
   "cell_type": "code",
   "execution_count": 84,
   "id": "28c06bf2",
   "metadata": {},
   "outputs": [
    {
     "data": {
      "text/plain": [
       "(1, 2, 3, 'alma', True)"
      ]
     },
     "execution_count": 84,
     "metadata": {},
     "output_type": "execute_result"
    }
   ],
   "source": [
    "b"
   ]
  },
  {
   "cell_type": "code",
   "execution_count": 85,
   "id": "ae3d1b14",
   "metadata": {},
   "outputs": [],
   "source": [
    "b = 3"
   ]
  },
  {
   "cell_type": "code",
   "execution_count": 86,
   "id": "8ceffd9c",
   "metadata": {},
   "outputs": [
    {
     "data": {
      "text/plain": [
       "3"
      ]
     },
     "execution_count": 86,
     "metadata": {},
     "output_type": "execute_result"
    }
   ],
   "source": [
    "b"
   ]
  },
  {
   "cell_type": "code",
   "execution_count": 87,
   "id": "e4efb5af",
   "metadata": {},
   "outputs": [],
   "source": [
    "b = (2, 4, 6)"
   ]
  },
  {
   "cell_type": "code",
   "execution_count": 88,
   "id": "ad3d42cb",
   "metadata": {},
   "outputs": [
    {
     "data": {
      "text/plain": [
       "(2, 4, 6)"
      ]
     },
     "execution_count": 88,
     "metadata": {},
     "output_type": "execute_result"
    }
   ],
   "source": [
    "b"
   ]
  },
  {
   "cell_type": "code",
   "execution_count": 89,
   "id": "e9ed1ec5",
   "metadata": {},
   "outputs": [],
   "source": [
    "b = ('alma', 'narancs')"
   ]
  },
  {
   "cell_type": "code",
   "execution_count": 90,
   "id": "267db171",
   "metadata": {},
   "outputs": [
    {
     "data": {
      "text/plain": [
       "('alma', 'narancs')"
      ]
     },
     "execution_count": 90,
     "metadata": {},
     "output_type": "execute_result"
    }
   ],
   "source": [
    "b"
   ]
  },
  {
   "cell_type": "code",
   "execution_count": 91,
   "id": "fa260574",
   "metadata": {},
   "outputs": [],
   "source": [
    "# Ugyanez igaz akkor is, ha a tuple egy list elem"
   ]
  },
  {
   "cell_type": "code",
   "execution_count": 92,
   "id": "fe9dc4ae",
   "metadata": {},
   "outputs": [
    {
     "data": {
      "text/plain": [
       "[2, 4, ['alma', True, 'alma'], ('paprika', 'narancs')]"
      ]
     },
     "execution_count": 92,
     "metadata": {},
     "output_type": "execute_result"
    }
   ],
   "source": [
    "d"
   ]
  },
  {
   "cell_type": "code",
   "execution_count": 93,
   "id": "28395ca4",
   "metadata": {},
   "outputs": [],
   "source": [
    "d[3] = ('paradicsom','hagyma')"
   ]
  },
  {
   "cell_type": "code",
   "execution_count": 94,
   "id": "8fe67bc9",
   "metadata": {},
   "outputs": [
    {
     "data": {
      "text/plain": [
       "[2, 4, ['alma', True, 'alma'], ('paradicsom', 'hagyma')]"
      ]
     },
     "execution_count": 94,
     "metadata": {},
     "output_type": "execute_result"
    }
   ],
   "source": [
    "d"
   ]
  },
  {
   "cell_type": "code",
   "execution_count": 95,
   "id": "915e3489",
   "metadata": {},
   "outputs": [],
   "source": [
    "# De ha a külső objektum egy tuple, annak az elemei nem módosíthatók, kivéve ha az adott elem egy ú.n. mutable object, mint a lista"
   ]
  },
  {
   "cell_type": "code",
   "execution_count": 96,
   "id": "e934aa50",
   "metadata": {},
   "outputs": [
    {
     "data": {
      "text/plain": [
       "(3, 'alma', [2, 5, 6])"
      ]
     },
     "execution_count": 96,
     "metadata": {},
     "output_type": "execute_result"
    }
   ],
   "source": [
    "c"
   ]
  },
  {
   "cell_type": "code",
   "execution_count": 97,
   "id": "419d972b",
   "metadata": {},
   "outputs": [
    {
     "data": {
      "text/plain": [
       "[2, 5, 6]"
      ]
     },
     "execution_count": 97,
     "metadata": {},
     "output_type": "execute_result"
    }
   ],
   "source": [
    "c[2]"
   ]
  },
  {
   "cell_type": "code",
   "execution_count": 98,
   "id": "4566f58c",
   "metadata": {},
   "outputs": [],
   "source": [
    "c[2][1] = 3"
   ]
  },
  {
   "cell_type": "code",
   "execution_count": 99,
   "id": "fbd60a69",
   "metadata": {},
   "outputs": [
    {
     "data": {
      "text/plain": [
       "(3, 'alma', [2, 3, 6])"
      ]
     },
     "execution_count": 99,
     "metadata": {},
     "output_type": "execute_result"
    }
   ],
   "source": [
    "c"
   ]
  },
  {
   "cell_type": "code",
   "execution_count": 100,
   "id": "ff6aff90",
   "metadata": {},
   "outputs": [],
   "source": [
    "# De ezek már nem fognak működni:"
   ]
  },
  {
   "cell_type": "code",
   "execution_count": 101,
   "id": "21724559",
   "metadata": {},
   "outputs": [
    {
     "ename": "TypeError",
     "evalue": "'tuple' object does not support item assignment",
     "output_type": "error",
     "traceback": [
      "\u001b[0;31m---------------------------------------------------------------------------\u001b[0m",
      "\u001b[0;31mTypeError\u001b[0m                                 Traceback (most recent call last)",
      "\u001b[0;32m/tmp/ipykernel_9828/2137047556.py\u001b[0m in \u001b[0;36m<module>\u001b[0;34m\u001b[0m\n\u001b[0;32m----> 1\u001b[0;31m \u001b[0mc\u001b[0m\u001b[0;34m[\u001b[0m\u001b[0;36m2\u001b[0m\u001b[0;34m]\u001b[0m \u001b[0;34m=\u001b[0m \u001b[0;36m2\u001b[0m\u001b[0;34m\u001b[0m\u001b[0;34m\u001b[0m\u001b[0m\n\u001b[0m",
      "\u001b[0;31mTypeError\u001b[0m: 'tuple' object does not support item assignment"
     ]
    }
   ],
   "source": [
    "c[2] = 2"
   ]
  },
  {
   "cell_type": "code",
   "execution_count": 102,
   "id": "8e65f02c",
   "metadata": {},
   "outputs": [
    {
     "ename": "TypeError",
     "evalue": "'tuple' object does not support item assignment",
     "output_type": "error",
     "traceback": [
      "\u001b[0;31m---------------------------------------------------------------------------\u001b[0m",
      "\u001b[0;31mTypeError\u001b[0m                                 Traceback (most recent call last)",
      "\u001b[0;32m/tmp/ipykernel_9828/2460144158.py\u001b[0m in \u001b[0;36m<module>\u001b[0;34m\u001b[0m\n\u001b[0;32m----> 1\u001b[0;31m \u001b[0mc\u001b[0m\u001b[0;34m[\u001b[0m\u001b[0;36m1\u001b[0m\u001b[0;34m]\u001b[0m \u001b[0;34m=\u001b[0m \u001b[0;36m3\u001b[0m\u001b[0;34m\u001b[0m\u001b[0;34m\u001b[0m\u001b[0m\n\u001b[0m",
      "\u001b[0;31mTypeError\u001b[0m: 'tuple' object does not support item assignment"
     ]
    }
   ],
   "source": [
    "c[1] = 3"
   ]
  },
  {
   "cell_type": "markdown",
   "id": "e80df80a",
   "metadata": {},
   "source": [
    "## Set"
   ]
  },
  {
   "cell_type": "code",
   "execution_count": 103,
   "id": "090d9c0a",
   "metadata": {},
   "outputs": [],
   "source": [
    "# A set egy rendezetlen halmaz, ami egy adott elemet maximum egyszer tartalmaz. Kapcsos zárójelek között definiáljuk."
   ]
  },
  {
   "cell_type": "code",
   "execution_count": 104,
   "id": "fbfd5fc9",
   "metadata": {},
   "outputs": [],
   "source": [
    "e = {2, 3, 4, 'alma', 'körte'}"
   ]
  },
  {
   "cell_type": "code",
   "execution_count": 105,
   "id": "74620ce3",
   "metadata": {},
   "outputs": [
    {
     "data": {
      "text/plain": [
       "{2, 3, 4, 'alma', 'körte'}"
      ]
     },
     "execution_count": 105,
     "metadata": {},
     "output_type": "execute_result"
    }
   ],
   "source": [
    "e"
   ]
  },
  {
   "cell_type": "code",
   "execution_count": 106,
   "id": "a03ac6e5",
   "metadata": {},
   "outputs": [],
   "source": [
    "f = {2, 6, 3.4, 'alma', 'narancs'}"
   ]
  },
  {
   "cell_type": "code",
   "execution_count": 107,
   "id": "47176fe2",
   "metadata": {},
   "outputs": [
    {
     "data": {
      "text/plain": [
       "True"
      ]
     },
     "execution_count": 107,
     "metadata": {},
     "output_type": "execute_result"
    }
   ],
   "source": [
    "# Set elemek\n",
    "2 in e"
   ]
  },
  {
   "cell_type": "code",
   "execution_count": 108,
   "id": "50aa34a1",
   "metadata": {},
   "outputs": [
    {
     "data": {
      "text/plain": [
       "True"
      ]
     },
     "execution_count": 108,
     "metadata": {},
     "output_type": "execute_result"
    }
   ],
   "source": [
    "'alma' in e"
   ]
  },
  {
   "cell_type": "code",
   "execution_count": 109,
   "id": "bb7b3764",
   "metadata": {},
   "outputs": [
    {
     "data": {
      "text/plain": [
       "False"
      ]
     },
     "execution_count": 109,
     "metadata": {},
     "output_type": "execute_result"
    }
   ],
   "source": [
    "'narancs' in e"
   ]
  },
  {
   "cell_type": "code",
   "execution_count": 110,
   "id": "5e938ca1",
   "metadata": {},
   "outputs": [],
   "source": [
    "# Set bővítés"
   ]
  },
  {
   "cell_type": "code",
   "execution_count": 111,
   "id": "b6f66946",
   "metadata": {},
   "outputs": [],
   "source": [
    "e.add('narancs')"
   ]
  },
  {
   "cell_type": "code",
   "execution_count": 112,
   "id": "d632f7db",
   "metadata": {},
   "outputs": [
    {
     "data": {
      "text/plain": [
       "{2, 3, 4, 'alma', 'körte', 'narancs'}"
      ]
     },
     "execution_count": 112,
     "metadata": {},
     "output_type": "execute_result"
    }
   ],
   "source": [
    "e"
   ]
  },
  {
   "cell_type": "code",
   "execution_count": 113,
   "id": "3ac52157",
   "metadata": {},
   "outputs": [
    {
     "data": {
      "text/plain": [
       "True"
      ]
     },
     "execution_count": 113,
     "metadata": {},
     "output_type": "execute_result"
    }
   ],
   "source": [
    "'narancs' in e"
   ]
  },
  {
   "cell_type": "code",
   "execution_count": 114,
   "id": "9c9914ce",
   "metadata": {},
   "outputs": [],
   "source": [
    "# De minden elem csak egyszer"
   ]
  },
  {
   "cell_type": "code",
   "execution_count": 115,
   "id": "eb1050a0",
   "metadata": {},
   "outputs": [],
   "source": [
    "e.add(2)"
   ]
  },
  {
   "cell_type": "code",
   "execution_count": 116,
   "id": "2d513498",
   "metadata": {},
   "outputs": [
    {
     "data": {
      "text/plain": [
       "{2, 3, 4, 'alma', 'körte', 'narancs'}"
      ]
     },
     "execution_count": 116,
     "metadata": {},
     "output_type": "execute_result"
    }
   ],
   "source": [
    "e"
   ]
  },
  {
   "cell_type": "code",
   "execution_count": 117,
   "id": "c090ff45",
   "metadata": {},
   "outputs": [],
   "source": [
    "# Set műveletek"
   ]
  },
  {
   "cell_type": "code",
   "execution_count": 118,
   "id": "f8b7cb50",
   "metadata": {},
   "outputs": [
    {
     "data": {
      "text/plain": [
       "{2, 'alma', 'narancs'}"
      ]
     },
     "execution_count": 118,
     "metadata": {},
     "output_type": "execute_result"
    }
   ],
   "source": [
    "# Metszet\n",
    "e & f"
   ]
  },
  {
   "cell_type": "code",
   "execution_count": 119,
   "id": "da6a5c03",
   "metadata": {},
   "outputs": [
    {
     "data": {
      "text/plain": [
       "{2, 3, 3.4, 4, 6, 'alma', 'körte', 'narancs'}"
      ]
     },
     "execution_count": 119,
     "metadata": {},
     "output_type": "execute_result"
    }
   ],
   "source": [
    "# Unio\n",
    "e | f"
   ]
  },
  {
   "cell_type": "code",
   "execution_count": 120,
   "id": "f8ce8db1",
   "metadata": {},
   "outputs": [
    {
     "data": {
      "text/plain": [
       "{3, 4, 'körte'}"
      ]
     },
     "execution_count": 120,
     "metadata": {},
     "output_type": "execute_result"
    }
   ],
   "source": [
    "# Különbség\n",
    "e-f"
   ]
  },
  {
   "cell_type": "code",
   "execution_count": 121,
   "id": "10dd2c55",
   "metadata": {},
   "outputs": [
    {
     "data": {
      "text/plain": [
       "{3.4, 6}"
      ]
     },
     "execution_count": 121,
     "metadata": {},
     "output_type": "execute_result"
    }
   ],
   "source": [
    "f-e"
   ]
  },
  {
   "cell_type": "code",
   "execution_count": 122,
   "id": "6fa4a333",
   "metadata": {},
   "outputs": [
    {
     "ename": "TypeError",
     "evalue": "'set' object is not subscriptable",
     "output_type": "error",
     "traceback": [
      "\u001b[0;31m---------------------------------------------------------------------------\u001b[0m",
      "\u001b[0;31mTypeError\u001b[0m                                 Traceback (most recent call last)",
      "\u001b[0;32m/tmp/ipykernel_9828/675013487.py\u001b[0m in \u001b[0;36m<module>\u001b[0;34m\u001b[0m\n\u001b[1;32m      1\u001b[0m \u001b[0;31m# Set nem indexelhető, az elemeknek nincs sorrendje\u001b[0m\u001b[0;34m\u001b[0m\u001b[0;34m\u001b[0m\u001b[0;34m\u001b[0m\u001b[0m\n\u001b[0;32m----> 2\u001b[0;31m \u001b[0me\u001b[0m\u001b[0;34m[\u001b[0m\u001b[0;36m2\u001b[0m\u001b[0;34m]\u001b[0m\u001b[0;34m\u001b[0m\u001b[0;34m\u001b[0m\u001b[0m\n\u001b[0m",
      "\u001b[0;31mTypeError\u001b[0m: 'set' object is not subscriptable"
     ]
    }
   ],
   "source": [
    "# Set nem indexelhető, az elemeknek nincs sorrendje\n",
    "e[2]"
   ]
  },
  {
   "cell_type": "code",
   "execution_count": 123,
   "id": "4147fdc7",
   "metadata": {},
   "outputs": [
    {
     "data": {
      "text/plain": [
       "['körte', 2, 3, 4, 'alma', 'narancs']"
      ]
     },
     "execution_count": 123,
     "metadata": {},
     "output_type": "execute_result"
    }
   ],
   "source": [
    "# Set listté konvertálható, az elemek sorrendje véletlenszerű\n",
    "list(e)"
   ]
  },
  {
   "cell_type": "code",
   "execution_count": 124,
   "id": "b1bcc644",
   "metadata": {},
   "outputs": [],
   "source": [
    "# List setté alakítható, duplikált elemekből egy marad"
   ]
  },
  {
   "cell_type": "code",
   "execution_count": 125,
   "id": "7e32a9f1",
   "metadata": {},
   "outputs": [
    {
     "data": {
      "text/plain": [
       "[2, 3, 5, 6.2, 7]"
      ]
     },
     "execution_count": 125,
     "metadata": {},
     "output_type": "execute_result"
    }
   ],
   "source": [
    "a"
   ]
  },
  {
   "cell_type": "code",
   "execution_count": 126,
   "id": "05fce2b6",
   "metadata": {},
   "outputs": [],
   "source": [
    "a.append(2)"
   ]
  },
  {
   "cell_type": "code",
   "execution_count": 127,
   "id": "5db3c042",
   "metadata": {},
   "outputs": [
    {
     "data": {
      "text/plain": [
       "[2, 3, 5, 6.2, 7, 2]"
      ]
     },
     "execution_count": 127,
     "metadata": {},
     "output_type": "execute_result"
    }
   ],
   "source": [
    "a"
   ]
  },
  {
   "cell_type": "code",
   "execution_count": 128,
   "id": "ddf902e3",
   "metadata": {},
   "outputs": [
    {
     "data": {
      "text/plain": [
       "{2, 3, 5, 6.2, 7}"
      ]
     },
     "execution_count": 128,
     "metadata": {},
     "output_type": "execute_result"
    }
   ],
   "source": [
    "set(a)"
   ]
  },
  {
   "cell_type": "code",
   "execution_count": 129,
   "id": "2f71b0a7",
   "metadata": {},
   "outputs": [
    {
     "data": {
      "text/plain": [
       "[2, 3, 5, 6.2, 7]"
      ]
     },
     "execution_count": 129,
     "metadata": {},
     "output_type": "execute_result"
    }
   ],
   "source": [
    "# Duplikált elemek egyszerűen eltávolíthatók\n",
    "list(set(a))"
   ]
  },
  {
   "cell_type": "markdown",
   "id": "80b855ad",
   "metadata": {},
   "source": [
    "## Dictionary"
   ]
  },
  {
   "cell_type": "code",
   "execution_count": 130,
   "id": "9c099477",
   "metadata": {},
   "outputs": [],
   "source": [
    "# Key - value párok definiálására szolgál, integer indexek helyett a key az index amivel a value-ra hivatkozunk. Kapcsos zárójelek között key:value felsorolásokkal definiáljuk"
   ]
  },
  {
   "cell_type": "code",
   "execution_count": 131,
   "id": "6099f283",
   "metadata": {},
   "outputs": [],
   "source": [
    "mydict = {'alma':'piros','dinnye':'sárga','uborka':'zöld'}"
   ]
  },
  {
   "cell_type": "code",
   "execution_count": 132,
   "id": "0fb2db72",
   "metadata": {},
   "outputs": [
    {
     "data": {
      "text/plain": [
       "'piros'"
      ]
     },
     "execution_count": 132,
     "metadata": {},
     "output_type": "execute_result"
    }
   ],
   "source": [
    "mydict['alma']"
   ]
  },
  {
   "cell_type": "code",
   "execution_count": 133,
   "id": "b7b4f13f",
   "metadata": {},
   "outputs": [],
   "source": [
    "# Új elem hozzáadása\n",
    "mydict['szilva'] = 'lila'"
   ]
  },
  {
   "cell_type": "code",
   "execution_count": 134,
   "id": "b326055d",
   "metadata": {},
   "outputs": [
    {
     "data": {
      "text/plain": [
       "{'alma': 'piros', 'dinnye': 'sárga', 'uborka': 'zöld', 'szilva': 'lila'}"
      ]
     },
     "execution_count": 134,
     "metadata": {},
     "output_type": "execute_result"
    }
   ],
   "source": [
    "mydict"
   ]
  },
  {
   "cell_type": "code",
   "execution_count": 135,
   "id": "b2fd0192",
   "metadata": {},
   "outputs": [],
   "source": [
    "# Key és value bármilyen objektum lehet\n",
    "mydict[3] = True"
   ]
  },
  {
   "cell_type": "code",
   "execution_count": 136,
   "id": "18d9ab69",
   "metadata": {},
   "outputs": [
    {
     "data": {
      "text/plain": [
       "{'alma': 'piros',\n",
       " 'dinnye': 'sárga',\n",
       " 'uborka': 'zöld',\n",
       " 'szilva': 'lila',\n",
       " 3: True}"
      ]
     },
     "execution_count": 136,
     "metadata": {},
     "output_type": "execute_result"
    }
   ],
   "source": [
    "mydict"
   ]
  },
  {
   "cell_type": "code",
   "execution_count": 137,
   "id": "ed6707a3",
   "metadata": {},
   "outputs": [],
   "source": [
    "mydict['randomlista'] = [2, 3, 4, 5]"
   ]
  },
  {
   "cell_type": "code",
   "execution_count": 138,
   "id": "876457cc",
   "metadata": {},
   "outputs": [
    {
     "data": {
      "text/plain": [
       "{'alma': 'piros',\n",
       " 'dinnye': 'sárga',\n",
       " 'uborka': 'zöld',\n",
       " 'szilva': 'lila',\n",
       " 3: True,\n",
       " 'randomlista': [2, 3, 4, 5]}"
      ]
     },
     "execution_count": 138,
     "metadata": {},
     "output_type": "execute_result"
    }
   ],
   "source": [
    "mydict"
   ]
  },
  {
   "cell_type": "code",
   "execution_count": 139,
   "id": "6d7e856d",
   "metadata": {},
   "outputs": [],
   "source": [
    "piac = {'alma':{'ár':500,'osztály':1},'narancs':{'ár':800,'osztály':2}}"
   ]
  },
  {
   "cell_type": "code",
   "execution_count": 140,
   "id": "8b5d8423",
   "metadata": {},
   "outputs": [
    {
     "data": {
      "text/plain": [
       "500"
      ]
     },
     "execution_count": 140,
     "metadata": {},
     "output_type": "execute_result"
    }
   ],
   "source": [
    "piac['alma']['ár']"
   ]
  },
  {
   "cell_type": "code",
   "execution_count": 141,
   "id": "cc067967",
   "metadata": {},
   "outputs": [],
   "source": [
    "# Dictionary-k update-elhetők egymással"
   ]
  },
  {
   "cell_type": "code",
   "execution_count": 142,
   "id": "65d1d85e",
   "metadata": {},
   "outputs": [],
   "source": [
    "ujpiac = {'alma':{'ár':400,'osztály':2},'paprika':{'ár':400,'osztály':2}}"
   ]
  },
  {
   "cell_type": "code",
   "execution_count": 143,
   "id": "ceb1c0e9",
   "metadata": {},
   "outputs": [],
   "source": [
    "piac.update(ujpiac)"
   ]
  },
  {
   "cell_type": "code",
   "execution_count": 144,
   "id": "9bbcb894",
   "metadata": {},
   "outputs": [
    {
     "data": {
      "text/plain": [
       "{'alma': {'ár': 400, 'osztály': 2},\n",
       " 'narancs': {'ár': 800, 'osztály': 2},\n",
       " 'paprika': {'ár': 400, 'osztály': 2}}"
      ]
     },
     "execution_count": 144,
     "metadata": {},
     "output_type": "execute_result"
    }
   ],
   "source": [
    "piac"
   ]
  }
 ],
 "metadata": {
  "authors": [
   {
    "name": "Oliver Kiss\\\\Central European University"
   }
  ],
  "kernelspec": {
   "display_name": "Python 3 (ipykernel)",
   "language": "python",
   "name": "python3"
  },
  "language_info": {
   "codemirror_mode": {
    "name": "ipython",
    "version": 3
   },
   "file_extension": ".py",
   "mimetype": "text/x-python",
   "name": "python",
   "nbconvert_exporter": "python",
   "pygments_lexer": "ipython3",
   "version": "3.7.3"
  },
  "title": "List, Tuple, Set és Dict"
 },
 "nbformat": 4,
 "nbformat_minor": 5
}
