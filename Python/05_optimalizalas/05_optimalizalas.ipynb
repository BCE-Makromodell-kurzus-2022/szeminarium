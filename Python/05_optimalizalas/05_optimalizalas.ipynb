{
 "cells": [
  {
   "cell_type": "markdown",
   "id": "7aed3352",
   "metadata": {},
   "source": [
    "# Optimalizálás"
   ]
  },
  {
   "cell_type": "code",
   "execution_count": 1,
   "id": "9f225b86",
   "metadata": {},
   "outputs": [],
   "source": [
    "# Pythonban a scipy csomag kínál optimalizálási megoldásokat"
   ]
  },
  {
   "cell_type": "code",
   "execution_count": 2,
   "id": "38903b74",
   "metadata": {},
   "outputs": [],
   "source": [
    "# Csomagot importálni az import paranccsal lehet"
   ]
  },
  {
   "cell_type": "code",
   "execution_count": 3,
   "id": "c5070144",
   "metadata": {},
   "outputs": [],
   "source": [
    "# Példa: a math csomag\n",
    "import math"
   ]
  },
  {
   "cell_type": "code",
   "execution_count": 4,
   "id": "dee589a7",
   "metadata": {},
   "outputs": [
    {
     "data": {
      "text/plain": [
       "3.141592653589793"
      ]
     },
     "execution_count": 4,
     "metadata": {},
     "output_type": "execute_result"
    }
   ],
   "source": [
    "math.pi"
   ]
  },
  {
   "cell_type": "code",
   "execution_count": 5,
   "id": "b09ab346",
   "metadata": {},
   "outputs": [],
   "source": [
    "# Ha csak a csomag egy elemére van szükség, importálhatjuk azt külön"
   ]
  },
  {
   "cell_type": "code",
   "execution_count": 6,
   "id": "cbbe87d6",
   "metadata": {},
   "outputs": [],
   "source": [
    "from math import pi"
   ]
  },
  {
   "cell_type": "code",
   "execution_count": 7,
   "id": "6e2ee875",
   "metadata": {},
   "outputs": [
    {
     "data": {
      "text/plain": [
       "3.141592653589793"
      ]
     },
     "execution_count": 7,
     "metadata": {},
     "output_type": "execute_result"
    }
   ],
   "source": [
    "pi"
   ]
  },
  {
   "cell_type": "code",
   "execution_count": 8,
   "id": "16979dff",
   "metadata": {},
   "outputs": [],
   "source": [
    "# Optimalizációhoz az fsolve függvényre lesz szükségünk\n",
    "from scipy.optimize import fsolve"
   ]
  },
  {
   "cell_type": "code",
   "execution_count": 9,
   "id": "f6a6ca6c",
   "metadata": {},
   "outputs": [
    {
     "data": {
      "text/plain": [
       "array([-2.])"
      ]
     },
     "execution_count": 9,
     "metadata": {},
     "output_type": "execute_result"
    }
   ],
   "source": [
    "# Az fsolve megkeresi azt az input értéket, amelyre a függvény eredménye nulla. Példa:\n",
    "def fun1(x):\n",
    "    return x+2\n",
    "\n",
    "# Az fsolve iteratív, szüksége van egy induló értékre ahonnan kezdve keres, ez a 2. argumentuma\n",
    "fsolve(fun1, 1)"
   ]
  },
  {
   "cell_type": "code",
   "execution_count": 10,
   "id": "6ec397a7",
   "metadata": {},
   "outputs": [],
   "source": [
    "# Az fsolve valójában több eredményt is visszaadhat:\n",
    "x, infodict, flag, msg = fsolve(fun1, 1, full_output=True)"
   ]
  },
  {
   "cell_type": "code",
   "execution_count": 11,
   "id": "a6b81fed",
   "metadata": {},
   "outputs": [
    {
     "data": {
      "text/plain": [
       "{'nfev': 4,\n",
       " 'fjac': array([[-1.]]),\n",
       " 'r': array([-1.]),\n",
       " 'qtf': array([6.54365451e-12]),\n",
       " 'fvec': array([0.])}"
      ]
     },
     "execution_count": 11,
     "metadata": {},
     "output_type": "execute_result"
    }
   ],
   "source": [
    "infodict"
   ]
  },
  {
   "cell_type": "code",
   "execution_count": 12,
   "id": "19f7b399",
   "metadata": {},
   "outputs": [
    {
     "data": {
      "text/plain": [
       "1"
      ]
     },
     "execution_count": 12,
     "metadata": {},
     "output_type": "execute_result"
    }
   ],
   "source": [
    "flag"
   ]
  },
  {
   "cell_type": "code",
   "execution_count": 13,
   "id": "6be66afe",
   "metadata": {},
   "outputs": [
    {
     "data": {
      "text/plain": [
       "'The solution converged.'"
      ]
     },
     "execution_count": 13,
     "metadata": {},
     "output_type": "execute_result"
    }
   ],
   "source": [
    "msg"
   ]
  },
  {
   "cell_type": "code",
   "execution_count": 14,
   "id": "59abe737",
   "metadata": {},
   "outputs": [],
   "source": [
    "# Ez akkor fontos, ha nincs megoldás. Pl:\n",
    "def fun2(x):\n",
    "    return x**2+1"
   ]
  },
  {
   "cell_type": "code",
   "execution_count": 15,
   "id": "c1278c41",
   "metadata": {},
   "outputs": [
    {
     "name": "stderr",
     "output_type": "stream",
     "text": [
      "/home/kisso/.local/lib/python3.7/site-packages/scipy/optimize/minpack.py:175: RuntimeWarning: The iteration is not making good progress, as measured by the \n",
      "  improvement from the last ten iterations.\n",
      "  warnings.warn(msg, RuntimeWarning)\n"
     ]
    },
    {
     "data": {
      "text/plain": [
       "array([-2.18114415e-12])"
      ]
     },
     "execution_count": 15,
     "metadata": {},
     "output_type": "execute_result"
    }
   ],
   "source": [
    "fsolve(fun2, 1)"
   ]
  },
  {
   "cell_type": "code",
   "execution_count": 16,
   "id": "1947e4d3",
   "metadata": {},
   "outputs": [
    {
     "data": {
      "text/plain": [
       "(array([-2.18114415e-12]),\n",
       " {'nfev': 14,\n",
       "  'fjac': array([[1.]]),\n",
       "  'r': array([-0.0078125]),\n",
       "  'qtf': array([1.]),\n",
       "  'fvec': array([1.])},\n",
       " 5,\n",
       " 'The iteration is not making good progress, as measured by the \\n  improvement from the last ten iterations.')"
      ]
     },
     "execution_count": 16,
     "metadata": {},
     "output_type": "execute_result"
    }
   ],
   "source": [
    "fsolve(fun2, 1, full_output=True)"
   ]
  },
  {
   "cell_type": "code",
   "execution_count": 17,
   "id": "7726f90d",
   "metadata": {},
   "outputs": [],
   "source": [
    "# Kezdőérték számít. A háttérben egy gradiens alapú algoritmus fut, így konvergál 0-hoz. Több megoldás esetén a kezdőértéken múlhat a kapott megoldás."
   ]
  },
  {
   "cell_type": "code",
   "execution_count": 18,
   "id": "058501b3",
   "metadata": {},
   "outputs": [],
   "source": [
    "def fun3(x):\n",
    "    return x**2-4"
   ]
  },
  {
   "cell_type": "code",
   "execution_count": 19,
   "id": "1b38e669",
   "metadata": {},
   "outputs": [
    {
     "data": {
      "text/plain": [
       "array([-2.])"
      ]
     },
     "execution_count": 19,
     "metadata": {},
     "output_type": "execute_result"
    }
   ],
   "source": [
    "fsolve(fun3,-5)"
   ]
  },
  {
   "cell_type": "code",
   "execution_count": 20,
   "id": "3fcb6dfb",
   "metadata": {},
   "outputs": [
    {
     "data": {
      "text/plain": [
       "array([2.])"
      ]
     },
     "execution_count": 20,
     "metadata": {},
     "output_type": "execute_result"
    }
   ],
   "source": [
    "fsolve(fun3,5)"
   ]
  },
  {
   "cell_type": "code",
   "execution_count": 21,
   "id": "a4c29d19",
   "metadata": {},
   "outputs": [
    {
     "data": {
      "text/plain": [
       "(array([0.]),\n",
       " {'nfev': 13,\n",
       "  'fjac': array([[-1.]]),\n",
       "  'r': array([6.50031613e-20]),\n",
       "  'qtf': array([4.]),\n",
       "  'fvec': array([-4.])},\n",
       " 5,\n",
       " 'The iteration is not making good progress, as measured by the \\n  improvement from the last ten iterations.')"
      ]
     },
     "execution_count": 21,
     "metadata": {},
     "output_type": "execute_result"
    }
   ],
   "source": [
    "# Ha 0 gradiensű pontból indulunk, az gondot jelenthet\n",
    "fsolve(fun3,0, full_output=True)"
   ]
  },
  {
   "cell_type": "code",
   "execution_count": 22,
   "id": "427a0143",
   "metadata": {},
   "outputs": [],
   "source": [
    "# Lokális minimumok bajokat okozhatnak: x^3-3x^2-9x+40\n",
    "def fun4(x):\n",
    "    return x**3-3*x**2-9*x+40"
   ]
  },
  {
   "cell_type": "code",
   "execution_count": 23,
   "id": "a549b3e4",
   "metadata": {},
   "outputs": [
    {
     "data": {
      "text/plain": [
       "(array([2.99577456]),\n",
       " {'nfev': 15,\n",
       "  'fjac': array([[-1.]]),\n",
       "  'r': array([-0.00791365]),\n",
       "  'qtf': array([-13.00010705]),\n",
       "  'fvec': array([13.00010705])},\n",
       " 5,\n",
       " 'The iteration is not making good progress, as measured by the \\n  improvement from the last ten iterations.')"
      ]
     },
     "execution_count": 23,
     "metadata": {},
     "output_type": "execute_result"
    }
   ],
   "source": [
    "fsolve(fun4, 5, full_output=True)"
   ]
  },
  {
   "cell_type": "code",
   "execution_count": 24,
   "id": "2993b4b5",
   "metadata": {},
   "outputs": [
    {
     "data": {
      "text/plain": [
       "(array([-3.32495856]),\n",
       " {'nfev': 9,\n",
       "  'fjac': array([[-1.]]),\n",
       "  'r': array([-44.11586575]),\n",
       "  'qtf': array([5.8498685e-08]),\n",
       "  'fvec': array([-9.9475983e-14])},\n",
       " 1,\n",
       " 'The solution converged.')"
      ]
     },
     "execution_count": 24,
     "metadata": {},
     "output_type": "execute_result"
    }
   ],
   "source": [
    "# Olyan kezdőértéket kell adni, ami várhatóan közel van a tényleges megoldáshoz.\n",
    "fsolve(fun4, -5, full_output=True)"
   ]
  },
  {
   "cell_type": "code",
   "execution_count": 25,
   "id": "3088880b",
   "metadata": {},
   "outputs": [],
   "source": [
    "# Konvex problémák gradiense monoton, így jellemzően nincs probléma a szélsőértékhelyek megtalálásával."
   ]
  },
  {
   "cell_type": "markdown",
   "id": "5d010016",
   "metadata": {},
   "source": [
    "# Egyenletrendszerek"
   ]
  },
  {
   "cell_type": "code",
   "execution_count": 26,
   "id": "d3a6d2b2",
   "metadata": {},
   "outputs": [],
   "source": [
    "# Az fsolve több input és output változót is kezel. Pl: x+y=5, x^2+y^2=17"
   ]
  },
  {
   "cell_type": "code",
   "execution_count": 27,
   "id": "8fdd95b6",
   "metadata": {},
   "outputs": [],
   "source": [
    "def fun4(inputlist):\n",
    "    x = inputlist[0]\n",
    "    y = inputlist[1]\n",
    "    a = x+y-5\n",
    "    b = x**2+y**2-17\n",
    "    return [a, b]"
   ]
  },
  {
   "cell_type": "code",
   "execution_count": 28,
   "id": "10f0c3e8",
   "metadata": {},
   "outputs": [
    {
     "data": {
      "text/plain": [
       "array([1., 4.])"
      ]
     },
     "execution_count": 28,
     "metadata": {},
     "output_type": "execute_result"
    }
   ],
   "source": [
    "fsolve(fun4, [3, 3])"
   ]
  },
  {
   "cell_type": "code",
   "execution_count": 29,
   "id": "bf13848f",
   "metadata": {},
   "outputs": [
    {
     "data": {
      "text/plain": [
       "array([1., 4.])"
      ]
     },
     "execution_count": 29,
     "metadata": {},
     "output_type": "execute_result"
    }
   ],
   "source": [
    "# Kezdőérték itt is számít:\n",
    "fsolve(fun4, [0, 5])"
   ]
  },
  {
   "cell_type": "code",
   "execution_count": 30,
   "id": "0f5e2437",
   "metadata": {},
   "outputs": [
    {
     "data": {
      "text/plain": [
       "array([4., 1.])"
      ]
     },
     "execution_count": 30,
     "metadata": {},
     "output_type": "execute_result"
    }
   ],
   "source": [
    "fsolve(fun4, [5, 0])"
   ]
  }
 ],
 "metadata": {
  "authors": [
   {
    "name": "Oliver Kiss\\\\Central European University"
   }
  ],
  "kernelspec": {
   "display_name": "Python 3 (ipykernel)",
   "language": "python",
   "name": "python3"
  },
  "language_info": {
   "codemirror_mode": {
    "name": "ipython",
    "version": 3
   },
   "file_extension": ".py",
   "mimetype": "text/x-python",
   "name": "python",
   "nbconvert_exporter": "python",
   "pygments_lexer": "ipython3",
   "version": "3.9.2"
  },
  "title": "Optimalizálás"
 },
 "nbformat": 4,
 "nbformat_minor": 5
}
