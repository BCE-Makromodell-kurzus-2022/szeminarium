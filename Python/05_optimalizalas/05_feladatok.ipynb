{
 "cells": [
  {
   "cell_type": "markdown",
   "id": "87f3fa64",
   "metadata": {},
   "source": [
    "# Egy ket idoszakig elo fogyaszto elso idoszaki jovedelme 100 egyseg, masodik idoszaki jovedelme 120 egyseg. A fogyaszto mindket idoszakban 109.87 egyseget fogyaszt. Milyen kamatlab mellett all elo a fenti egysensuly?"
   ]
  },
  {
   "cell_type": "markdown",
   "id": "87eef660",
   "metadata": {},
   "source": [
    "# Egy gazdasagban a termelesi fuggveny Cobb-Douglas, a teljes termelekenyseg 1.7. Ha a tokeallomany 100 egyseg, a munkaallomany 200 egyseg, a teljes termeles erteke 180 egyseg. Mekkora a reprezentativ vallalat teljes tokekoltsege?"
   ]
  },
  {
   "cell_type": "markdown",
   "id": "07fc6fd2",
   "metadata": {},
   "source": [
    "# Egy RBC gazdasagban (eredeti, nem linearizalt modell) allandosult allapotban a kibocsatas 130 egyseg. A teljes termelekenyseg 1.2, a termelesi fuggveny Cobb-Douglas. Az egyensulyi munkaallomany 70 egyseg, a toke realberleti dija 0.2 egyseg. A termelesi es a tokekeresleti fuggveny felhasznalasaval hatarozd meg az egyensulyi tokeallomanyt es a tokekoltseg aranyat."
   ]
  },
  {
   "cell_type": "markdown",
   "id": "f87b1916",
   "metadata": {},
   "source": [
    "# Az alábbiakat ismerjük egy végtelen időszakig működő RBC gazdaságról:\n",
    "\n",
    "- ß=0.97, az amortizációs ráta 3 százalék.\n",
    "- A termelési függvény Cobb-Douglas, a teljes termelékenység 1.4, a tőkejavakra fordított kiadások a vállalat teljes költségének 38 százalékát teszik ki.\n",
    "- Állandósult állapotban a munkakínálat w/C=L^0.4 alakú.\n",
    "- A gazdaság állandósult állapotban van. Hatarozd meg a termeles erteket allandosult allapotban."
   ]
  }
 ],
 "metadata": {
  "authors": [
   {
    "name": "Oliver Kiss\\\\Central European University"
   }
  ],
  "kernelspec": {
   "display_name": "Python 3 (ipykernel)",
   "language": "python",
   "name": "python3"
  },
  "language_info": {
   "codemirror_mode": {
    "name": "ipython",
    "version": 3
   },
   "file_extension": ".py",
   "mimetype": "text/x-python",
   "name": "python",
   "nbconvert_exporter": "python",
   "pygments_lexer": "ipython3",
   "version": "3.9.2"
  },
  "title": "Optimalizalas - Feladatok"
 },
 "nbformat": 4,
 "nbformat_minor": 5
}
