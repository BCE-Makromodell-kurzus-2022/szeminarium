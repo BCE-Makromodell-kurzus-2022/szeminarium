{
 "cells": [
  {
   "cell_type": "markdown",
   "id": "b5c7e738",
   "metadata": {},
   "source": [
    "Egy ket idoszakig elo fogyaszto elso idoszaki jovedelme 100 egyseg, masodik idoszaki jovedelme 120 egyseg. A fogyaszto mindket idoszakban 109.87 egyseget fogyaszt. Milyen kamatlab mellett all elo a fenti egysensuly?"
   ]
  },
  {
   "cell_type": "code",
   "execution_count": 1,
   "id": "dc37d613",
   "metadata": {},
   "outputs": [
    {
     "data": {
      "text/plain": [
       "array([0.02634245])"
      ]
     },
     "execution_count": 1,
     "metadata": {},
     "output_type": "execute_result"
    }
   ],
   "source": [
    "from scipy.optimize import fsolve\n",
    "def koltsegvetes(r):\n",
    "    return 100+120/(1+r)-109.87-109.87/(1+r)\n",
    "\n",
    "fsolve(koltsegvetes, 0)"
   ]
  },
  {
   "cell_type": "markdown",
   "id": "14079414",
   "metadata": {},
   "source": [
    "Egy gazdasagban a termelesi fuggveny Cobb-Douglas, a teljes termelekenyseg 1.7. Ha a tokeallomany 100 egyseg, a munkaallomany 200 egyseg, a teljes termeles erteke 180 egyseg. Mekkora a reprezentativ vallalat teljes tokekoltsege?"
   ]
  },
  {
   "cell_type": "code",
   "execution_count": 2,
   "id": "b362be02",
   "metadata": {},
   "outputs": [
    {
     "data": {
      "text/plain": [
       "76.11199274593858"
      ]
     },
     "execution_count": 2,
     "metadata": {},
     "output_type": "execute_result"
    }
   ],
   "source": [
    "def termeles(a):\n",
    "    return 200-1.7*100**a*130**(1-a)\n",
    "\n",
    "fsolve(termeles, 0.2)[0]*200"
   ]
  },
  {
   "cell_type": "markdown",
   "id": "fd471d9c",
   "metadata": {},
   "source": [
    "Egy RBC gazdasagban (eredeti, nem linearizalt modell) allandosult allapotban a kibocsatas 130 egyseg. A teljes termelekenyseg 1.2, a termelesi fuggveny Cobb-Douglas. Az egyensulyi munkaallomany 70 egyseg, a toke realberleti dija 0.2 egyseg. A termelesi es a tokekeresleti fuggveny felhasznalasaval hatarozd meg az egyensulyi tokeallomanyt es a tokekoltseg aranyat."
   ]
  },
  {
   "cell_type": "code",
   "execution_count": 3,
   "id": "dde182b2",
   "metadata": {},
   "outputs": [
    {
     "data": {
      "text/plain": [
       "array([234.66533306,   0.36102359])"
      ]
     },
     "execution_count": 3,
     "metadata": {},
     "output_type": "execute_result"
    }
   ],
   "source": [
    "def rbc(val):\n",
    "    K = val[0]\n",
    "    a = val[1]\n",
    "    eq1=130-1.2*K**a*70**(1-a)\n",
    "    eq2=0.2-a*130/K\n",
    "    return [eq1, eq2]\n",
    "\n",
    "fsolve(rbc, [130, 0.5])"
   ]
  },
  {
   "cell_type": "markdown",
   "id": "4dd2a36e",
   "metadata": {},
   "source": [
    "Az alábbiakat ismerjük egy végtelen időszakig működő RBC gazdaságról:\n",
    "\n",
    "ß=0.97, az amortizációs ráta 3 százalék.\n",
    "A termelési függvény Cobb-Douglas, a teljes termelékenység 1.4, a tőkejavakra fordított kiadások a vállalat teljes költségének 38 százalékát teszik ki.\n",
    "Állandósult állapotban a munkakínálat w/C=L^0.4 alakú.\n",
    "A gazdaság állandósult állapotban van. Hatarozd meg a termeles erteket allandosult allapotban."
   ]
  },
  {
   "cell_type": "code",
   "execution_count": 4,
   "id": "01e64389",
   "metadata": {},
   "outputs": [
    {
     "name": "stdout",
     "output_type": "stream",
     "text": [
      "3.9001352664177156\n"
     ]
    }
   ],
   "source": [
    "from scipy.optimize import fsolve\n",
    "\n",
    "def rbc(variables):\n",
    "    K, L= variables\n",
    "    r = 1/0.97-1\n",
    "    d = 0.03\n",
    "    rk = r+d\n",
    "    e = [\n",
    "        1.4*K**0.38*L**0.62-(1.2*0.62*(K/L)**0.38)/L**0.4-d*K,\n",
    "        1.4*0.38*(L/K)**0.62-rk\n",
    "    ]\n",
    "    return e\n",
    "\n",
    "K, L = fsolve(rbc,[5,1])\n",
    "print(1.4*K**0.38*L**0.62)"
   ]
  }
 ],
 "metadata": {
  "authors": [
   {
    "name": "Oliver Kiss\\\\Central European University"
   }
  ],
  "kernelspec": {
   "display_name": "Python 3 (ipykernel)",
   "language": "python",
   "name": "python3"
  },
  "language_info": {
   "codemirror_mode": {
    "name": "ipython",
    "version": 3
   },
   "file_extension": ".py",
   "mimetype": "text/x-python",
   "name": "python",
   "nbconvert_exporter": "python",
   "pygments_lexer": "ipython3",
   "version": "3.9.2"
  },
  "title": "Optimalizalas - Megoldasok"
 },
 "nbformat": 4,
 "nbformat_minor": 5
}
